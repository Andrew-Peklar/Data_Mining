{
 "cells": [
  {
   "cell_type": "markdown",
   "metadata": {},
   "source": [
    "** *\n",
    "# 1. Preprocessing"
   ]
  },
  {
   "cell_type": "markdown",
   "metadata": {},
   "source": [
    "** *\n",
    "### Import data"
   ]
  },
  {
   "cell_type": "code",
   "execution_count": 1,
   "metadata": {
    "collapsed": true
   },
   "outputs": [],
   "source": [
    "#load the tweet file\n",
    "import pandas as pd\n",
    "user_cols = ['Name', 'ScreenName', 'UserID', 'FollowersCount', 'FriendsCount','Location','Description','CreatedAt','StatusID', 'Language', 'Place','RetweetCount','FavoriteCount','Text']\n",
    "df = pd.read_csv('clinton_trump_tweets.txt', sep ='\\t', encoding = \"ISO-8859-1\", header  = None, names = user_cols)\n",
    "df.sort_values(by = ['UserID'], inplace = True)\n",
    "df.shape\n",
    "\n",
    "pd.set_option('display.max_colwidth', -1)"
   ]
  },
  {
   "cell_type": "markdown",
   "metadata": {},
   "source": [
    "** *\n",
    "### Drop unuseful columns and remove retweets"
   ]
  },
  {
   "cell_type": "code",
   "execution_count": 2,
   "metadata": {
    "collapsed": true
   },
   "outputs": [],
   "source": [
    "df.drop(['Name', 'ScreenName', 'Location','Description','CreatedAt','StatusID','Language','Place','RetweetCount','FavoriteCount','FollowersCount','FriendsCount'], axis=1, inplace=True)"
   ]
  },
  {
   "cell_type": "code",
   "execution_count": 3,
   "metadata": {
    "collapsed": true
   },
   "outputs": [],
   "source": [
    "df = df[df.Text.str.startswith('RT') == False]"
   ]
  },
  {
   "cell_type": "markdown",
   "metadata": {},
   "source": [
    "** *\n",
    "### Create a “basket” for each tweet that contains at least one hashtag or handle"
   ]
  },
  {
   "cell_type": "code",
   "execution_count": 4,
   "metadata": {
    "collapsed": true
   },
   "outputs": [],
   "source": [
    "import re\n",
    "df['HH'] = df.Text.apply(lambda x : re.findall('(?:^|\\s)([#|@]{1}\\w+)', x))"
   ]
  },
  {
   "cell_type": "code",
   "execution_count": 5,
   "metadata": {},
   "outputs": [
    {
     "data": {
      "text/html": [
       "<div>\n",
       "<style>\n",
       "    .dataframe thead tr:only-child th {\n",
       "        text-align: right;\n",
       "    }\n",
       "\n",
       "    .dataframe thead th {\n",
       "        text-align: left;\n",
       "    }\n",
       "\n",
       "    .dataframe tbody tr th {\n",
       "        vertical-align: top;\n",
       "    }\n",
       "</style>\n",
       "<table border=\"1\" class=\"dataframe\">\n",
       "  <thead>\n",
       "    <tr style=\"text-align: right;\">\n",
       "      <th></th>\n",
       "      <th>UserID</th>\n",
       "      <th>HH</th>\n",
       "    </tr>\n",
       "  </thead>\n",
       "  <tbody>\n",
       "    <tr>\n",
       "      <th>1767378</th>\n",
       "      <td>150</td>\n",
       "      <td>[@iano, @thatstacy]</td>\n",
       "    </tr>\n",
       "    <tr>\n",
       "      <th>668327</th>\n",
       "      <td>150</td>\n",
       "      <td>[@nelson, @fjordinn]</td>\n",
       "    </tr>\n",
       "    <tr>\n",
       "      <th>4915364</th>\n",
       "      <td>150</td>\n",
       "      <td>[@gwestr]</td>\n",
       "    </tr>\n",
       "    <tr>\n",
       "      <th>697413</th>\n",
       "      <td>150</td>\n",
       "      <td>[@shinypb]</td>\n",
       "    </tr>\n",
       "    <tr>\n",
       "      <th>709152</th>\n",
       "      <td>150</td>\n",
       "      <td>[@fjordinn]</td>\n",
       "    </tr>\n",
       "  </tbody>\n",
       "</table>\n",
       "</div>"
      ],
      "text/plain": [
       "         UserID                    HH\n",
       "1767378  150     [@iano, @thatstacy] \n",
       "668327   150     [@nelson, @fjordinn]\n",
       "4915364  150     [@gwestr]           \n",
       "697413   150     [@shinypb]          \n",
       "709152   150     [@fjordinn]         "
      ]
     },
     "execution_count": 5,
     "metadata": {},
     "output_type": "execute_result"
    }
   ],
   "source": [
    "# Drop the 'Text' Coloumn\n",
    "df.drop(['Text'],axis = 1, inplace=True)\n",
    "df.head()"
   ]
  },
  {
   "cell_type": "code",
   "execution_count": 6,
   "metadata": {
    "collapsed": true
   },
   "outputs": [],
   "source": [
    "# function to return a list L combined by several lists\n",
    "def combineList(L):\n",
    "    res = []\n",
    "    for x in L:\n",
    "        for y in x:\n",
    "            res.append(y)\n",
    "    return res"
   ]
  },
  {
   "cell_type": "code",
   "execution_count": 7,
   "metadata": {},
   "outputs": [
    {
     "data": {
      "text/html": [
       "<div>\n",
       "<style>\n",
       "    .dataframe thead tr:only-child th {\n",
       "        text-align: right;\n",
       "    }\n",
       "\n",
       "    .dataframe thead th {\n",
       "        text-align: left;\n",
       "    }\n",
       "\n",
       "    .dataframe tbody tr th {\n",
       "        vertical-align: top;\n",
       "    }\n",
       "</style>\n",
       "<table border=\"1\" class=\"dataframe\">\n",
       "  <thead>\n",
       "    <tr style=\"text-align: right;\">\n",
       "      <th></th>\n",
       "      <th>UserID</th>\n",
       "      <th>HH</th>\n",
       "    </tr>\n",
       "  </thead>\n",
       "  <tbody>\n",
       "    <tr>\n",
       "      <th>0</th>\n",
       "      <td>150</td>\n",
       "      <td>[@iano, @thatstacy, @nelson, @fjordinn, @gwestr, @shinypb, @fjordinn, @raffi, @utilizer001, @Carricohimself, @d6, @fjordinn, @flangy, @fjordinn, @Sonikku_a, @doctorow]</td>\n",
       "    </tr>\n",
       "    <tr>\n",
       "      <th>1</th>\n",
       "      <td>1437</td>\n",
       "      <td>[@JimOwczarski, @AirlineFlyer, @AirlineFlyer, #overheardinlondon, #whodeyintheUK, #whodeyintheUK]</td>\n",
       "    </tr>\n",
       "    <tr>\n",
       "      <th>2</th>\n",
       "      <td>1501</td>\n",
       "      <td>[]</td>\n",
       "    </tr>\n",
       "    <tr>\n",
       "      <th>3</th>\n",
       "      <td>1512</td>\n",
       "      <td>[@marypcbuk, @david_bryant, @mozilla, @SenFeinstein]</td>\n",
       "    </tr>\n",
       "    <tr>\n",
       "      <th>4</th>\n",
       "      <td>1644</td>\n",
       "      <td>[@TamieDearen, @BookNerdParadis, @JRRTolkien, #emailmarketing, #CRO, @rahdieh, @BookNerdParadis, @LorilynRoberts, @BookNerdParadis, @_awtozer, #ContentMarketing, @WillBluntAU, #blog, #contentmarketing, #promotionftw, @nick_eubanks, @MaryLovesBooks, @BookNerdParadis, @fredrivett, #5, @LaurenLynneYA, @BookNerdParadis, #listbuilding, #guestposting, @raecarson, @BookNerdParadis, @matt_hearnden, #success, #perspective, #life, #GuestBloggingStrategy, @adamjayc, @bloggingwizard, @rtmixmktg, #ContentMarketing, @RobWormley, #contentmarketing, @TolkienQuote, @EliseKova, @BookNerdParadis, @FebruaryGrace, @BookNerdParadis, @LArtra, @BookNerdParadis, #Marketing, @CodyBLister, @KatyHuthJones, @BookNerdParadis, @startrailsIV, @BookNerdParadis, #motivation, #success]</td>\n",
       "    </tr>\n",
       "  </tbody>\n",
       "</table>\n",
       "</div>"
      ],
      "text/plain": [
       "   UserID  \\\n",
       "0  150      \n",
       "1  1437     \n",
       "2  1501     \n",
       "3  1512     \n",
       "4  1644     \n",
       "\n",
       "                                                                                                                                                                                                                                                                                                                                                                                                                                                                                                                                                                                                                                                                                                                                                                                          HH  \n",
       "0  [@iano, @thatstacy, @nelson, @fjordinn, @gwestr, @shinypb, @fjordinn, @raffi, @utilizer001, @Carricohimself, @d6, @fjordinn, @flangy, @fjordinn, @Sonikku_a, @doctorow]                                                                                                                                                                                                                                                                                                                                                                                                                                                                                                                                                                                                                    \n",
       "1  [@JimOwczarski, @AirlineFlyer, @AirlineFlyer, #overheardinlondon, #whodeyintheUK, #whodeyintheUK]                                                                                                                                                                                                                                                                                                                                                                                                                                                                                                                                                                                                                                                                                          \n",
       "2  []                                                                                                                                                                                                                                                                                                                                                                                                                                                                                                                                                                                                                                                                                                                                                                                         \n",
       "3  [@marypcbuk, @david_bryant, @mozilla, @SenFeinstein]                                                                                                                                                                                                                                                                                                                                                                                                                                                                                                                                                                                                                                                                                                                                       \n",
       "4  [@TamieDearen, @BookNerdParadis, @JRRTolkien, #emailmarketing, #CRO, @rahdieh, @BookNerdParadis, @LorilynRoberts, @BookNerdParadis, @_awtozer, #ContentMarketing, @WillBluntAU, #blog, #contentmarketing, #promotionftw, @nick_eubanks, @MaryLovesBooks, @BookNerdParadis, @fredrivett, #5, @LaurenLynneYA, @BookNerdParadis, #listbuilding, #guestposting, @raecarson, @BookNerdParadis, @matt_hearnden, #success, #perspective, #life, #GuestBloggingStrategy, @adamjayc, @bloggingwizard, @rtmixmktg, #ContentMarketing, @RobWormley, #contentmarketing, @TolkienQuote, @EliseKova, @BookNerdParadis, @FebruaryGrace, @BookNerdParadis, @LArtra, @BookNerdParadis, #Marketing, @CodyBLister, @KatyHuthJones, @BookNerdParadis, @startrailsIV, @BookNerdParadis, #motivation, #success]  "
      ]
     },
     "execution_count": 7,
     "metadata": {},
     "output_type": "execute_result"
    }
   ],
   "source": [
    "# create a dataframe grouped by UserID, the hashtag_handler contains distinct HH for each users\n",
    "df = pd.DataFrame({'HH' : df.groupby('UserID')['HH'].apply(lambda x:combineList(x))}).reset_index()\n",
    "#df = df[df['HH'].apply(lambda x: len(set(x)) >=20)]\n",
    "df.head()"
   ]
  },
  {
   "cell_type": "markdown",
   "metadata": {},
   "source": [
    "** *\n",
    "### Create a dictionary to store hashtag/handle frequency per user"
   ]
  },
  {
   "cell_type": "code",
   "execution_count": 8,
   "metadata": {
    "collapsed": true
   },
   "outputs": [],
   "source": [
    "User_dict = dict()\n",
    "for index, row in df.iterrows():\n",
    "    userID = row.UserID\n",
    "    User_dict[userID] =dict()\n",
    "    for hh in row.HH:\n",
    "        if hh in User_dict[userID]:\n",
    "            User_dict[userID][hh] +=1\n",
    "        else:\n",
    "            User_dict[userID][hh] = 1\n",
    "  \n"
   ]
  },
  {
   "cell_type": "code",
   "execution_count": 9,
   "metadata": {},
   "outputs": [
    {
     "data": {
      "text/plain": [
       "{'@Carricohimself': 1,\n",
       " '@Sonikku_a': 1,\n",
       " '@d6': 1,\n",
       " '@doctorow': 1,\n",
       " '@fjordinn': 4,\n",
       " '@flangy': 1,\n",
       " '@gwestr': 1,\n",
       " '@iano': 1,\n",
       " '@nelson': 1,\n",
       " '@raffi': 1,\n",
       " '@shinypb': 1,\n",
       " '@thatstacy': 1,\n",
       " '@utilizer001': 1}"
      ]
     },
     "execution_count": 9,
     "metadata": {},
     "output_type": "execute_result"
    }
   ],
   "source": [
    "User_dict[150] # example of one user in dictionary"
   ]
  },
  {
   "cell_type": "markdown",
   "metadata": {},
   "source": [
    "** *\n",
    "### Removal of users  through iterative pruning with:\n",
    "* less than 20 distinct  hashtags/handles or 20 tweets\n",
    "* hashtags/handles with 20 distinct users or 20 tweets"
   ]
  },
  {
   "cell_type": "code",
   "execution_count": 10,
   "metadata": {},
   "outputs": [
    {
     "name": "stdout",
     "output_type": "stream",
     "text": [
      "total users: 164797 , total hh: 640474\n",
      "total users: 5053 , total hh: 6476\n",
      "total users: 3853 , total hh: 2505\n",
      "total users: 3662 , total hh: 2159\n",
      "total users: 3629 , total hh: 2103\n",
      "total users: 3622 , total hh: 2096\n",
      "total users: 3619 , total hh: 2094\n",
      "total users: 3619 , total hh: 2093\n"
     ]
    }
   ],
   "source": [
    "# keep removing Hashtags and users until all users have 20 distinct\n",
    "# and each HH shared by 20 users.\n",
    "while True:\n",
    "    HH_dict = dict()\n",
    "    for user in User_dict:\n",
    "        for hh in User_dict[user]:\n",
    "            if hh in HH_dict:\n",
    "                HH_dict[hh] += 1\n",
    "            else:\n",
    "                HH_dict[hh] = 1\n",
    "    print('total users: {} , total hh: {}'.format(len(User_dict), len(HH_dict)))\n",
    "    removeHH = []\n",
    "    # remove HH < 20 distint users\n",
    "    for hh in HH_dict:\n",
    "        if HH_dict[hh] < 20:\n",
    "            removeHH.append(hh)\n",
    "    for hh in removeHH:\n",
    "        del HH_dict[hh]\n",
    "    # remove HH in userdict that is not in HH_dict\n",
    "    for user in User_dict:\n",
    "        removeHHinUser = []\n",
    "        for hh in User_dict[user]:\n",
    "            if hh not in HH_dict:\n",
    "                removeHHinUser.append(hh)\n",
    "        for hh in removeHHinUser:\n",
    "            del User_dict[user][hh]\n",
    "    # remove user who has < 20 distint HH\n",
    "    removeUser = []\n",
    "    for user in User_dict:\n",
    "        if len(User_dict[user]) < 20:\n",
    "            removeUser.append(user)\n",
    "    for user in removeUser:\n",
    "        del User_dict[user]\n",
    "    if len(removeHH) == 0 and len(removeUser)==0:\n",
    "        break\n",
    "    "
   ]
  },
  {
   "cell_type": "markdown",
   "metadata": {},
   "source": [
    "** *\n",
    "### Create a pruned dataframe"
   ]
  },
  {
   "cell_type": "code",
   "execution_count": 11,
   "metadata": {
    "collapsed": true
   },
   "outputs": [],
   "source": [
    "UserList = list(User_dict.keys())\n",
    "HHList = list(HH_dict.keys())\n",
    "pruned_df = pd.DataFrame(0, index=HHList,columns=UserList)"
   ]
  },
  {
   "cell_type": "code",
   "execution_count": 19,
   "metadata": {},
   "outputs": [
    {
     "data": {
      "text/plain": [
       "list"
      ]
     },
     "execution_count": 19,
     "metadata": {},
     "output_type": "execute_result"
    }
   ],
   "source": [
    "type(UserList)"
   ]
  },
  {
   "cell_type": "code",
   "execution_count": 22,
   "metadata": {},
   "outputs": [],
   "source": [
    "import csv\n",
    "\n",
    "csvfile = \"E:\\CSC_177\\Assingment_1\\w.csv\"\n",
    "\n",
    "#Assuming res is a flat list\n",
    "with open(csvfile, \"w\") as output:\n",
    "    writer = csv.writer(output, lineterminator='\\n')\n",
    "    for val in UserList:\n",
    "        writer.writerow([val]) "
   ]
  },
  {
   "cell_type": "code",
   "execution_count": 31,
   "metadata": {
    "collapsed": true
   },
   "outputs": [],
   "source": [
    "for user in User_dict:\n",
    "    for hh in User_dict[user]:\n",
    "        pruned_df.loc[hh,user] = User_dict[user][hh]"
   ]
  },
  {
   "cell_type": "code",
   "execution_count": 32,
   "metadata": {},
   "outputs": [
    {
     "data": {
      "text/html": [
       "<div>\n",
       "<style>\n",
       "    .dataframe thead tr:only-child th {\n",
       "        text-align: right;\n",
       "    }\n",
       "\n",
       "    .dataframe thead th {\n",
       "        text-align: left;\n",
       "    }\n",
       "\n",
       "    .dataframe tbody tr th {\n",
       "        vertical-align: top;\n",
       "    }\n",
       "</style>\n",
       "<table border=\"1\" class=\"dataframe\">\n",
       "  <thead>\n",
       "    <tr style=\"text-align: right;\">\n",
       "      <th></th>\n",
       "      <th>1134681</th>\n",
       "      <th>1329901</th>\n",
       "      <th>1354481</th>\n",
       "      <th>1366631</th>\n",
       "      <th>1449381</th>\n",
       "      <th>1687071</th>\n",
       "      <th>1787311</th>\n",
       "      <th>2091441</th>\n",
       "      <th>2234711</th>\n",
       "      <th>2284131</th>\n",
       "      <th>...</th>\n",
       "      <th>2508827207</th>\n",
       "      <th>2511274210</th>\n",
       "      <th>2511554220</th>\n",
       "      <th>2517861180</th>\n",
       "      <th>2517885577</th>\n",
       "      <th>2519552569</th>\n",
       "      <th>2519920654</th>\n",
       "      <th>2521149576</th>\n",
       "      <th>2521541502</th>\n",
       "      <th>2521929295</th>\n",
       "    </tr>\n",
       "  </thead>\n",
       "  <tbody>\n",
       "    <tr>\n",
       "      <th>#NeverTrump</th>\n",
       "      <td>2</td>\n",
       "      <td>0</td>\n",
       "      <td>0</td>\n",
       "      <td>0</td>\n",
       "      <td>0</td>\n",
       "      <td>0</td>\n",
       "      <td>0</td>\n",
       "      <td>0</td>\n",
       "      <td>0</td>\n",
       "      <td>0</td>\n",
       "      <td>...</td>\n",
       "      <td>1</td>\n",
       "      <td>0</td>\n",
       "      <td>0</td>\n",
       "      <td>0</td>\n",
       "      <td>0</td>\n",
       "      <td>0</td>\n",
       "      <td>0</td>\n",
       "      <td>1</td>\n",
       "      <td>0</td>\n",
       "      <td>0</td>\n",
       "    </tr>\n",
       "    <tr>\n",
       "      <th>#NeverHillary</th>\n",
       "      <td>2</td>\n",
       "      <td>0</td>\n",
       "      <td>0</td>\n",
       "      <td>0</td>\n",
       "      <td>0</td>\n",
       "      <td>0</td>\n",
       "      <td>0</td>\n",
       "      <td>8</td>\n",
       "      <td>13</td>\n",
       "      <td>0</td>\n",
       "      <td>...</td>\n",
       "      <td>0</td>\n",
       "      <td>0</td>\n",
       "      <td>0</td>\n",
       "      <td>0</td>\n",
       "      <td>0</td>\n",
       "      <td>0</td>\n",
       "      <td>0</td>\n",
       "      <td>0</td>\n",
       "      <td>0</td>\n",
       "      <td>0</td>\n",
       "    </tr>\n",
       "    <tr>\n",
       "      <th>#MAGA</th>\n",
       "      <td>1</td>\n",
       "      <td>0</td>\n",
       "      <td>0</td>\n",
       "      <td>3</td>\n",
       "      <td>0</td>\n",
       "      <td>0</td>\n",
       "      <td>0</td>\n",
       "      <td>0</td>\n",
       "      <td>11</td>\n",
       "      <td>57</td>\n",
       "      <td>...</td>\n",
       "      <td>0</td>\n",
       "      <td>0</td>\n",
       "      <td>0</td>\n",
       "      <td>0</td>\n",
       "      <td>0</td>\n",
       "      <td>1</td>\n",
       "      <td>0</td>\n",
       "      <td>3</td>\n",
       "      <td>0</td>\n",
       "      <td>0</td>\n",
       "    </tr>\n",
       "    <tr>\n",
       "      <th>@adamjohnsonNYC</th>\n",
       "      <td>3</td>\n",
       "      <td>0</td>\n",
       "      <td>0</td>\n",
       "      <td>0</td>\n",
       "      <td>0</td>\n",
       "      <td>0</td>\n",
       "      <td>0</td>\n",
       "      <td>0</td>\n",
       "      <td>0</td>\n",
       "      <td>0</td>\n",
       "      <td>...</td>\n",
       "      <td>0</td>\n",
       "      <td>0</td>\n",
       "      <td>0</td>\n",
       "      <td>0</td>\n",
       "      <td>0</td>\n",
       "      <td>0</td>\n",
       "      <td>0</td>\n",
       "      <td>0</td>\n",
       "      <td>0</td>\n",
       "      <td>0</td>\n",
       "    </tr>\n",
       "    <tr>\n",
       "      <th>@PrisonPlanet</th>\n",
       "      <td>3</td>\n",
       "      <td>0</td>\n",
       "      <td>0</td>\n",
       "      <td>2</td>\n",
       "      <td>0</td>\n",
       "      <td>0</td>\n",
       "      <td>0</td>\n",
       "      <td>1</td>\n",
       "      <td>0</td>\n",
       "      <td>0</td>\n",
       "      <td>...</td>\n",
       "      <td>0</td>\n",
       "      <td>0</td>\n",
       "      <td>0</td>\n",
       "      <td>0</td>\n",
       "      <td>0</td>\n",
       "      <td>0</td>\n",
       "      <td>0</td>\n",
       "      <td>0</td>\n",
       "      <td>0</td>\n",
       "      <td>0</td>\n",
       "    </tr>\n",
       "  </tbody>\n",
       "</table>\n",
       "<p>5 rows × 3619 columns</p>\n",
       "</div>"
      ],
      "text/plain": [
       "                 1134681  1329901  1354481  1366631  1449381  1687071  \\\n",
       "#NeverTrump      2        0        0        0        0        0         \n",
       "#NeverHillary    2        0        0        0        0        0         \n",
       "#MAGA            1        0        0        3        0        0         \n",
       "@adamjohnsonNYC  3        0        0        0        0        0         \n",
       "@PrisonPlanet    3        0        0        2        0        0         \n",
       "\n",
       "                 1787311  2091441  2234711  2284131     ...      2508827207  \\\n",
       "#NeverTrump      0        0        0        0           ...      1            \n",
       "#NeverHillary    0        8        13       0           ...      0            \n",
       "#MAGA            0        0        11       57          ...      0            \n",
       "@adamjohnsonNYC  0        0        0        0           ...      0            \n",
       "@PrisonPlanet    0        1        0        0           ...      0            \n",
       "\n",
       "                 2511274210  2511554220  2517861180  2517885577  2519552569  \\\n",
       "#NeverTrump      0           0           0           0           0            \n",
       "#NeverHillary    0           0           0           0           0            \n",
       "#MAGA            0           0           0           0           1            \n",
       "@adamjohnsonNYC  0           0           0           0           0            \n",
       "@PrisonPlanet    0           0           0           0           0            \n",
       "\n",
       "                 2519920654  2521149576  2521541502  2521929295  \n",
       "#NeverTrump      0           1           0           0           \n",
       "#NeverHillary    0           0           0           0           \n",
       "#MAGA            0           3           0           0           \n",
       "@adamjohnsonNYC  0           0           0           0           \n",
       "@PrisonPlanet    0           0           0           0           \n",
       "\n",
       "[5 rows x 3619 columns]"
      ]
     },
     "execution_count": 32,
     "metadata": {},
     "output_type": "execute_result"
    }
   ],
   "source": [
    "pruned_df.head()"
   ]
  },
  {
   "cell_type": "markdown",
   "metadata": {},
   "source": [
    "** *\n",
    "# 2. Clustering \n"
   ]
  },
  {
   "cell_type": "markdown",
   "metadata": {},
   "source": [
    "** *\n",
    "## Problem 1: Clustering of hashtag/handles"
   ]
  },
  {
   "cell_type": "markdown",
   "metadata": {},
   "source": [
    "** *\n",
    "### Normalize data by maximum absolute scaler"
   ]
  },
  {
   "cell_type": "code",
   "execution_count": 33,
   "metadata": {
    "collapsed": true
   },
   "outputs": [],
   "source": [
    "import sklearn.cluster as sk_cluster\n",
    "X = pruned_df.values"
   ]
  },
  {
   "cell_type": "code",
   "execution_count": 34,
   "metadata": {
    "collapsed": true
   },
   "outputs": [],
   "source": [
    "import numpy as np\n",
    "#import matplotlib.pyplot as plt\n",
    "#import sklearn as sk\n",
    "from sklearn import preprocessing\n",
    "\n",
    "max_abs_scaler = preprocessing.MaxAbsScaler()\n",
    "X = max_abs_scaler.fit_transform(X)"
   ]
  },
  {
   "cell_type": "markdown",
   "metadata": {},
   "source": [
    "** *\n",
    "### Run the k-means algorithm for k-value range 1 to 20"
   ]
  },
  {
   "cell_type": "code",
   "execution_count": 35,
   "metadata": {
    "scrolled": true
   },
   "outputs": [
    {
     "name": "stdout",
     "output_type": "stream",
     "text": [
      "running k = 1\n",
      "running k = 2\n",
      "running k = 3\n",
      "running k = 4\n",
      "running k = 5\n",
      "running k = 6\n",
      "running k = 7\n",
      "running k = 8\n",
      "running k = 9\n",
      "running k = 10\n",
      "running k = 11\n",
      "running k = 12\n",
      "running k = 13\n",
      "running k = 14\n",
      "running k = 15\n",
      "running k = 16\n",
      "running k = 17\n",
      "running k = 18\n",
      "running k = 19\n",
      "running k = 20\n"
     ]
    }
   ],
   "source": [
    "error = np.zeros(21)\n",
    "for k in range(1,21):\n",
    "    kmeans = sk_cluster.KMeans(init='k-means++', n_clusters=k, n_init=10)\n",
    "    kmeans.fit_predict(X)\n",
    "    error[k] = kmeans.inertia_\n",
    "    print('running k = {}'.format(k))"
   ]
  },
  {
   "cell_type": "markdown",
   "metadata": {},
   "source": [
    "** *\n",
    "### Plot of SSSE error against k value up to 20"
   ]
  },
  {
   "cell_type": "code",
   "execution_count": 36,
   "metadata": {
    "scrolled": true
   },
   "outputs": [
    {
     "data": {
      "image/png": "[encoded data removed]",
      "text/plain": [
       "<matplotlib.figure.Figure at 0x21c655f2470>"
      ]
     },
     "metadata": {},
     "output_type": "display_data"
    }
   ],
   "source": [
    "import matplotlib.pyplot as plt\n",
    "plt.plot(range(1, 21),error[1:])\n",
    "plt.xlabel('Number of clusters')\n",
    "plt.ylabel('SSE')\n",
    "plt.show()"
   ]
  },
  {
   "cell_type": "markdown",
   "metadata": {},
   "source": [
    "** *\n",
    "### Decide K-value based on knee point and run k-mean algorithm"
   ]
  },
  {
   "cell_type": "code",
   "execution_count": 113,
   "metadata": {
    "collapsed": true
   },
   "outputs": [],
   "source": [
    "kValue = 7"
   ]
  },
  {
   "cell_type": "code",
   "execution_count": 121,
   "metadata": {
    "scrolled": true
   },
   "outputs": [
    {
     "name": "stdout",
     "output_type": "stream",
     "text": [
      "The total error of the clustering is:  11286.7736983\n",
      "\n",
      "Cluster labels\n",
      "[0 4 4 ..., 6 6 6]\n",
      "\n",
      " Cluster Centroids\n",
      "[[  4.76190476e-02   1.90476190e-02   7.14285714e-02 ...,   4.82295482e-02\n",
      "    3.28798186e-02   5.95238095e-03]\n",
      " [  0.00000000e+00   1.00000000e-01   0.00000000e+00 ...,   0.00000000e+00\n",
      "    9.52380952e-02   0.00000000e+00]\n",
      " [  0.00000000e+00   5.00000000e-02   2.50000000e-01 ...,   1.00000000e+00\n",
      "    1.90476190e-01   1.25000000e-01]\n",
      " ..., \n",
      " [  7.69230769e-02  -8.67361738e-19   3.20512821e-02 ...,   4.14201183e-02\n",
      "    3.66300366e-03   4.33680869e-19]\n",
      " [  1.11111111e-01   1.66666667e-02   7.40740741e-02 ...,   4.27350427e-02\n",
      "    5.29100529e-03   0.00000000e+00]\n",
      " [  3.94866732e-03   3.13425469e-03   1.27509049e-03 ...,   2.45526109e-03\n",
      "    1.85681380e-03   2.59131293e-03]]\n"
     ]
    }
   ],
   "source": [
    "kmeans = sk_cluster.KMeans(init='k-means++', n_clusters=kValue, n_init=10)\n",
    "kmeans.fit_predict(X)\n",
    "centroids = kmeans.cluster_centers_\n",
    "kmeans_labels = kmeans.labels_\n",
    "error = kmeans.inertia_\n",
    "print (\"The total error of the clustering is: \", error)\n",
    "print ('\\nCluster labels')\n",
    "print(kmeans_labels)\n",
    "print ('\\n Cluster Centroids')\n",
    "print (centroids)"
   ]
  },
  {
   "cell_type": "code",
   "execution_count": 122,
   "metadata": {
    "collapsed": true
   },
   "outputs": [],
   "source": [
    "kmeansClusterDIct = dict()\n",
    "for i in range(1, kValue+1):\n",
    "    kmeansClusterDIct[i] = []\n",
    "for x in range(len(kmeans_labels)):\n",
    "    kmeansClusterDIct[kmeans_labels[x]+1].append(HHList[x])"
   ]
  },
  {
   "cell_type": "code",
   "execution_count": 132,
   "metadata": {},
   "outputs": [
    {
     "name": "stdout",
     "output_type": "stream",
     "text": [
      "42\n",
      "1\n",
      "1\n",
      "1\n",
      "13\n",
      "9\n",
      "2026\n"
     ]
    }
   ],
   "source": [
    "for i in range(1,kValue+1):\n",
    "    print(len(kmeansClusterDIct[i]))"
   ]
  },
  {
   "cell_type": "markdown",
   "metadata": {},
   "source": [
    "** *\n",
    "### Select 2 clusters for analysis"
   ]
  },
  {
   "cell_type": "code",
   "execution_count": 126,
   "metadata": {},
   "outputs": [
    {
     "data": {
      "text/plain": [
       "['#NeverHillary',\n",
       " '#MAGA',\n",
       " '#TrumpTrain',\n",
       " '@WDFx2EU7',\n",
       " '#draintheswamp',\n",
       " '#DrainTheSwamp',\n",
       " '#Trump',\n",
       " '#FBI',\n",
       " '#Hillary',\n",
       " '#Trump2016',\n",
       " '#TrumpPence16',\n",
       " '#CrookedHillary',\n",
       " '#HillaryClinton']"
      ]
     },
     "execution_count": 126,
     "metadata": {},
     "output_type": "execute_result"
    }
   ],
   "source": [
    "kmeansClusterDIct[5]"
   ]
  },
  {
   "cell_type": "markdown",
   "metadata": {},
   "source": [
    "Conclusion: The context of this cluster appears to be right-wing conservatives addressing corruption in politics -- likely with regard to then presidential candidate Hillary Clinton. "
   ]
  },
  {
   "cell_type": "code",
   "execution_count": 125,
   "metadata": {},
   "outputs": [
    {
     "data": {
      "text/plain": [
       "['@wikileaks',\n",
       " '@mitchellvii',\n",
       " '@FoxNews',\n",
       " '@seanhannity',\n",
       " '@megynkelly',\n",
       " '@CNN',\n",
       " '@newtgingrich',\n",
       " '@KellyannePolls',\n",
       " '@FBI']"
      ]
     },
     "execution_count": 125,
     "metadata": {},
     "output_type": "execute_result"
    }
   ],
   "source": [
    "kmeansClusterDIct[6]"
   ]
  },
  {
   "cell_type": "markdown",
   "metadata": {},
   "source": [
    "Conclusion: The context of this cluster appears to be right-wing conservative media discussing the FBI investigation of Clintons emails which were revealed by wikileaks. "
   ]
  },
  {
   "cell_type": "markdown",
   "metadata": {},
   "source": [
    "** *\n",
    "### Run SSE-based agglomerative hierarchical clustering"
   ]
  },
  {
   "cell_type": "code",
   "execution_count": 139,
   "metadata": {
    "collapsed": true
   },
   "outputs": [],
   "source": [
    "ag = sk_cluster.AgglomerativeClustering(linkage = 'ward', n_clusters = kValue)   \n",
    "\n",
    "#complete: The maximum distances\n",
    "#n_clusters: The number of clusters to find.\n",
    "\n",
    "ag_labels = ag.fit_predict(X)"
   ]
  },
  {
   "cell_type": "code",
   "execution_count": 140,
   "metadata": {
    "collapsed": true,
    "scrolled": false
   },
   "outputs": [],
   "source": [
    "from scipy.cluster.hierarchy import dendrogram, linkage   \n",
    "ag = linkage(X, method='ward')"
   ]
  },
  {
   "cell_type": "code",
   "execution_count": 141,
   "metadata": {
    "collapsed": true
   },
   "outputs": [],
   "source": [
    "agClusterDict = dict()\n",
    "for i in range(1, kValue+1):\n",
    "    agClusterDict[i] = []\n",
    "for x in range(len(ag_labels)):\n",
    "    agClusterDict[ag_labels[x]+1].append(HHList[x])"
   ]
  },
  {
   "cell_type": "code",
   "execution_count": 143,
   "metadata": {},
   "outputs": [
    {
     "data": {
      "text/plain": [
       "['@thedailybeast',\n",
       " '@kurteichenwald',\n",
       " '@jaketapper',\n",
       " '@HuffPostPol',\n",
       " '@CBSNews',\n",
       " '@nytimes',\n",
       " '@CNNPolitics',\n",
       " '@NBCNews',\n",
       " '@jasoninthehouse',\n",
       " '@thehill',\n",
       " '@CNN',\n",
       " '@KellyannePolls',\n",
       " '@JoyAnnReid',\n",
       " '@washingtonpost',\n",
       " '@ABC',\n",
       " '@FBI',\n",
       " '@politico',\n",
       " '@MSNBC']"
      ]
     },
     "execution_count": 143,
     "metadata": {},
     "output_type": "execute_result"
    }
   ],
   "source": [
    "agClusterDict[1]"
   ]
  },
  {
   "cell_type": "markdown",
   "metadata": {},
   "source": [
    "Conclusion: Topic appears to be left-wing media outlets discussing something involving the FBI."
   ]
  },
  {
   "cell_type": "code",
   "execution_count": 138,
   "metadata": {},
   "outputs": [
    {
     "data": {
      "text/plain": [
       "['#MAGA', '@YouTube', '#Trump']"
      ]
     },
     "execution_count": 138,
     "metadata": {},
     "output_type": "execute_result"
    }
   ],
   "source": [
    "agClusterDict[6]"
   ]
  },
  {
   "cell_type": "markdown",
   "metadata": {},
   "source": [
    "Conclusion: Data here is sparse. The topic here is possibly something to do with Trump's campaign and youtube."
   ]
  },
  {
   "cell_type": "markdown",
   "metadata": {},
   "source": [
    "** *\n",
    "### Difference between k-means and agglomerative hierarchical clusterings"
   ]
  },
  {
   "cell_type": "markdown",
   "metadata": {},
   "source": [
    "#### K-means clusters:"
   ]
  },
  {
   "cell_type": "code",
   "execution_count": 144,
   "metadata": {},
   "outputs": [
    {
     "name": "stdout",
     "output_type": "stream",
     "text": [
      "42\n",
      "1\n",
      "1\n",
      "1\n",
      "13\n",
      "9\n",
      "2026\n"
     ]
    }
   ],
   "source": [
    "for i in range(1,kValue+1):\n",
    "    print(len(kmeansClusterDIct[i]))"
   ]
  },
  {
   "cell_type": "markdown",
   "metadata": {},
   "source": [
    "#### Agglomerative hierarchical clustering:"
   ]
  },
  {
   "cell_type": "code",
   "execution_count": 145,
   "metadata": {},
   "outputs": [
    {
     "name": "stdout",
     "output_type": "stream",
     "text": [
      "18\n",
      "2\n",
      "2067\n",
      "1\n",
      "1\n",
      "3\n",
      "1\n"
     ]
    }
   ],
   "source": [
    "for i in range(1,kValue+1):\n",
    "    print(len(agClusterDict[i]))"
   ]
  },
  {
   "cell_type": "markdown",
   "metadata": {},
   "source": [
    "They have relatively similar distributions between the two methods. However, the clustering in the k-means approach allowed for more convinient and meaningful results for manual analysis. This is due to more hashtags being allocated to comparitively more clusters."
   ]
  },
  {
   "cell_type": "markdown",
   "metadata": {},
   "source": [
    "** *\n",
    "## Problem 2: Clustering of users"
   ]
  },
  {
   "cell_type": "markdown",
   "metadata": {},
   "source": [
    "** *\n",
    "### Take the transpose of the pruned dataframe"
   ]
  },
  {
   "cell_type": "code",
   "execution_count": 147,
   "metadata": {
    "collapsed": true
   },
   "outputs": [],
   "source": [
    "XT = X.T"
   ]
  },
  {
   "cell_type": "markdown",
   "metadata": {},
   "source": [
    "** *\n",
    "### Extract the truth label from the ground truth"
   ]
  },
  {
   "cell_type": "code",
   "execution_count": 148,
   "metadata": {
    "collapsed": true
   },
   "outputs": [],
   "source": [
    "user_cols = ['UserID', 'Category']\n",
    "groundtruth = pd.read_csv('clinton_trump_user_classes.txt', sep ='\\t', encoding = \"ISO-8859-1\", header  = None, names = user_cols)\n",
    "groundtruth.sort_values(by=['UserID'], inplace = True)"
   ]
  },
  {
   "cell_type": "code",
   "execution_count": 149,
   "metadata": {
    "collapsed": true
   },
   "outputs": [],
   "source": [
    "groundtruth = groundtruth[groundtruth['UserID'].isin(UserList)]"
   ]
  },
  {
   "cell_type": "code",
   "execution_count": 150,
   "metadata": {},
   "outputs": [
    {
     "data": {
      "text/html": [
       "<div>\n",
       "<style>\n",
       "    .dataframe thead tr:only-child th {\n",
       "        text-align: right;\n",
       "    }\n",
       "\n",
       "    .dataframe thead th {\n",
       "        text-align: left;\n",
       "    }\n",
       "\n",
       "    .dataframe tbody tr th {\n",
       "        vertical-align: top;\n",
       "    }\n",
       "</style>\n",
       "<table border=\"1\" class=\"dataframe\">\n",
       "  <thead>\n",
       "    <tr style=\"text-align: right;\">\n",
       "      <th></th>\n",
       "      <th>UserID</th>\n",
       "      <th>Category</th>\n",
       "    </tr>\n",
       "  </thead>\n",
       "  <tbody>\n",
       "    <tr>\n",
       "      <th>139005</th>\n",
       "      <td>1134681</td>\n",
       "      <td>0</td>\n",
       "    </tr>\n",
       "    <tr>\n",
       "      <th>22059</th>\n",
       "      <td>1329901</td>\n",
       "      <td>0</td>\n",
       "    </tr>\n",
       "    <tr>\n",
       "      <th>22118</th>\n",
       "      <td>1354481</td>\n",
       "      <td>0</td>\n",
       "    </tr>\n",
       "    <tr>\n",
       "      <th>91153</th>\n",
       "      <td>1366631</td>\n",
       "      <td>0</td>\n",
       "    </tr>\n",
       "    <tr>\n",
       "      <th>197078</th>\n",
       "      <td>1449381</td>\n",
       "      <td>1</td>\n",
       "    </tr>\n",
       "  </tbody>\n",
       "</table>\n",
       "</div>"
      ],
      "text/plain": [
       "         UserID  Category\n",
       "139005  1134681  0       \n",
       "22059   1329901  0       \n",
       "22118   1354481  0       \n",
       "91153   1366631  0       \n",
       "197078  1449381  1       "
      ]
     },
     "execution_count": 150,
     "metadata": {},
     "output_type": "execute_result"
    }
   ],
   "source": [
    "groundtruth.head()"
   ]
  },
  {
   "cell_type": "code",
   "execution_count": 151,
   "metadata": {
    "collapsed": true
   },
   "outputs": [],
   "source": [
    "truth_label = groundtruth.Category.tolist()"
   ]
  },
  {
   "cell_type": "markdown",
   "metadata": {},
   "source": [
    "** *\n",
    "### Run the k-means with 2 clusters"
   ]
  },
  {
   "cell_type": "code",
   "execution_count": 225,
   "metadata": {},
   "outputs": [
    {
     "name": "stdout",
     "output_type": "stream",
     "text": [
      "The total error of the clustering is:  12242.4265105\n",
      "\n",
      "Cluster labels\n",
      "[1 1 1 ..., 0 1 1]\n",
      "\n",
      " Cluster Centroids\n",
      "[[ 0.01637078  0.02821041  0.08971004 ...,  0.00146557  0.0020155\n",
      "   0.00014857]\n",
      " [ 0.0279906   0.02844392  0.0763142  ...,  0.00089563  0.00070155\n",
      "   0.00064863]]\n"
     ]
    }
   ],
   "source": [
    "kmeans_part2 = sk_cluster.KMeans(init='k-means++', n_clusters=2, n_init=10)\n",
    "kmeans_part2.fit_predict(XT)\n",
    "centroids_part2 = kmeans_part2.cluster_centers_\n",
    "kmeans_part2_labels = kmeans_part2.labels_\n",
    "error = kmeans_part2.inertia_\n",
    "print (\"The total error of the clustering is: \", error)\n",
    "print ('\\nCluster labels')\n",
    "print(kmeans_part2_labels)\n",
    "print ('\\n Cluster Centroids')\n",
    "print (centroids_part2)"
   ]
  },
  {
   "cell_type": "markdown",
   "metadata": {},
   "source": [
    "** *\n",
    "### Generate the confusion matrix and f1-score"
   ]
  },
  {
   "cell_type": "code",
   "execution_count": 226,
   "metadata": {},
   "outputs": [
    {
     "name": "stdout",
     "output_type": "stream",
     "text": [
      "[[1021 1165]\n",
      " [ 358 1075]]\n"
     ]
    }
   ],
   "source": [
    "import sklearn.metrics as metrics\n",
    "kMeansVsTruth = metrics.confusion_matrix(truth_label,kmeans_part2_labels)\n",
    "print(kMeansVsTruth)"
   ]
  },
  {
   "cell_type": "code",
   "execution_count": 227,
   "metadata": {},
   "outputs": [
    {
     "data": {
      "text/plain": [
       "array([ 0.74039159,  0.47991071])"
      ]
     },
     "execution_count": 227,
     "metadata": {},
     "output_type": "execute_result"
    }
   ],
   "source": [
    "metrics.precision_score(truth_label, kmeans_part2_labels , average=None)"
   ]
  },
  {
   "cell_type": "code",
   "execution_count": 228,
   "metadata": {},
   "outputs": [
    {
     "data": {
      "text/plain": [
       "array([ 0.46706313,  0.75017446])"
      ]
     },
     "execution_count": 228,
     "metadata": {},
     "output_type": "execute_result"
    }
   ],
   "source": [
    "metrics.recall_score(truth_label, kmeans_part2_labels , average=None)"
   ]
  },
  {
   "cell_type": "code",
   "execution_count": 229,
   "metadata": {
    "scrolled": true
   },
   "outputs": [
    {
     "data": {
      "text/plain": [
       "array([ 0.57279102,  0.58535257])"
      ]
     },
     "execution_count": 229,
     "metadata": {},
     "output_type": "execute_result"
    }
   ],
   "source": [
    "metrics.f1_score(truth_label, kmeans_part2_labels , average=None)"
   ]
  },
  {
   "cell_type": "code",
   "execution_count": 249,
   "metadata": {},
   "outputs": [
    {
     "data": {
      "text/plain": [
       "0.5777649668373076"
      ]
     },
     "execution_count": 249,
     "metadata": {},
     "output_type": "execute_result"
    }
   ],
   "source": [
    "metrics.f1_score(truth_label, kmeans_part2_labels , average='weighted')"
   ]
  },
  {
   "cell_type": "markdown",
   "metadata": {},
   "source": [
    "** *\n",
    "### Max based agglomerative and f1-score"
   ]
  },
  {
   "cell_type": "code",
   "execution_count": 198,
   "metadata": {
    "collapsed": true
   },
   "outputs": [],
   "source": [
    "ag = sk_cluster.AgglomerativeClustering(linkage = 'complete', n_clusters = 2)   \n",
    "MAXag_labels = ag.fit_predict(XT)"
   ]
  },
  {
   "cell_type": "code",
   "execution_count": 199,
   "metadata": {
    "collapsed": true
   },
   "outputs": [],
   "source": [
    "ag = linkage(XT, method='complete')"
   ]
  },
  {
   "cell_type": "code",
   "execution_count": 200,
   "metadata": {},
   "outputs": [
    {
     "name": "stdout",
     "output_type": "stream",
     "text": [
      "[[2186    0]\n",
      " [1432    1]]\n"
     ]
    }
   ],
   "source": [
    "MAXagVsTruth = metrics.confusion_matrix(truth_label,MAXag_labels)\n",
    "print(MAXagVsTruth)"
   ]
  },
  {
   "cell_type": "code",
   "execution_count": 201,
   "metadata": {},
   "outputs": [
    {
     "data": {
      "text/plain": [
       "array([ 0.60420122,  1.        ])"
      ]
     },
     "execution_count": 201,
     "metadata": {},
     "output_type": "execute_result"
    }
   ],
   "source": [
    "metrics.precision_score(truth_label, MAXag_labels , average=None)"
   ]
  },
  {
   "cell_type": "code",
   "execution_count": 202,
   "metadata": {},
   "outputs": [
    {
     "data": {
      "text/plain": [
       "array([  1.00000000e+00,   6.97836706e-04])"
      ]
     },
     "execution_count": 202,
     "metadata": {},
     "output_type": "execute_result"
    }
   ],
   "source": [
    "metrics.recall_score(truth_label, MAXag_labels , average=None)"
   ]
  },
  {
   "cell_type": "code",
   "execution_count": 203,
   "metadata": {},
   "outputs": [
    {
     "data": {
      "text/plain": [
       "array([ 0.7532736,  0.0013947])"
      ]
     },
     "execution_count": 203,
     "metadata": {},
     "output_type": "execute_result"
    }
   ],
   "source": [
    "metrics.f1_score(truth_label, MAXag_labels , average=None)"
   ]
  },
  {
   "cell_type": "code",
   "execution_count": 248,
   "metadata": {},
   "outputs": [
    {
     "data": {
      "text/plain": [
       "0.45555532040391344"
      ]
     },
     "execution_count": 248,
     "metadata": {},
     "output_type": "execute_result"
    }
   ],
   "source": [
    "metrics.f1_score(truth_label, MAXag_labels , average='weighted')"
   ]
  },
  {
   "cell_type": "markdown",
   "metadata": {},
   "source": [
    "** *\n",
    "### SSE based agglomerative and f-measure"
   ]
  },
  {
   "cell_type": "code",
   "execution_count": 204,
   "metadata": {},
   "outputs": [
    {
     "data": {
      "text/plain": [
       "array([0, 1, 1, ..., 0, 1, 1], dtype=int64)"
      ]
     },
     "execution_count": 204,
     "metadata": {},
     "output_type": "execute_result"
    }
   ],
   "source": [
    "ag = sk_cluster.AgglomerativeClustering(linkage = 'ward', n_clusters = 2)   \n",
    "SSEag_labels = ag.fit_predict(XT)\n",
    "SSEag_labels"
   ]
  },
  {
   "cell_type": "code",
   "execution_count": 205,
   "metadata": {
    "collapsed": true
   },
   "outputs": [],
   "source": [
    "ag = linkage(XT, method='ward')"
   ]
  },
  {
   "cell_type": "code",
   "execution_count": 206,
   "metadata": {},
   "outputs": [
    {
     "name": "stdout",
     "output_type": "stream",
     "text": [
      "[[ 974 1212]\n",
      " [ 291 1142]]\n"
     ]
    }
   ],
   "source": [
    "SSEagVsTruth = metrics.confusion_matrix(truth_label,SSEag_labels)\n",
    "print(SSEagVsTruth)"
   ]
  },
  {
   "cell_type": "code",
   "execution_count": 207,
   "metadata": {},
   "outputs": [
    {
     "data": {
      "text/plain": [
       "array([ 0.76996047,  0.48513169])"
      ]
     },
     "execution_count": 207,
     "metadata": {},
     "output_type": "execute_result"
    }
   ],
   "source": [
    "metrics.precision_score(truth_label, SSEag_labels , average=None)"
   ]
  },
  {
   "cell_type": "code",
   "execution_count": 208,
   "metadata": {},
   "outputs": [
    {
     "data": {
      "text/plain": [
       "array([ 0.44556267,  0.79692952])"
      ]
     },
     "execution_count": 208,
     "metadata": {},
     "output_type": "execute_result"
    }
   ],
   "source": [
    "metrics.recall_score(truth_label, SSEag_labels , average=None)"
   ]
  },
  {
   "cell_type": "code",
   "execution_count": 209,
   "metadata": {},
   "outputs": [
    {
     "data": {
      "text/plain": [
       "array([ 0.56447407,  0.60311592])"
      ]
     },
     "execution_count": 209,
     "metadata": {},
     "output_type": "execute_result"
    }
   ],
   "source": [
    "metrics.f1_score(truth_label, SSEag_labels , average='weighted')"
   ]
  },
  {
   "cell_type": "code",
   "execution_count": 247,
   "metadata": {},
   "outputs": [
    {
     "data": {
      "text/plain": [
       "0.57977491701149697"
      ]
     },
     "execution_count": 247,
     "metadata": {},
     "output_type": "execute_result"
    }
   ],
   "source": [
    "metrics.f1_score(truth_label, SSEag_labels , average='weighted')"
   ]
  },
  {
   "cell_type": "markdown",
   "metadata": {},
   "source": [
    "** *\n",
    "### Generate the top-30 most frequently used hashtag/handles per cluster"
   ]
  },
  {
   "cell_type": "code",
   "execution_count": 230,
   "metadata": {},
   "outputs": [
    {
     "name": "stdout",
     "output_type": "stream",
     "text": [
      "[[ 0.01637078  0.02821041  0.08971004 ...,  0.00146557  0.0020155\n",
      "   0.00014857]\n",
      " [ 0.0279906   0.02844392  0.0763142  ...,  0.00089563  0.00070155\n",
      "   0.00064863]]\n",
      "[[ 761 1103  491 ...,   84   17   67]\n",
      " [2015 1986 1873 ...,  111   67   17]]\n",
      "[[  67   17   84 ...,  491 1103  761]\n",
      " [  17   67  111 ..., 1873 1986 2015]]\n"
     ]
    }
   ],
   "source": [
    "print(kmeans_part2.cluster_centers_)\n",
    "asc_order_centroids_part2 = kmeans_part2.cluster_centers_.argsort()    # argsort() returns the indices that would sort an array.\n",
    "print(asc_order_centroids_part2)\n",
    "\n",
    "des_order_centroids_part2 = asc_order_centroids_part2[:,::-1]     #  get the indices in descending order\n",
    "print(des_order_centroids_part2)"
   ]
  },
  {
   "cell_type": "code",
   "execution_count": 231,
   "metadata": {},
   "outputs": [
    {
     "name": "stdout",
     "output_type": "stream",
     "text": [
      "Cluster: 0\n",
      "Cluster: 1\n"
     ]
    }
   ],
   "source": [
    "HHclusrerDict={}\n",
    "for i in range(2):\n",
    "    print (\"Cluster:\", i)\n",
    "    HHclusrerDict[i] = []\n",
    "    for ind in des_order_centroids_part2[i, :]:\n",
    "        HHclusrerDict[i].append(HHList[ind])"
   ]
  },
  {
   "cell_type": "code",
   "execution_count": 241,
   "metadata": {},
   "outputs": [
    {
     "name": "stdout",
     "output_type": "stream",
     "text": [
      "['@realDonaldTrump', '@HillaryClinton', '@FoxNews', '@megynkelly', '@CNN', '@newtgingrich', '@seanhannity', '@KellyannePolls', '#MAGA', '@YouTube', '@wikileaks', '@FBI', '@mitchellvii', '@WDFx2EU7', '@mike_pence', '@washingtonpost', '@IngrahamAngle', '@MSNBC', '@jasoninthehouse', '@ABC', '@nytimes', '@POTUS', '@BreitbartNews', '#Trump', '@DonaldJTrumpJr', '@CNNPolitics', '@jaketapper', '@politico', '@PrisonPlanet', '#ImWithHer'] \n",
      "\n",
      "['@HillaryClinton', '@realDonaldTrump', '@CNN', '#Trump', '@YouTube', '#MAGA', '@megynkelly', '@FoxNews', '@JoyAnnReid', '@MSNBC', '@washingtonpost', '#ImWithHer', '@FBI', '@nytimes', '@wikileaks', '@kurteichenwald', '@jasoninthehouse', '#Hillary', '@KellyannePolls', '@newtgingrich', '@ABC', '@POTUS', '@seanhannity', '#HillaryClinton', '@CNNPolitics', '#CrookedHillary', '@jaketapper', '@mitchellvii', '@thehill', '@politico']\n"
     ]
    }
   ],
   "source": [
    "c1top30 = []\n",
    "for i in range(30):\n",
    "    c1top30.append(HHclusrerDict[0][i])\n",
    "print(c1top30, '\\n')\n",
    "c2top30 = []\n",
    "for i in range(30):\n",
    "    c2top30.append(HHclusrerDict[1][i])\n",
    "print(c2top30)"
   ]
  },
  {
   "cell_type": "code",
   "execution_count": 245,
   "metadata": {},
   "outputs": [
    {
     "name": "stdout",
     "output_type": "stream",
     "text": [
      "@realDonaldTrump\n",
      "@HillaryClinton\n",
      "@FoxNews\n",
      "@megynkelly\n",
      "@CNN\n",
      "@newtgingrich\n",
      "@seanhannity\n",
      "@KellyannePolls\n",
      "#MAGA\n",
      "@YouTube\n",
      "@wikileaks\n",
      "@FBI\n",
      "@mitchellvii\n",
      "@washingtonpost\n",
      "@MSNBC\n",
      "@jasoninthehouse\n",
      "@ABC\n",
      "@nytimes\n",
      "@POTUS\n",
      "#Trump\n",
      "@CNNPolitics\n",
      "@jaketapper\n",
      "@politico\n",
      "#ImWithHer\n"
     ]
    }
   ],
   "source": [
    "for x in c1top30:\n",
    "    if x in c2top30:\n",
    "        print(x)"
   ]
  },
  {
   "cell_type": "code",
   "execution_count": 246,
   "metadata": {},
   "outputs": [
    {
     "name": "stdout",
     "output_type": "stream",
     "text": [
      "-----C1Top30_dict-----\n",
      "[('@realDonaldTrump', 14217), ('@HillaryClinton', 7951), ('@FoxNews', 5240), ('@megynkelly', 3119), ('@CNN', 2353), ('@newtgingrich', 1845), ('@seanhannity', 1808), ('@KellyannePolls', 1706), ('@wikileaks', 1422), ('@FBI', 1332), ('#MAGA', 1325), ('@YouTube', 1248), ('@ABC', 936), ('@MSNBC', 929), ('@mitchellvii', 899), ('@mike_pence', 878), ('@POTUS', 867), ('@IngrahamAngle', 857), ('@jasoninthehouse', 838), ('@CNNPolitics', 809), ('@washingtonpost', 807), ('@WDFx2EU7', 743), ('@nytimes', 712), ('@DonaldJTrumpJr', 703), ('@BreitbartNews', 683), ('#Trump', 657), ('@GOP', 652), ('@politico', 612), ('@SpeakerRyan', 608), ('@NBCNews', 585)]\n",
      "\n",
      "-----C2Top30_dict-----\n",
      "[('@HillaryClinton', 6669), ('@realDonaldTrump', 4663), ('@YouTube', 4615), ('#Trump', 4298), ('#PJNET', 3873), ('@CNN', 3124), ('#COSProject', 3026), ('#Hillary', 2923), ('#MAGA', 2813), ('@FoxNews', 2429), ('@megynkelly', 2161), ('@MSNBC', 1876), ('#Clinton', 1702), ('@FBI', 1681), ('#TRUMP', 1662), ('#CrookedHillary', 1611), ('@JoyAnnReid', 1591), ('@wikileaks', 1513), ('#news', 1510), ('@washingtonpost', 1482), ('#ImWithHer', 1468), ('#HillaryClinton', 1435), ('@nytimes', 1377), ('@GOP', 1283), ('@seanhannity', 1257), ('#GOP', 1257), ('@POTUS', 1255), ('@kurteichenwald', 1224), ('#DrainTheSwamp', 1216), ('@jasoninthehouse', 1192)]\n"
     ]
    }
   ],
   "source": [
    "import operator\n",
    "C1Top30_dict = dict()\n",
    "C2Top30_dict = dict()\n",
    "for i in range(len(kmeans_part2_labels)):\n",
    "    if kmeans_part2_labels[i] == 0:\n",
    "        hhlist = User_dict[UserList[i]]\n",
    "        for hh in hhlist:\n",
    "            if hh in C1Top30_dict:\n",
    "                C1Top30_dict[hh] += hhlist[hh]\n",
    "            else:\n",
    "                C1Top30_dict[hh] = hhlist[hh]\n",
    "    else:\n",
    "        hhlist = User_dict[UserList[i]]\n",
    "        for hh in hhlist:\n",
    "            if hh in C2Top30_dict:\n",
    "                C2Top30_dict[hh] += hhlist[hh]\n",
    "            else:\n",
    "                C2Top30_dict[hh] = hhlist[hh]\n",
    "sorted_c1 = sorted(C1Top30_dict.items(), key=operator.itemgetter(1), reverse = True)\n",
    "sorted_c2 = sorted(C2Top30_dict.items(), key=operator.itemgetter(1), reverse = True)\n",
    "C1Top30_dict = sorted_c1[0:30]\n",
    "C2Top30_dict = sorted_c2[0:30]\n",
    "print('-----C1Top30_dict-----')\n",
    "print(C1Top30_dict)\n",
    "print('\\n-----C2Top30_dict-----')\n",
    "print(C2Top30_dict)"
   ]
  },
  {
   "cell_type": "markdown",
   "metadata": {},
   "source": [
    "Conclusions: \n",
    "1. Trump supporters used more \"@\" mentions for Trump then clinton supporters\n",
    "2. Similarly, Clinton supporters used more \"@\"  mentions for Clinton\n",
    "3. Trump supporters most frequently mentioned news organization was Fox News\n",
    "4. Clinton supporters most frequently mentioned news organization was CNN\n",
    "5. Lots of overlap between the two groups according to the results\n",
    "6. #Trump appears in top 30 of both groups, but the #Clinton and the like is absent  "
   ]
  },
  {
   "cell_type": "code",
   "execution_count": null,
   "metadata": {
    "collapsed": true
   },
   "outputs": [],
   "source": []
  },
  {
   "cell_type": "code",
   "execution_count": null,
   "metadata": {
    "collapsed": true
   },
   "outputs": [],
   "source": []
  }
 ],
 "metadata": {
  "kernelspec": {
   "display_name": "Python 3",
   "language": "python",
   "name": "python3"
  },
  "language_info": {
   "codemirror_mode": {
    "name": "ipython",
    "version": 3
   },
   "file_extension": ".py",
   "mimetype": "text/x-python",
   "name": "python",
   "nbconvert_exporter": "python",
   "pygments_lexer": "ipython3",
   "version": "3.6.3"
  }
 },
 "nbformat": 4,
 "nbformat_minor": 2
}
