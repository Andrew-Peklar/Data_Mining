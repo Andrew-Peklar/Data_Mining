{
 "cells": [
  {
   "cell_type": "markdown",
   "metadata": {},
   "source": [
    "## Pre-Processing"
   ]
  },
  {
   "cell_type": "markdown",
   "metadata": {},
   "source": [
    "** *\n",
    "### Import the Twitter data"
   ]
  },
  {
   "cell_type": "code",
   "execution_count": null,
   "metadata": {},
   "outputs": [],
   "source": [
    "import pandas as pd\n",
    "user_cols = ['Name', 'ScreenName', 'UserID', 'FollowersCount', 'FriendsCount','Location','Description','CreatedAt','StatusID', 'Language', 'Place','RetweetCount','FavoriteCount','Text']\n",
    "df = pd.read_csv('clinton_trump_tweets.txt', sep ='\\t', encoding = \"ISO-8859-1\", header  = None, names = user_cols)\n",
    "df.sort_values(by = ['UserID'], inplace = True)\n",
    "df.shape\n",
    "\n",
    "pd.set_option('display.max_colwidth', -1)"
   ]
  },
  {
   "cell_type": "markdown",
   "metadata": {},
   "source": [
    "** *\n",
    "### Remove unuseful information and  retweets"
   ]
  },
  {
   "cell_type": "code",
   "execution_count": 3,
   "metadata": {
    "collapsed": true
   },
   "outputs": [],
   "source": [
    "df.drop(['Name', 'ScreenName', 'Location','CreatedAt','StatusID','Language','Place','RetweetCount','FavoriteCount','FollowersCount','FriendsCount'], axis=1, inplace=True)"
   ]
  },
  {
   "cell_type": "code",
   "execution_count": 4,
   "metadata": {
    "collapsed": true
   },
   "outputs": [],
   "source": [
    "df = df[df.Text.str.startswith('RT') == False]"
   ]
  },
  {
   "cell_type": "markdown",
   "metadata": {},
   "source": [
    "** *\n",
    "### Place all hashtags and handlers into bin"
   ]
  },
  {
   "cell_type": "code",
   "execution_count": 5,
   "metadata": {
    "collapsed": true
   },
   "outputs": [],
   "source": [
    "import re\n",
    "df['HH'] = df.Text.apply(lambda x : ' '.join(re.findall('(?:^|\\s)([#|@]{1}\\w+)', x)))"
   ]
  },
  {
   "cell_type": "code",
   "execution_count": 6,
   "metadata": {},
   "outputs": [
    {
     "data": {
      "text/html": [
       "<div>\n",
       "<style>\n",
       "    .dataframe thead tr:only-child th {\n",
       "        text-align: right;\n",
       "    }\n",
       "\n",
       "    .dataframe thead th {\n",
       "        text-align: left;\n",
       "    }\n",
       "\n",
       "    .dataframe tbody tr th {\n",
       "        vertical-align: top;\n",
       "    }\n",
       "</style>\n",
       "<table border=\"1\" class=\"dataframe\">\n",
       "  <thead>\n",
       "    <tr style=\"text-align: right;\">\n",
       "      <th></th>\n",
       "      <th>UserID</th>\n",
       "      <th>Description</th>\n",
       "      <th>Text</th>\n",
       "      <th>HH</th>\n",
       "    </tr>\n",
       "  </thead>\n",
       "  <tbody>\n",
       "    <tr>\n",
       "      <th>1767378</th>\n",
       "      <td>150</td>\n",
       "      <td>Systems Programming, PLT, BJJ. Work: @specializedtype, @buoyantio Married to @thatstacy. Dad: Nora, Lucy. Also: @stevej_links Prev:Twitter, Google, Blogger</td>\n",
       "      <td>@iano @thatstacy nice! pro ceo move</td>\n",
       "      <td>@iano @thatstacy</td>\n",
       "    </tr>\n",
       "    <tr>\n",
       "      <th>668327</th>\n",
       "      <td>150</td>\n",
       "      <td>Systems Programming, PLT, BJJ. Work: @specializedtype, @buoyantio Married to @thatstacy. Dad: Nora, Lucy. Also: @stevej_links Prev:Twitter, Google, Blogger</td>\n",
       "      <td>@nelson @fjordinn speaking of stealth archers!</td>\n",
       "      <td>@nelson @fjordinn</td>\n",
       "    </tr>\n",
       "    <tr>\n",
       "      <th>4915364</th>\n",
       "      <td>150</td>\n",
       "      <td>Systems Programming, PLT, BJJ. Work: @specializedtype, @buoyantio Married to @thatstacy. Dad: Nora, Lucy. Also: @stevej_links Prev:Twitter, Google, Blogger</td>\n",
       "      <td>@gwestr it'll all come out in the lawsuit.</td>\n",
       "      <td>@gwestr</td>\n",
       "    </tr>\n",
       "    <tr>\n",
       "      <th>697413</th>\n",
       "      <td>150</td>\n",
       "      <td>Systems Programming, PLT, BJJ. Work: @specializedtype, @buoyantio Married to @thatstacy. Dad: Nora, Lucy. Also: @stevej_links Prev:Twitter, Google, Blogger</td>\n",
       "      <td>@shinypb google drive.</td>\n",
       "      <td>@shinypb</td>\n",
       "    </tr>\n",
       "    <tr>\n",
       "      <th>709152</th>\n",
       "      <td>150</td>\n",
       "      <td>Systems Programming, PLT, BJJ. Work: @specializedtype, @buoyantio Married to @thatstacy. Dad: Nora, Lucy. Also: @stevej_links Prev:Twitter, Google, Blogger</td>\n",
       "      <td>@fjordinn did you ever try the hi-res mod pack for windows?</td>\n",
       "      <td>@fjordinn</td>\n",
       "    </tr>\n",
       "  </tbody>\n",
       "</table>\n",
       "</div>"
      ],
      "text/plain": [
       "         UserID  \\\n",
       "1767378  150      \n",
       "668327   150      \n",
       "4915364  150      \n",
       "697413   150      \n",
       "709152   150      \n",
       "\n",
       "                                                                                                                                                         Description  \\\n",
       "1767378  Systems Programming, PLT, BJJ. Work: @specializedtype, @buoyantio Married to @thatstacy. Dad: Nora, Lucy. Also: @stevej_links Prev:Twitter, Google, Blogger   \n",
       "668327   Systems Programming, PLT, BJJ. Work: @specializedtype, @buoyantio Married to @thatstacy. Dad: Nora, Lucy. Also: @stevej_links Prev:Twitter, Google, Blogger   \n",
       "4915364  Systems Programming, PLT, BJJ. Work: @specializedtype, @buoyantio Married to @thatstacy. Dad: Nora, Lucy. Also: @stevej_links Prev:Twitter, Google, Blogger   \n",
       "697413   Systems Programming, PLT, BJJ. Work: @specializedtype, @buoyantio Married to @thatstacy. Dad: Nora, Lucy. Also: @stevej_links Prev:Twitter, Google, Blogger   \n",
       "709152   Systems Programming, PLT, BJJ. Work: @specializedtype, @buoyantio Married to @thatstacy. Dad: Nora, Lucy. Also: @stevej_links Prev:Twitter, Google, Blogger   \n",
       "\n",
       "                                                                Text  \\\n",
       "1767378  @iano @thatstacy nice! pro ceo move                           \n",
       "668327   @nelson @fjordinn speaking of stealth archers!                \n",
       "4915364  @gwestr it'll all come out in the lawsuit.                    \n",
       "697413   @shinypb google drive.                                        \n",
       "709152   @fjordinn did you ever try the hi-res mod pack for windows?   \n",
       "\n",
       "                        HH  \n",
       "1767378  @iano @thatstacy   \n",
       "668327   @nelson @fjordinn  \n",
       "4915364  @gwestr            \n",
       "697413   @shinypb           \n",
       "709152   @fjordinn          "
      ]
     },
     "execution_count": 6,
     "metadata": {},
     "output_type": "execute_result"
    }
   ],
   "source": [
    "df.head()"
   ]
  },
  {
   "cell_type": "markdown",
   "metadata": {},
   "source": [
    "** *\n",
    "### Create new text bin that excludes hashtags and handles"
   ]
  },
  {
   "cell_type": "code",
   "execution_count": 7,
   "metadata": {
    "collapsed": true
   },
   "outputs": [],
   "source": [
    "df['Text_noHH'] = df.Text.apply(lambda x : ' '.join(re.sub(\"(@[A-Za-z0-9]+)|(#[A-Za-z0-9]+)|([^0-9A-Za-z \\t])|(\\w+:\\/\\/\\S+)\",\" \",x).split()))"
   ]
  },
  {
   "cell_type": "code",
   "execution_count": 8,
   "metadata": {},
   "outputs": [
    {
     "data": {
      "text/html": [
       "<div>\n",
       "<style>\n",
       "    .dataframe thead tr:only-child th {\n",
       "        text-align: right;\n",
       "    }\n",
       "\n",
       "    .dataframe thead th {\n",
       "        text-align: left;\n",
       "    }\n",
       "\n",
       "    .dataframe tbody tr th {\n",
       "        vertical-align: top;\n",
       "    }\n",
       "</style>\n",
       "<table border=\"1\" class=\"dataframe\">\n",
       "  <thead>\n",
       "    <tr style=\"text-align: right;\">\n",
       "      <th></th>\n",
       "      <th>UserID</th>\n",
       "      <th>Description</th>\n",
       "      <th>Text</th>\n",
       "      <th>HH</th>\n",
       "      <th>Text_noHH</th>\n",
       "    </tr>\n",
       "  </thead>\n",
       "  <tbody>\n",
       "    <tr>\n",
       "      <th>1767378</th>\n",
       "      <td>150</td>\n",
       "      <td>Systems Programming, PLT, BJJ. Work: @specializedtype, @buoyantio Married to @thatstacy. Dad: Nora, Lucy. Also: @stevej_links Prev:Twitter, Google, Blogger</td>\n",
       "      <td>@iano @thatstacy nice! pro ceo move</td>\n",
       "      <td>@iano @thatstacy</td>\n",
       "      <td>nice pro ceo move</td>\n",
       "    </tr>\n",
       "    <tr>\n",
       "      <th>668327</th>\n",
       "      <td>150</td>\n",
       "      <td>Systems Programming, PLT, BJJ. Work: @specializedtype, @buoyantio Married to @thatstacy. Dad: Nora, Lucy. Also: @stevej_links Prev:Twitter, Google, Blogger</td>\n",
       "      <td>@nelson @fjordinn speaking of stealth archers!</td>\n",
       "      <td>@nelson @fjordinn</td>\n",
       "      <td>speaking of stealth archers</td>\n",
       "    </tr>\n",
       "    <tr>\n",
       "      <th>4915364</th>\n",
       "      <td>150</td>\n",
       "      <td>Systems Programming, PLT, BJJ. Work: @specializedtype, @buoyantio Married to @thatstacy. Dad: Nora, Lucy. Also: @stevej_links Prev:Twitter, Google, Blogger</td>\n",
       "      <td>@gwestr it'll all come out in the lawsuit.</td>\n",
       "      <td>@gwestr</td>\n",
       "      <td>it ll all come out in the lawsuit</td>\n",
       "    </tr>\n",
       "    <tr>\n",
       "      <th>697413</th>\n",
       "      <td>150</td>\n",
       "      <td>Systems Programming, PLT, BJJ. Work: @specializedtype, @buoyantio Married to @thatstacy. Dad: Nora, Lucy. Also: @stevej_links Prev:Twitter, Google, Blogger</td>\n",
       "      <td>@shinypb google drive.</td>\n",
       "      <td>@shinypb</td>\n",
       "      <td>google drive</td>\n",
       "    </tr>\n",
       "    <tr>\n",
       "      <th>709152</th>\n",
       "      <td>150</td>\n",
       "      <td>Systems Programming, PLT, BJJ. Work: @specializedtype, @buoyantio Married to @thatstacy. Dad: Nora, Lucy. Also: @stevej_links Prev:Twitter, Google, Blogger</td>\n",
       "      <td>@fjordinn did you ever try the hi-res mod pack for windows?</td>\n",
       "      <td>@fjordinn</td>\n",
       "      <td>did you ever try the hi res mod pack for windows</td>\n",
       "    </tr>\n",
       "  </tbody>\n",
       "</table>\n",
       "</div>"
      ],
      "text/plain": [
       "         UserID  \\\n",
       "1767378  150      \n",
       "668327   150      \n",
       "4915364  150      \n",
       "697413   150      \n",
       "709152   150      \n",
       "\n",
       "                                                                                                                                                         Description  \\\n",
       "1767378  Systems Programming, PLT, BJJ. Work: @specializedtype, @buoyantio Married to @thatstacy. Dad: Nora, Lucy. Also: @stevej_links Prev:Twitter, Google, Blogger   \n",
       "668327   Systems Programming, PLT, BJJ. Work: @specializedtype, @buoyantio Married to @thatstacy. Dad: Nora, Lucy. Also: @stevej_links Prev:Twitter, Google, Blogger   \n",
       "4915364  Systems Programming, PLT, BJJ. Work: @specializedtype, @buoyantio Married to @thatstacy. Dad: Nora, Lucy. Also: @stevej_links Prev:Twitter, Google, Blogger   \n",
       "697413   Systems Programming, PLT, BJJ. Work: @specializedtype, @buoyantio Married to @thatstacy. Dad: Nora, Lucy. Also: @stevej_links Prev:Twitter, Google, Blogger   \n",
       "709152   Systems Programming, PLT, BJJ. Work: @specializedtype, @buoyantio Married to @thatstacy. Dad: Nora, Lucy. Also: @stevej_links Prev:Twitter, Google, Blogger   \n",
       "\n",
       "                                                                Text  \\\n",
       "1767378  @iano @thatstacy nice! pro ceo move                           \n",
       "668327   @nelson @fjordinn speaking of stealth archers!                \n",
       "4915364  @gwestr it'll all come out in the lawsuit.                    \n",
       "697413   @shinypb google drive.                                        \n",
       "709152   @fjordinn did you ever try the hi-res mod pack for windows?   \n",
       "\n",
       "                        HH                                         Text_noHH  \n",
       "1767378  @iano @thatstacy   nice pro ceo move                                 \n",
       "668327   @nelson @fjordinn  speaking of stealth archers                       \n",
       "4915364  @gwestr            it ll all come out in the lawsuit                 \n",
       "697413   @shinypb           google drive                                      \n",
       "709152   @fjordinn          did you ever try the hi res mod pack for windows  "
      ]
     },
     "execution_count": 8,
     "metadata": {},
     "output_type": "execute_result"
    }
   ],
   "source": [
    "df.head()"
   ]
  },
  {
   "cell_type": "markdown",
   "metadata": {},
   "source": [
    "** *\n",
    "### Import list of pruned active users from MiniProject-1 and create active users column"
   ]
  },
  {
   "cell_type": "code",
   "execution_count": 2,
   "metadata": {
    "collapsed": true
   },
   "outputs": [],
   "source": [
    "activeUsers = pd.read_csv('ActiveUserList.csv')"
   ]
  },
  {
   "cell_type": "code",
   "execution_count": 3,
   "metadata": {
    "collapsed": true
   },
   "outputs": [],
   "source": [
    "UserList = activeUsers.colummn"
   ]
  },
  {
   "cell_type": "code",
   "execution_count": 4,
   "metadata": {},
   "outputs": [
    {
     "data": {
      "text/plain": [
       "0    1134681\n",
       "1    1329901\n",
       "2    1354481\n",
       "3    1366631\n",
       "4    1449381\n",
       "Name: colummn, dtype: int64"
      ]
     },
     "execution_count": 4,
     "metadata": {},
     "output_type": "execute_result"
    }
   ],
   "source": [
    "UserList.head(5)"
   ]
  },
  {
   "cell_type": "markdown",
   "metadata": {},
   "source": [
    "** *\n",
    "### Create new dataframe consisting of active users"
   ]
  },
  {
   "cell_type": "code",
   "execution_count": 12,
   "metadata": {
    "collapsed": true
   },
   "outputs": [],
   "source": [
    "df2 = df[df['UserID'].isin(UserList)]"
   ]
  },
  {
   "cell_type": "code",
   "execution_count": 13,
   "metadata": {},
   "outputs": [
    {
     "data": {
      "text/html": [
       "<div>\n",
       "<style>\n",
       "    .dataframe thead tr:only-child th {\n",
       "        text-align: right;\n",
       "    }\n",
       "\n",
       "    .dataframe thead th {\n",
       "        text-align: left;\n",
       "    }\n",
       "\n",
       "    .dataframe tbody tr th {\n",
       "        vertical-align: top;\n",
       "    }\n",
       "</style>\n",
       "<table border=\"1\" class=\"dataframe\">\n",
       "  <thead>\n",
       "    <tr style=\"text-align: right;\">\n",
       "      <th></th>\n",
       "      <th>UserID</th>\n",
       "      <th>Description</th>\n",
       "      <th>Text</th>\n",
       "      <th>HH</th>\n",
       "      <th>Text_noHH</th>\n",
       "    </tr>\n",
       "  </thead>\n",
       "  <tbody>\n",
       "    <tr>\n",
       "      <th>2001496</th>\n",
       "      <td>1134681</td>\n",
       "      <td>Utilitarian. Vegan. For well being, free speech, classical liberalism, evidenced based policy yada yada yada. Against suffering. Retweets are perspectives.</td>\n",
       "      <td>@Socialismkills This makes a good case that she may have Parkinson's https://t.co/vuWC4RFnnh</td>\n",
       "      <td>@Socialismkills</td>\n",
       "      <td>This makes a good case that she may have Parkinson s</td>\n",
       "    </tr>\n",
       "    <tr>\n",
       "      <th>5205740</th>\n",
       "      <td>1134681</td>\n",
       "      <td>Utilitarian. Vegan. For well being, free speech, classical liberalism, evidenced based policy yada yada yada. Against suffering. Retweets are perspectives.</td>\n",
       "      <td>@Warden_AoS Ironically Fox probably has the most balanced coverage of any network, having #NeverTrump #NeverHillary, and #MAGA personalities</td>\n",
       "      <td>@Warden_AoS #NeverTrump #NeverHillary #MAGA</td>\n",
       "      <td>AoS Ironically Fox probably has the most balanced coverage of any network having and personalities</td>\n",
       "    </tr>\n",
       "    <tr>\n",
       "      <th>3776779</th>\n",
       "      <td>1134681</td>\n",
       "      <td>Utilitarian. Vegan. For well being, free speech, classical liberalism, evidenced based policy yada yada yada. Against suffering. Retweets are perspectives.</td>\n",
       "      <td>@SANDRAYYCNW @YEGlifer Nor left wing SJWs...</td>\n",
       "      <td>@SANDRAYYCNW @YEGlifer</td>\n",
       "      <td>Nor left wing SJWs</td>\n",
       "    </tr>\n",
       "    <tr>\n",
       "      <th>4776223</th>\n",
       "      <td>1134681</td>\n",
       "      <td>Utilitarian. Vegan. For well being, free speech, classical liberalism, evidenced based policy yada yada yada. Against suffering. Retweets are perspectives.</td>\n",
       "      <td>@StewartBellNP @acoyne The left won the culture ware (yay), but now they want to shoot the survivors (boo)...</td>\n",
       "      <td>@StewartBellNP @acoyne</td>\n",
       "      <td>The left won the culture ware yay but now they want to shoot the survivors boo</td>\n",
       "    </tr>\n",
       "    <tr>\n",
       "      <th>4203352</th>\n",
       "      <td>1134681</td>\n",
       "      <td>Utilitarian. Vegan. For well being, free speech, classical liberalism, evidenced based policy yada yada yada. Against suffering. Retweets are perspectives.</td>\n",
       "      <td>@adamjohnsonNYC Actually races differ in various skull attributes. https://t.co/BzR7I0ZzU3</td>\n",
       "      <td>@adamjohnsonNYC</td>\n",
       "      <td>Actually races differ in various skull attributes</td>\n",
       "    </tr>\n",
       "  </tbody>\n",
       "</table>\n",
       "</div>"
      ],
      "text/plain": [
       "          UserID  \\\n",
       "2001496  1134681   \n",
       "5205740  1134681   \n",
       "3776779  1134681   \n",
       "4776223  1134681   \n",
       "4203352  1134681   \n",
       "\n",
       "                                                                                                                                                         Description  \\\n",
       "2001496  Utilitarian. Vegan. For well being, free speech, classical liberalism, evidenced based policy yada yada yada. Against suffering. Retweets are perspectives.   \n",
       "5205740  Utilitarian. Vegan. For well being, free speech, classical liberalism, evidenced based policy yada yada yada. Against suffering. Retweets are perspectives.   \n",
       "3776779  Utilitarian. Vegan. For well being, free speech, classical liberalism, evidenced based policy yada yada yada. Against suffering. Retweets are perspectives.   \n",
       "4776223  Utilitarian. Vegan. For well being, free speech, classical liberalism, evidenced based policy yada yada yada. Against suffering. Retweets are perspectives.   \n",
       "4203352  Utilitarian. Vegan. For well being, free speech, classical liberalism, evidenced based policy yada yada yada. Against suffering. Retweets are perspectives.   \n",
       "\n",
       "                                                                                                                                                 Text  \\\n",
       "2001496  @Socialismkills This makes a good case that she may have Parkinson's https://t.co/vuWC4RFnnh                                                   \n",
       "5205740  @Warden_AoS Ironically Fox probably has the most balanced coverage of any network, having #NeverTrump #NeverHillary, and #MAGA personalities   \n",
       "3776779  @SANDRAYYCNW @YEGlifer Nor left wing SJWs...                                                                                                   \n",
       "4776223  @StewartBellNP @acoyne The left won the culture ware (yay), but now they want to shoot the survivors (boo)...                                  \n",
       "4203352  @adamjohnsonNYC Actually races differ in various skull attributes. https://t.co/BzR7I0ZzU3                                                     \n",
       "\n",
       "                                                  HH  \\\n",
       "2001496  @Socialismkills                               \n",
       "5205740  @Warden_AoS #NeverTrump #NeverHillary #MAGA   \n",
       "3776779  @SANDRAYYCNW @YEGlifer                        \n",
       "4776223  @StewartBellNP @acoyne                        \n",
       "4203352  @adamjohnsonNYC                               \n",
       "\n",
       "                                                                                                  Text_noHH  \n",
       "2001496  This makes a good case that she may have Parkinson s                                                \n",
       "5205740  AoS Ironically Fox probably has the most balanced coverage of any network having and personalities  \n",
       "3776779  Nor left wing SJWs                                                                                  \n",
       "4776223  The left won the culture ware yay but now they want to shoot the survivors boo                      \n",
       "4203352  Actually races differ in various skull attributes                                                   "
      ]
     },
     "execution_count": 13,
     "metadata": {},
     "output_type": "execute_result"
    }
   ],
   "source": [
    "df2.head()"
   ]
  },
  {
   "cell_type": "markdown",
   "metadata": {},
   "source": [
    "** *\n",
    "### Group user data by user ID"
   ]
  },
  {
   "cell_type": "code",
   "execution_count": 14,
   "metadata": {
    "collapsed": true
   },
   "outputs": [],
   "source": [
    "dfGroupedID1 = pd.DataFrame({'HH' : df2.groupby(['UserID', 'Description'])['HH'].apply(lambda x:' '.join(x))}).reset_index()"
   ]
  },
  {
   "cell_type": "code",
   "execution_count": 24,
   "metadata": {},
   "outputs": [
    {
     "data": {
      "text/html": [
       "<div>\n",
       "<style>\n",
       "    .dataframe thead tr:only-child th {\n",
       "        text-align: right;\n",
       "    }\n",
       "\n",
       "    .dataframe thead th {\n",
       "        text-align: left;\n",
       "    }\n",
       "\n",
       "    .dataframe tbody tr th {\n",
       "        vertical-align: top;\n",
       "    }\n",
       "</style>\n",
       "<table border=\"1\" class=\"dataframe\">\n",
       "  <thead>\n",
       "    <tr style=\"text-align: right;\">\n",
       "      <th></th>\n",
       "      <th>UserID</th>\n",
       "      <th>Description</th>\n",
       "      <th>HH</th>\n",
       "    </tr>\n",
       "  </thead>\n",
       "  <tbody>\n",
       "    <tr>\n",
       "      <th>0</th>\n",
       "      <td>1134681</td>\n",
       "      <td>Utilitarian. Vegan. For well being, free speech, classical liberalism, evidenced based policy yada yada yada. Against suffering. Retweets are perspectives.</td>\n",
       "      <td>@Socialismkills @Warden_AoS #NeverTrump #NeverHillary #MAGA @SANDRAYYCNW @YEGlifer @StewartBellNP @acoyne @adamjohnsonNYC @sethgs @acoyne @PrisonPlanet @paulkrugman @PrisonPlanet @Neil_Irwin @asymmetricinfo @acoyne @NextOnTCM @ripmymunchies @adamjohnsonNYC @paulkrugman @zerohedge @PrisonPlanet @thedailybeast @oliverdarcy @markmackinnon @SamHarrisOrg @Ayaan @MaajidNawaz @charlesmurray @wikileaks #PodestaEmails21 @KSoltisAnderson @JayMan471 @c4chaos @Dennis_Kucinich @The_Nation @thenation @JamesOKeefeIII @WhiteHouse @rbcreamer @HillaryClinton @POTUS @wikileaks #PodestaEmails @StefanMolyneux @JVLast @TomCruise @DavidAFrench @SamHarrisOrg @sapinker @carlbildt @SamHarrisOrg @Ayaan @MaajidNawaz @charlesmurray @okapiden @adamjohnsonNYC @Socialismkills @ILoveHillaryC @therealroseanne @wikileaks @RickAnderson @RobSilver @RobSilver @JackPosobiec @Gavin_McInnes @ScottAdamsSays @Cernovich @ashsrevnge @RickAnderson #NeverHillary #NeverTrump</td>\n",
       "    </tr>\n",
       "  </tbody>\n",
       "</table>\n",
       "</div>"
      ],
      "text/plain": [
       "    UserID  \\\n",
       "0  1134681   \n",
       "\n",
       "                                                                                                                                                   Description  \\\n",
       "0  Utilitarian. Vegan. For well being, free speech, classical liberalism, evidenced based policy yada yada yada. Against suffering. Retweets are perspectives.   \n",
       "\n",
       "                                                                                                                                                                                                                                                                                                                                                                                                                                                                                                                                                                                                                                                                                                                                                                                                                                                                                                                                                                              HH  \n",
       "0  @Socialismkills @Warden_AoS #NeverTrump #NeverHillary #MAGA @SANDRAYYCNW @YEGlifer @StewartBellNP @acoyne @adamjohnsonNYC @sethgs @acoyne @PrisonPlanet @paulkrugman @PrisonPlanet @Neil_Irwin @asymmetricinfo @acoyne @NextOnTCM @ripmymunchies @adamjohnsonNYC @paulkrugman @zerohedge @PrisonPlanet @thedailybeast @oliverdarcy @markmackinnon @SamHarrisOrg @Ayaan @MaajidNawaz @charlesmurray @wikileaks #PodestaEmails21 @KSoltisAnderson @JayMan471 @c4chaos @Dennis_Kucinich @The_Nation @thenation @JamesOKeefeIII @WhiteHouse @rbcreamer @HillaryClinton @POTUS @wikileaks #PodestaEmails @StefanMolyneux @JVLast @TomCruise @DavidAFrench @SamHarrisOrg @sapinker @carlbildt @SamHarrisOrg @Ayaan @MaajidNawaz @charlesmurray @okapiden @adamjohnsonNYC @Socialismkills @ILoveHillaryC @therealroseanne @wikileaks @RickAnderson @RobSilver @RobSilver @JackPosobiec @Gavin_McInnes @ScottAdamsSays @Cernovich @ashsrevnge @RickAnderson #NeverHillary #NeverTrump  "
      ]
     },
     "execution_count": 24,
     "metadata": {},
     "output_type": "execute_result"
    }
   ],
   "source": [
    "dfGroupedID1.head(1)"
   ]
  },
  {
   "cell_type": "markdown",
   "metadata": {},
   "source": [
    "** *"
   ]
  },
  {
   "cell_type": "code",
   "execution_count": 18,
   "metadata": {
    "collapsed": true
   },
   "outputs": [],
   "source": [
    "dfGroupedID2 = pd.DataFrame({'Text_noHH' : df2.groupby(['UserID', 'Description'])['Text_noHH'].apply(lambda x:' '.join(x))}).reset_index()"
   ]
  },
  {
   "cell_type": "code",
   "execution_count": 25,
   "metadata": {},
   "outputs": [
    {
     "data": {
      "text/html": [
       "<div>\n",
       "<style>\n",
       "    .dataframe thead tr:only-child th {\n",
       "        text-align: right;\n",
       "    }\n",
       "\n",
       "    .dataframe thead th {\n",
       "        text-align: left;\n",
       "    }\n",
       "\n",
       "    .dataframe tbody tr th {\n",
       "        vertical-align: top;\n",
       "    }\n",
       "</style>\n",
       "<table border=\"1\" class=\"dataframe\">\n",
       "  <thead>\n",
       "    <tr style=\"text-align: right;\">\n",
       "      <th></th>\n",
       "      <th>UserID</th>\n",
       "      <th>Description</th>\n",
       "      <th>Text_noHH</th>\n",
       "    </tr>\n",
       "  </thead>\n",
       "  <tbody>\n",
       "    <tr>\n",
       "      <th>0</th>\n",
       "      <td>1134681</td>\n",
       "      <td>Utilitarian. Vegan. For well being, free speech, classical liberalism, evidenced based policy yada yada yada. Against suffering. Retweets are perspectives.</td>\n",
       "      <td>This makes a good case that she may have Parkinson s AoS Ironically Fox probably has the most balanced coverage of any network having and personalities Nor left wing SJWs The left won the culture ware yay but now they want to shoot the survivors boo Actually races differ in various skull attributes Perhaps if you read the story you realize why it s not getting the attention other allegations against him have Twitter does not believe in free speech Media contributed through coverage bias that Trump Clinton would be nominees and HRC the Presid Twitter does not believe in real debate Irwin His work is done Trump agrees My fave classic film series Not sure who created it but it s from here Hope it represents you accurately Great summary via the Reddit thread Others too such as a Vox Actually look at the GIF here it s clearly not her holding it Reading about this story it s clear why it s not getting the coverage the previous allegations rightfully did tho BTW would make a great guest to talk Trump immigration race controversial science etc Reddit thread Map would look differently for white millennials Kucinich Nation My fave vegan politician Since was a community organizer no less Nice up to date list of the Most Damaging Wikileaks so far here Look at that drop I think so I remember this from last year Impossible to know what would have happened what tapes emails etc would have come out Trump 3rd party run etc Good lord you have had almost everyone on my wish list on now still hoping for and Nick Bostrom Perhaps re sub twee this to correct your mistake Have had on for years so not so surprising Interesting thanks will have to read that Also has a new video with further discussion from a couple days ago I had thought claims of favouritism were bunk until the DNC Podesta As guests not as hosts Hard to imagine anyone on CNN MNBC voting Trump easy to see split on Fox Link Are you talking about now or an hour ago Maybe ask McInnes about his experience In terms of the media Ben Carson said it well During this election Fox maybe the most balanced having folks no other network has that mix</td>\n",
       "    </tr>\n",
       "  </tbody>\n",
       "</table>\n",
       "</div>"
      ],
      "text/plain": [
       "    UserID  \\\n",
       "0  1134681   \n",
       "\n",
       "                                                                                                                                                   Description  \\\n",
       "0  Utilitarian. Vegan. For well being, free speech, classical liberalism, evidenced based policy yada yada yada. Against suffering. Retweets are perspectives.   \n",
       "\n",
       "                                                                                                                                                                                                                                                                                                                                                                                                                                                                                                                                                                                                                                                                                                                                                                                                                                                                                                                                                                                                                                                                                                                                                                                                                                                                                                                                                                                                                                                                                                                                                                                                                                                                                                                                                                                                                                                                                                                                                                                                                                                                                                                                                                                            Text_noHH  \n",
       "0  This makes a good case that she may have Parkinson s AoS Ironically Fox probably has the most balanced coverage of any network having and personalities Nor left wing SJWs The left won the culture ware yay but now they want to shoot the survivors boo Actually races differ in various skull attributes Perhaps if you read the story you realize why it s not getting the attention other allegations against him have Twitter does not believe in free speech Media contributed through coverage bias that Trump Clinton would be nominees and HRC the Presid Twitter does not believe in real debate Irwin His work is done Trump agrees My fave classic film series Not sure who created it but it s from here Hope it represents you accurately Great summary via the Reddit thread Others too such as a Vox Actually look at the GIF here it s clearly not her holding it Reading about this story it s clear why it s not getting the coverage the previous allegations rightfully did tho BTW would make a great guest to talk Trump immigration race controversial science etc Reddit thread Map would look differently for white millennials Kucinich Nation My fave vegan politician Since was a community organizer no less Nice up to date list of the Most Damaging Wikileaks so far here Look at that drop I think so I remember this from last year Impossible to know what would have happened what tapes emails etc would have come out Trump 3rd party run etc Good lord you have had almost everyone on my wish list on now still hoping for and Nick Bostrom Perhaps re sub twee this to correct your mistake Have had on for years so not so surprising Interesting thanks will have to read that Also has a new video with further discussion from a couple days ago I had thought claims of favouritism were bunk until the DNC Podesta As guests not as hosts Hard to imagine anyone on CNN MNBC voting Trump easy to see split on Fox Link Are you talking about now or an hour ago Maybe ask McInnes about his experience In terms of the media Ben Carson said it well During this election Fox maybe the most balanced having folks no other network has that mix  "
      ]
     },
     "execution_count": 25,
     "metadata": {},
     "output_type": "execute_result"
    }
   ],
   "source": [
    "dfGroupedID2.head(1)"
   ]
  },
  {
   "cell_type": "markdown",
   "metadata": {},
   "source": [
    "** *"
   ]
  },
  {
   "cell_type": "code",
   "execution_count": 31,
   "metadata": {
    "collapsed": true
   },
   "outputs": [],
   "source": [
    "f = {'Description':lambda x: ', '.join(str(y) for y in set(x)),'HH':lambda x:' '.join(x), 'Text_noHH':lambda x:' '.join(x)}"
   ]
  },
  {
   "cell_type": "code",
   "execution_count": 32,
   "metadata": {},
   "outputs": [
    {
     "data": {
      "text/html": [
       "<div>\n",
       "<style>\n",
       "    .dataframe thead tr:only-child th {\n",
       "        text-align: right;\n",
       "    }\n",
       "\n",
       "    .dataframe thead th {\n",
       "        text-align: left;\n",
       "    }\n",
       "\n",
       "    .dataframe tbody tr th {\n",
       "        vertical-align: top;\n",
       "    }\n",
       "</style>\n",
       "<table border=\"1\" class=\"dataframe\">\n",
       "  <thead>\n",
       "    <tr style=\"text-align: right;\">\n",
       "      <th></th>\n",
       "      <th>UserID</th>\n",
       "      <th>Description</th>\n",
       "      <th>Text</th>\n",
       "      <th>HH</th>\n",
       "      <th>Text_noHH</th>\n",
       "    </tr>\n",
       "  </thead>\n",
       "  <tbody>\n",
       "    <tr>\n",
       "      <th>2001496</th>\n",
       "      <td>1134681</td>\n",
       "      <td>Utilitarian. Vegan. For well being, free speech, classical liberalism, evidenced based policy yada yada yada. Against suffering. Retweets are perspectives.</td>\n",
       "      <td>@Socialismkills This makes a good case that she may have Parkinson's https://t.co/vuWC4RFnnh</td>\n",
       "      <td>@Socialismkills</td>\n",
       "      <td>This makes a good case that she may have Parkinson s</td>\n",
       "    </tr>\n",
       "    <tr>\n",
       "      <th>5205740</th>\n",
       "      <td>1134681</td>\n",
       "      <td>Utilitarian. Vegan. For well being, free speech, classical liberalism, evidenced based policy yada yada yada. Against suffering. Retweets are perspectives.</td>\n",
       "      <td>@Warden_AoS Ironically Fox probably has the most balanced coverage of any network, having #NeverTrump #NeverHillary, and #MAGA personalities</td>\n",
       "      <td>@Warden_AoS #NeverTrump #NeverHillary #MAGA</td>\n",
       "      <td>AoS Ironically Fox probably has the most balanced coverage of any network having and personalities</td>\n",
       "    </tr>\n",
       "    <tr>\n",
       "      <th>3776779</th>\n",
       "      <td>1134681</td>\n",
       "      <td>Utilitarian. Vegan. For well being, free speech, classical liberalism, evidenced based policy yada yada yada. Against suffering. Retweets are perspectives.</td>\n",
       "      <td>@SANDRAYYCNW @YEGlifer Nor left wing SJWs...</td>\n",
       "      <td>@SANDRAYYCNW @YEGlifer</td>\n",
       "      <td>Nor left wing SJWs</td>\n",
       "    </tr>\n",
       "  </tbody>\n",
       "</table>\n",
       "</div>"
      ],
      "text/plain": [
       "          UserID  \\\n",
       "2001496  1134681   \n",
       "5205740  1134681   \n",
       "3776779  1134681   \n",
       "\n",
       "                                                                                                                                                         Description  \\\n",
       "2001496  Utilitarian. Vegan. For well being, free speech, classical liberalism, evidenced based policy yada yada yada. Against suffering. Retweets are perspectives.   \n",
       "5205740  Utilitarian. Vegan. For well being, free speech, classical liberalism, evidenced based policy yada yada yada. Against suffering. Retweets are perspectives.   \n",
       "3776779  Utilitarian. Vegan. For well being, free speech, classical liberalism, evidenced based policy yada yada yada. Against suffering. Retweets are perspectives.   \n",
       "\n",
       "                                                                                                                                                 Text  \\\n",
       "2001496  @Socialismkills This makes a good case that she may have Parkinson's https://t.co/vuWC4RFnnh                                                   \n",
       "5205740  @Warden_AoS Ironically Fox probably has the most balanced coverage of any network, having #NeverTrump #NeverHillary, and #MAGA personalities   \n",
       "3776779  @SANDRAYYCNW @YEGlifer Nor left wing SJWs...                                                                                                   \n",
       "\n",
       "                                                  HH  \\\n",
       "2001496  @Socialismkills                               \n",
       "5205740  @Warden_AoS #NeverTrump #NeverHillary #MAGA   \n",
       "3776779  @SANDRAYYCNW @YEGlifer                        \n",
       "\n",
       "                                                                                                  Text_noHH  \n",
       "2001496  This makes a good case that she may have Parkinson s                                                \n",
       "5205740  AoS Ironically Fox probably has the most balanced coverage of any network having and personalities  \n",
       "3776779  Nor left wing SJWs                                                                                  "
      ]
     },
     "execution_count": 32,
     "metadata": {},
     "output_type": "execute_result"
    }
   ],
   "source": [
    "df2.head(3)"
   ]
  },
  {
   "cell_type": "markdown",
   "metadata": {},
   "source": [
    "** *"
   ]
  },
  {
   "cell_type": "code",
   "execution_count": 33,
   "metadata": {
    "collapsed": true
   },
   "outputs": [],
   "source": [
    "df3 = df2.groupby(['UserID']).agg(f)"
   ]
  },
  {
   "cell_type": "code",
   "execution_count": 35,
   "metadata": {},
   "outputs": [
    {
     "data": {
      "text/html": [
       "<div>\n",
       "<style>\n",
       "    .dataframe thead tr:only-child th {\n",
       "        text-align: right;\n",
       "    }\n",
       "\n",
       "    .dataframe thead th {\n",
       "        text-align: left;\n",
       "    }\n",
       "\n",
       "    .dataframe tbody tr th {\n",
       "        vertical-align: top;\n",
       "    }\n",
       "</style>\n",
       "<table border=\"1\" class=\"dataframe\">\n",
       "  <thead>\n",
       "    <tr style=\"text-align: right;\">\n",
       "      <th></th>\n",
       "      <th>Description</th>\n",
       "      <th>HH</th>\n",
       "      <th>Text_noHH</th>\n",
       "    </tr>\n",
       "    <tr>\n",
       "      <th>UserID</th>\n",
       "      <th></th>\n",
       "      <th></th>\n",
       "      <th></th>\n",
       "    </tr>\n",
       "  </thead>\n",
       "  <tbody>\n",
       "    <tr>\n",
       "      <th>1134681</th>\n",
       "      <td>Utilitarian. Vegan. For well being, free speech, classical liberalism, evidenced based policy yada yada yada. Against suffering. Retweets are perspectives.</td>\n",
       "      <td>@Socialismkills @Warden_AoS #NeverTrump #NeverHillary #MAGA @SANDRAYYCNW @YEGlifer @StewartBellNP @acoyne @adamjohnsonNYC @sethgs @acoyne @PrisonPlanet @paulkrugman @PrisonPlanet @Neil_Irwin @asymmetricinfo @acoyne @NextOnTCM @ripmymunchies @adamjohnsonNYC @paulkrugman @zerohedge @PrisonPlanet @thedailybeast @oliverdarcy @markmackinnon @SamHarrisOrg @Ayaan @MaajidNawaz @charlesmurray @wikileaks #PodestaEmails21 @KSoltisAnderson @JayMan471 @c4chaos @Dennis_Kucinich @The_Nation @thenation @JamesOKeefeIII @WhiteHouse @rbcreamer @HillaryClinton @POTUS @wikileaks #PodestaEmails @StefanMolyneux @JVLast @TomCruise @DavidAFrench @SamHarrisOrg @sapinker @carlbildt @SamHarrisOrg @Ayaan @MaajidNawaz @charlesmurray @okapiden @adamjohnsonNYC @Socialismkills @ILoveHillaryC @therealroseanne @wikileaks @RickAnderson @RobSilver @RobSilver @JackPosobiec @Gavin_McInnes @ScottAdamsSays @Cernovich @ashsrevnge @RickAnderson #NeverHillary #NeverTrump</td>\n",
       "      <td>This makes a good case that she may have Parkinson s AoS Ironically Fox probably has the most balanced coverage of any network having and personalities Nor left wing SJWs The left won the culture ware yay but now they want to shoot the survivors boo Actually races differ in various skull attributes Perhaps if you read the story you realize why it s not getting the attention other allegations against him have Twitter does not believe in free speech Media contributed through coverage bias that Trump Clinton would be nominees and HRC the Presid Twitter does not believe in real debate Irwin His work is done Trump agrees My fave classic film series Not sure who created it but it s from here Hope it represents you accurately Great summary via the Reddit thread Others too such as a Vox Actually look at the GIF here it s clearly not her holding it Reading about this story it s clear why it s not getting the coverage the previous allegations rightfully did tho BTW would make a great guest to talk Trump immigration race controversial science etc Reddit thread Map would look differently for white millennials Kucinich Nation My fave vegan politician Since was a community organizer no less Nice up to date list of the Most Damaging Wikileaks so far here Look at that drop I think so I remember this from last year Impossible to know what would have happened what tapes emails etc would have come out Trump 3rd party run etc Good lord you have had almost everyone on my wish list on now still hoping for and Nick Bostrom Perhaps re sub twee this to correct your mistake Have had on for years so not so surprising Interesting thanks will have to read that Also has a new video with further discussion from a couple days ago I had thought claims of favouritism were bunk until the DNC Podesta As guests not as hosts Hard to imagine anyone on CNN MNBC voting Trump easy to see split on Fox Link Are you talking about now or an hour ago Maybe ask McInnes about his experience In terms of the media Ben Carson said it well During this election Fox maybe the most balanced having folks no other network has that mix</td>\n",
       "    </tr>\n",
       "  </tbody>\n",
       "</table>\n",
       "</div>"
      ],
      "text/plain": [
       "                                                                                                                                                         Description  \\\n",
       "UserID                                                                                                                                                                 \n",
       "1134681  Utilitarian. Vegan. For well being, free speech, classical liberalism, evidenced based policy yada yada yada. Against suffering. Retweets are perspectives.   \n",
       "\n",
       "                                                                                                                                                                                                                                                                                                                                                                                                                                                                                                                                                                                                                                                                                                                                                                                                                                                                                                                                                                                    HH  \\\n",
       "UserID                                                                                                                                                                                                                                                                                                                                                                                                                                                                                                                                                                                                                                                                                                                                                                                                                                                                                                                                                                                   \n",
       "1134681  @Socialismkills @Warden_AoS #NeverTrump #NeverHillary #MAGA @SANDRAYYCNW @YEGlifer @StewartBellNP @acoyne @adamjohnsonNYC @sethgs @acoyne @PrisonPlanet @paulkrugman @PrisonPlanet @Neil_Irwin @asymmetricinfo @acoyne @NextOnTCM @ripmymunchies @adamjohnsonNYC @paulkrugman @zerohedge @PrisonPlanet @thedailybeast @oliverdarcy @markmackinnon @SamHarrisOrg @Ayaan @MaajidNawaz @charlesmurray @wikileaks #PodestaEmails21 @KSoltisAnderson @JayMan471 @c4chaos @Dennis_Kucinich @The_Nation @thenation @JamesOKeefeIII @WhiteHouse @rbcreamer @HillaryClinton @POTUS @wikileaks #PodestaEmails @StefanMolyneux @JVLast @TomCruise @DavidAFrench @SamHarrisOrg @sapinker @carlbildt @SamHarrisOrg @Ayaan @MaajidNawaz @charlesmurray @okapiden @adamjohnsonNYC @Socialismkills @ILoveHillaryC @therealroseanne @wikileaks @RickAnderson @RobSilver @RobSilver @JackPosobiec @Gavin_McInnes @ScottAdamsSays @Cernovich @ashsrevnge @RickAnderson #NeverHillary #NeverTrump   \n",
       "\n",
       "                                                                                                                                                                                                                                                                                                                                                                                                                                                                                                                                                                                                                                                                                                                                                                                                                                                                                                                                                                                                                                                                                                                                                                                                                                                                                                                                                                                                                                                                                                                                                                                                                                                                                                                                                                                                                                                                                                                                                                                                                                                                                                                                                                                                  Text_noHH  \n",
       "UserID                                                                                                                                                                                                                                                                                                                                                                                                                                                                                                                                                                                                                                                                                                                                                                                                                                                                                                                                                                                                                                                                                                                                                                                                                                                                                                                                                                                                                                                                                                                                                                                                                                                                                                                                                                                                                                                                                                                                                                                                                                                                                                                                                                                                       \n",
       "1134681  This makes a good case that she may have Parkinson s AoS Ironically Fox probably has the most balanced coverage of any network having and personalities Nor left wing SJWs The left won the culture ware yay but now they want to shoot the survivors boo Actually races differ in various skull attributes Perhaps if you read the story you realize why it s not getting the attention other allegations against him have Twitter does not believe in free speech Media contributed through coverage bias that Trump Clinton would be nominees and HRC the Presid Twitter does not believe in real debate Irwin His work is done Trump agrees My fave classic film series Not sure who created it but it s from here Hope it represents you accurately Great summary via the Reddit thread Others too such as a Vox Actually look at the GIF here it s clearly not her holding it Reading about this story it s clear why it s not getting the coverage the previous allegations rightfully did tho BTW would make a great guest to talk Trump immigration race controversial science etc Reddit thread Map would look differently for white millennials Kucinich Nation My fave vegan politician Since was a community organizer no less Nice up to date list of the Most Damaging Wikileaks so far here Look at that drop I think so I remember this from last year Impossible to know what would have happened what tapes emails etc would have come out Trump 3rd party run etc Good lord you have had almost everyone on my wish list on now still hoping for and Nick Bostrom Perhaps re sub twee this to correct your mistake Have had on for years so not so surprising Interesting thanks will have to read that Also has a new video with further discussion from a couple days ago I had thought claims of favouritism were bunk until the DNC Podesta As guests not as hosts Hard to imagine anyone on CNN MNBC voting Trump easy to see split on Fox Link Are you talking about now or an hour ago Maybe ask McInnes about his experience In terms of the media Ben Carson said it well During this election Fox maybe the most balanced having folks no other network has that mix  "
      ]
     },
     "execution_count": 35,
     "metadata": {},
     "output_type": "execute_result"
    }
   ],
   "source": [
    "df3.head(1)"
   ]
  },
  {
   "cell_type": "markdown",
   "metadata": {},
   "source": [
    "** *\n",
    "### Import ground truth and sort by UserID "
   ]
  },
  {
   "cell_type": "code",
   "execution_count": 38,
   "metadata": {
    "scrolled": true
   },
   "outputs": [
    {
     "data": {
      "text/html": [
       "<div>\n",
       "<style>\n",
       "    .dataframe thead tr:only-child th {\n",
       "        text-align: right;\n",
       "    }\n",
       "\n",
       "    .dataframe thead th {\n",
       "        text-align: left;\n",
       "    }\n",
       "\n",
       "    .dataframe tbody tr th {\n",
       "        vertical-align: top;\n",
       "    }\n",
       "</style>\n",
       "<table border=\"1\" class=\"dataframe\">\n",
       "  <thead>\n",
       "    <tr style=\"text-align: right;\">\n",
       "      <th></th>\n",
       "      <th>UserID</th>\n",
       "      <th>Category</th>\n",
       "    </tr>\n",
       "  </thead>\n",
       "  <tbody>\n",
       "    <tr>\n",
       "      <th>139005</th>\n",
       "      <td>1134681</td>\n",
       "      <td>0</td>\n",
       "    </tr>\n",
       "    <tr>\n",
       "      <th>22059</th>\n",
       "      <td>1329901</td>\n",
       "      <td>0</td>\n",
       "    </tr>\n",
       "    <tr>\n",
       "      <th>22118</th>\n",
       "      <td>1354481</td>\n",
       "      <td>0</td>\n",
       "    </tr>\n",
       "    <tr>\n",
       "      <th>91153</th>\n",
       "      <td>1366631</td>\n",
       "      <td>0</td>\n",
       "    </tr>\n",
       "    <tr>\n",
       "      <th>197078</th>\n",
       "      <td>1449381</td>\n",
       "      <td>1</td>\n",
       "    </tr>\n",
       "  </tbody>\n",
       "</table>\n",
       "</div>"
      ],
      "text/plain": [
       "         UserID  Category\n",
       "139005  1134681  0       \n",
       "22059   1329901  0       \n",
       "22118   1354481  0       \n",
       "91153   1366631  0       \n",
       "197078  1449381  1       "
      ]
     },
     "execution_count": 38,
     "metadata": {},
     "output_type": "execute_result"
    }
   ],
   "source": [
    "user_cols = ['UserID', 'Category']\n",
    "groundtruth = pd.read_csv('clinton_trump_user_classes.txt', sep ='\\t', encoding = \"ISO-8859-1\", header  = None, names = user_cols)\n",
    "groundtruth.sort_values(by=['UserID'], inplace = True)\n",
    "\n",
    "groundtruth = groundtruth[groundtruth['UserID'].isin(UserList)]\n",
    "\n",
    "groundtruth.head()"
   ]
  },
  {
   "cell_type": "code",
   "execution_count": 39,
   "metadata": {
    "collapsed": true
   },
   "outputs": [],
   "source": [
    "groundtruth = groundtruth.Category.tolist()"
   ]
  },
  {
   "cell_type": "code",
   "execution_count": 40,
   "metadata": {
    "collapsed": true
   },
   "outputs": [],
   "source": [
    "data_text_noHH = df3.Text_noHH"
   ]
  },
  {
   "cell_type": "markdown",
   "metadata": {},
   "source": [
    "** *\n",
    "### Feature extraction for text *without* hashtags/handles"
   ]
  },
  {
   "cell_type": "code",
   "execution_count": 44,
   "metadata": {
    "collapsed": true
   },
   "outputs": [],
   "source": [
    "import sklearn.feature_extraction.text as sk_text\n",
    "\n",
    "vectorizer_text_noHH = sk_text.TfidfVectorizer(stop_words='english',\n",
    "                             max_features = 1000,\n",
    "                             min_df=5, \n",
    "                             #max_df=50\n",
    "                             )\n",
    "\n",
    "matrix_text_noHH = vectorizer_text_noHH.fit_transform(data_text_noHH)"
   ]
  },
  {
   "cell_type": "code",
   "execution_count": 54,
   "metadata": {
    "scrolled": true
   },
   "outputs": [
    {
     "name": "stdout",
     "output_type": "stream",
     "text": [
      "<class 'scipy.sparse.csr.csr_matrix'>\n",
      "[[ 0.          0.          0.         ...,  0.          0.          0.        ]\n",
      " [ 0.          0.02601058  0.         ...,  0.          0.01559117  0.        ]\n",
      " [ 0.          0.          0.         ...,  0.          0.04115398  0.        ]\n",
      " ..., \n",
      " [ 0.          0.00826901  0.         ...,  0.0210634   0.          0.        ]\n",
      " [ 0.0223909   0.01752616  0.06016538 ...,  0.          0.01050547  0.        ]\n",
      " [ 0.          0.          0.         ...,  0.          0.          0.        ]]\n",
      "['00', '000', '01', '02', '03', '04', '05', '06', '07', '08', '09', '10', '100', '11', '12', '13', '14', '15', '16', '17', '18', '19', '1st', '20', '2016', '21', '22', '23', '24', '25', '26', '27', '28', '29', '30', '31', '32', '33', '34', '35', '36', '37', '38', '39', '40', '41', '42', '44', '45', '47', '48', '49', '50', '55', '59', '8th', 'abc', 'abedin', 'able', 'absolutely', 'abt', 'access', 'account', 'act', 'action', 'actions', 'actually', 'ad', 'agents', 'ago', 'agree', 'ahead', 'air', 'al', 'allowed', 'amazing', 'amen', 'america', 'american', 'americans', 'angry', 'answer', 'anthony', 'anti', 'anymore', 'app', 'aren', 'arrested', 'article', 'ask', 'asked', 'asking', 'ass', 'assange', 'assault', 'attack', 'attention', 'attorney', 'away', 'awesome', 'baby', 'bad', 'ballot', 'ballots', 'based', 'bc', 'beat', 'beautiful', 'believe', 'benghazi', 'bernie', 'best', 'bet', 'better', 'bias', 'biased', 'biden', 'big', 'bigger', 'biggest', 'birthday', 'bit', 'bitch', 'black', 'blacks', 'blame', 'bless', 'block', 'blocked', 'blue', 'bombshell', 'book', 'born', 'boy', 'brain', 'break', 'breaking', 'breitbart', 'bring', 'broke', 'brought', 'bs', 'bullshit', 'bush', 'business', 'buy', 'ca', 'california', 'called', 'calling', 'calls', 'came', 'camp', 'campaign', 'canada', 'candidate', 'car', 'care', 'career', 'cares', 'carolina', 'case', 'cash', 'caught', 'cause', 'chaffetz', 'chance', 'change', 'changed', 'charges', 'check', 'chicago', 'chief', 'child', 'children', 'choice', 'chris', 'christian', 'citizens', 'city', 'civil', 'claim', 'claims', 'class', 'classified', 'clean', 'clear', 'clearly', 'clinton', 'clintons', 'close', 'cnn', 'college', 'com', 'come', 'comes', 'comey', 'coming', 'comment', 'common', 'company', 'complete', 'completely', 'computer', 'congress', 'conservative', 'conspiracy', 'constitution', 'continue', 'control', 'cool', 'correct', 'corrupt', 'corruption', 'cost', 'couldn', 'count', 'country', 'county', 'course', 'court', 'cover', 'coverage', 'covering', 'crap', 'crazy', 'created', 'crime', 'crimes', 'criminal', 'crooked', 'crowd', 'cubs', 'cut', 'dad', 'daily', 'damn', 'dangerous', 'data', 'daughter', 'david', 'day', 'days', 'dc', 'dead', 'deal', 'dear', 'death', 'debate', 'decision', 'deep', 'defense', 'dem', 'demand', 'democracy', 'democrat', 'democratic', 'democrats', 'dems', 'department', 'deplorable', 'dept', 'deserve', 'destroy', 'destroyed', 'details', 'did', 'didn', 'die', 'difference', 'different', 'director', 'dirty', 'disgusting', 'dnc', 'does', 'doesn', 'dog', 'doing', 'doj', 'don', 'donald', 'dont', 'doubt', 'dr', 'drop', 'dt', 'dude', 'dumb', 'early', 'earth', 'easy', 'economy', 'eest', 'eet', 'elect', 'elected', 'election', 'elections', 'em', 'email', 'emails', 'en', 'end', 'enjoy', 'entire', 'especially', 'everyday', 'evidence', 'evil', 'ex', 'exactly', 'example', 'expect', 'explain', 'exposed', 'eyes', 'face', 'facebook', 'fact', 'facts', 'failed', 'fair', 'fake', 'fall', 'false', 'family', 'fan', 'fans', 'far', 'father', 'fbi', 'fear', 'fed', 'federal', 'feel', 'female', 'fight', 'fighting', 'finally', 'finds', 'fine', 'fired', 'fix', 'fl', 'florida', 'folks', 'follow', 'followers', 'following', 'food', 'fool', 'football', 'force', 'forced', 'foreign', 'forget', 'forward', 'foundation', 'fox', 'fraud', 'free', 'freedom', 'fri', 'friend', 'friends', 'fuck', 'fucking', 'fun', 'funny', 'future', 'game', 'gave', 'general', 'george', 'gets', 'getting', 'gingrich', 'girl', 'girls', 'given', 'gives', 'giving', 'glad', 'global', 'god', 'goes', 'going', 'gone', 'gonna', 'good', 'google', 'gop', 'got', 'gotta', 'gov', 'government', 'govt', 'great', 'group', 'guess', 'guilty', 'gun', 'guy', 'guys', 'ha', 'hack', 'hacked', 'half', 'halloween', 'hand', 'hands', 'hannity', 'happen', 'happened', 'happening', 'happens', 'happy', 'hard', 'harry', 'hasn', 'hate', 'haven', 'having', 'head', 'health', 'hear', 'heard', 'heart', 'hell', 'help', 'helping', 'hey', 'hi', 'hide', 'high', 'hill', 'hillary', 'hillarys', 'history', 'hit', 'hold', 'hollywood', 'home', 'homeless', 'honest', 'hope', 'hot', 'hotel', 'hour', 'hours', 'house', 'hrc', 'huge', 'huma', 'human', 'hurt', 'husband', 'id', 'idea', 'idiot', 'ignorant', 'illegal', 'im', 'imagine', 'important', 'info', 'information', 'inside', 'instead', 'insurance', 'interesting', 'internet', 'interview', 'investigate', 'investigation', 'involved', 'iran', 'isis', 'islam', 'isn', 'issue', 'issues', 'jail', 'james', 'jesus', 'job', 'jobs', 'joe', 'john', 'join', 'joke', 'journalist', 'judge', 'just', 'justice', 'kaine', 'kelly', 'kids', 'kill', 'killed', 'killing', 'kind', 'king', 'knew', 'know', 'known', 'knows', 'lady', 'land', 'laptop', 'late', 'latest', 'law', 'laws', 'lead', 'leader', 'leaders', 'leaked', 'learn', 'leave', 'left', 'legal', 'let', 'lets', 'letter', 'level', 'liar', 'liberal', 'liberals', 'lie', 'lied', 'lies', 'life', 'light', 'like', 'likely', 'line', 'link', 'list', 'listen', 'literally', 'little', 'live', 'lives', 'living', 'll', 'lock', 'lol', 'long', 'longer', 'look', 'looking', 'looks', 'lord', 'loretta', 'lose', 'loser', 'loses', 'losing', 'lost', 'lot', 'lots', 'love', 'lover', 'loves', 'low', 'lying', 'lynch', 'machine', 'machines', 'major', 'make', 'makes', 'making', 'man', 'mark', 'massive', 'matter', 'maybe', 'mcmullin', 'mean', 'means', 'media', 'megyn', 'men', 'mess', 'message', 'michael', 'michelle', 'middle', 'mike', 'military', 'million', 'millions', 'mind', 'miss', 'missing', 'mom', 'mon', 'money', 'months', 'moore', 'morning', 'mother', 'mouth', 'movie', 'mr', 'msm', 'msnbc', 'mt', 'music', 'muslim', 'muslims', 'nasty', 'nation', 'national', 'nc', 'near', 'need', 'needed', 'needs', 'network', 'new', 'news', 'newt', 'nice', 'night', 'non', 'nope', 'north', 'nov', 'november', 'null', 'numbers', 'ny', 'obama', 'obamacare', 'obviously', 'oct', 'october', 'office', 'official', 'officials', 'oh', 'ohio', 'ok', 'okay', 'old', 'omg', 'ones', 'open', 'opening', 'opinion', 'order', 'page', 'paid', 'paper', 'party', 'pass', 'past', 'pathetic', 'paul', 'pay', 'paying', 'pence', 'people', 'perfect', 'person', 'personal', 'philippine', 'phone', 'photo', 'picture', 'piece', 'place', 'plan', 'plane', 'play', 'playing', 'podesta', 'point', 'points', 'police', 'policy', 'political', 'politicians', 'politics', 'poll', 'polls', 'poor', 'possible', 'post', 'potus', 'power', 'ppl', 'predator', 'presidency', 'president', 'presidential', 'press', 'pretty', 'prison', 'private', 'pro', 'probably', 'probe', 'problem', 'proof', 'protect', 'proud', 'public', 'pussy', 'putin', 'question', 'questions', 'quite', 'race', 'racism', 'racist', 'rallies', 'rally', 'rape', 'ratings', 'read', 'reading', 'ready', 'real', 'reality', 'realize', 'really', 'reason', 'record', 'red', 'refugees', 'reid', 'release', 'released', 'remember', 'reopening', 'report', 'reporter', 'reporting', 'reports', 'republican', 'republicans', 'research', 'resign', 'respect', 'rest', 'returns', 'retweet', 'retweeted', 'reveals', 'review', 'rich', 'rigged', 'rigging', 'right', 'rights', 'rock', 'room', 'rt', 'run', 'running', 'russia', 'russian', 'ryan', 'sad', 'safe', 'said', 'sat', 'save', 'saw', 'say', 'saying', 'says', 'scandal', 'scary', 'school', 'season', 'second', 'secret', 'security', 'seeing', 'seen', 'self', 'sell', 'selling', 'senate', 'send', 'sense', 'sent', 'series', 'seriously', 'server', 'service', 'set', 'sex', 'sexual', 'shame', 'share', 'shit', 'short', 'shot', 'shouldn', 'showing', 'shows', 'shut', 'sick', 'sign', 'single', 'small', 'smart', 'social', 'son', 'soon', 'soros', 'sorry', 'sound', 'sounds', 'source', 'south', 'speak', 'speaking', 'special', 'speech', 'spin', 'sports', 'st', 'staff', 'stand', 'standing', 'star', 'start', 'started', 'state', 'statement', 'states', 'stay', 'step', 'stop', 'story', 'straight', 'stream', 'street', 'strong', 'stuff', 'stupid', 'sun', 'super', 'support', 'supporter', 'supporters', 'supporting', 'sure', 'surprise', 'surprised', 'swamp', 'syria', 'taken', 'takes', 'taking', 'talk', 'talking', 'tax', 'taxes', 'team', 'tell', 'telling', 'tells', 'term', 'texas', 'thank', 'thanks', 'thats', 'thing', 'things', 'think', 'thinking', 'thinks', 'thought', 'thousands', 'throw', 'thu', 'ties', 'tim', 'time', 'times', 'tired', 'today', 'told', 'tomorrow', 'tonight', 'took', 'total', 'totally', 'trial', 'tried', 'true', 'truly', 'trump', 'trumps', 'trust', 'truth', 'try', 'trying', 'tue', 'turn', 'turned', 'tv', 'tweet', 'tweets', 'twitter', 'tx', 'uk', 'understand', 'united', 'unless', 'ur', 'usa', 'use', 'used', 'using', 've', 'video', 'violence', 'voice', 'vote', 'voted', 'voter', 'voters', 'votes', 'voting', 'vs', 'wait', 'waiting', 'wake', 'walk', 'wall', 'want', 'wanted', 'wants', 'war', 'warrant', 'washington', 'wasn', 'watch', 'watching', 'water', 'way', 'wed', 'week', 'weeks', 'weiner', 'welcome', 'went', 'west', 'wh', 'white', 'wife', 'wikileaks', 'win', 'wing', 'winning', 'wins', 'wish', 'woman', 'women', 'won', 'wonder', 'word', 'words', 'work', 'worked', 'working', 'works', 'world', 'worry', 'worse', 'worst', 'worth', 'wouldn', 'wow', 'write', 'writer', 'wrong', 'wtf', 'ya', 'yeah', 'year', 'years', 'yep', 'yes', 'yesterday', 'york', 'young', 'yr', 'yrs', 'zero']\n"
     ]
    }
   ],
   "source": [
    "print(type(matrix_text_noHH))                    # Compressed Sparse Row matrix\n",
    "print(matrix_text_noHH.toarray())                # Convert it to numpy array\n",
    "print(vectorizer_text_noHH.get_feature_names())  # Print features"
   ]
  },
  {
   "cell_type": "markdown",
   "metadata": {},
   "source": [
    "** *\n",
    "### Feature extraction for hashtags/handles"
   ]
  },
  {
   "cell_type": "code",
   "execution_count": 55,
   "metadata": {
    "collapsed": true
   },
   "outputs": [],
   "source": [
    "data_HH = df3.HH"
   ]
  },
  {
   "cell_type": "code",
   "execution_count": 56,
   "metadata": {
    "collapsed": true
   },
   "outputs": [],
   "source": [
    "vectorizer_HH = sk_text.TfidfVectorizer(stop_words='english',\n",
    "                             max_features = 1000,\n",
    "                             min_df=5, \n",
    "                             #max_df=50\n",
    "                             )\n",
    "\n",
    "matrix_HH = vectorizer_HH.fit_transform(data_HH)"
   ]
  },
  {
   "cell_type": "code",
   "execution_count": 59,
   "metadata": {},
   "outputs": [
    {
     "name": "stdout",
     "output_type": "stream",
     "text": [
      "<class 'scipy.sparse.csr.csr_matrix'>\n",
      "[[ 0.          0.          0.         ...,  0.          0.          0.18858649]\n",
      " [ 0.02363746  0.          0.         ...,  0.02658912  0.          0.        ]\n",
      " [ 0.          0.          0.         ...,  0.          0.          0.        ]\n",
      " ..., \n",
      " [ 0.          0.          0.         ...,  0.          0.          0.        ]\n",
      " [ 0.          0.          0.         ...,  0.02623885  0.          0.        ]\n",
      " [ 0.          0.          0.         ...,  0.          0.          0.        ]]\n",
      "['0hour1__', '100percfedup', '1a', '20committee', '2a', '_hankrearden', '_makada_', 'abc', 'abcnews', 'abcpolitics', 'ac360', 'aca', 'acosta', 'actualflatticus', 'adamparkhomenko', 'adamsflafan', 'adele', 'adirado29', 'ai', 'aiiamericangiri', 'ajdelgado13', 'alabama', 'aleppo', 'alivitali', 'allahpundit', 'allanbrauer', 'allenwest', 'allenwestrepub', 'allinwithchris', 'alllibertynews', 'alternet', 'always_trump', 'amandacarpenter', 'america', 'americafirst', 'american', 'americanmex067', 'americans', 'amjoy', 'amjoyshow', 'amymek', 'analytics', 'anamariecox', 'ananavarro', 'andersoncooper', 'andieiamwhoiam', 'angela_rye', 'anncoulter', 'anthonyweiner', 'aol', 'ap', 'ap_politics', 'apple', 'appleevent', 'appsame', 'aravosis', 'ariefriedman', 'arimelber', 'arizona', 'arkansas', 'armandodkos', 'articlev', 'asamjulian', 'atensnut', 'auntlulie', 'auspol', 'awakestates', 'az', 'backstorymom1', 'bad_bad_bernie', 'bakari_sellers', 'bakedalaska', 'bannerite', 'barackobama', 'barbmuenchen', 'barracudamama', 'baseballbands', 'basketofdeplorables', 'bbcnews', 'bbcworld', 'becketadams', 'bencjacobs', 'benghazi', 'benhowe', 'benshapiro', 'bernie', 'berniesanders', 'bfraser747', 'bigdata', 'bikers4trump', 'billclinton', 'billkristol', 'billmaher', 'bipartisan', 'blacklivesmatter', 'blacksfortrump', 'blacktwitter', 'bleacherreport', 'blm', 'bluewave', 'bluewave2016', 'borisjohnson', 'bostonglobe', 'boycott', 'boycottmegynkelly', 'bpolitics', 'braddjaffy', 'braveheart_usa', 'breaking', 'breakingnews', 'breitbart', 'breitbartnews', 'bretbaier', 'brexit', 'brianbeutler', 'brianefallon', 'brianstelter', 'brithume', 'brookebcnn', 'brunelldonald', 'business', 'businessinsider', 'buzzfeednews', 'byronyork', 'c0nvey', 'ca', 'california', 'callisto1947', 'canada', 'capehartj', 'carlbernstein', 'carminezozzora', 'carrieksada', 'cassandrarules', 'cbs', 'cbsnews', 'ccot', 'cdnpoli', 'celebs', 'cernovich', 'change', 'charlesmblow', 'charliekirk11', 'chelseaclinton', 'cher', 'chicago', 'china', 'chriscuomo', 'chrisjzullo', 'chrislhayes', 'christian', 'christichat', 'christinawilkie', 'chucknellis', 'chucktodd', 'chuckwoolery', 'cityonahilltv', 'clewandowski_', 'cliffwilkin', 'climatechange', 'clinton', 'clintoncorruption', 'clintoncrimefamily', 'clintonemails', 'clintonfdn', 'clintonfoundation', 'clintonkaine', 'clintons', 'clintonscandals', 'cloud', 'cnbc', 'cnn', 'cnnbrk', 'cnni', 'cnnmoney', 'cnnpolitics', 'cnnsitroom', 'co_rapunzel4', 'colorado', 'comey', 'comeyresign', 'congress', 'conservative', 'conservatives', 'constitutionnat', 'content', 'correctrecord', 'corrupt', 'corrupthillary', 'corruption', 'corruptmedia', 'cosiskey', 'cosproject', 'costareports', 'cowboys', 'cristinalaila1', 'crooked', 'crookedhillary', 'crooksandliars', 'cspanwj', 'cubs', 'curtishouck', 'cvpayne', 'dailycaller', 'dailykos', 'dailymail', 'dailynewsbin', 'dailysignal', 'danabashcnn', 'danahoule', 'danaperino', 'danmericacnn', 'danpfeiffer', 'danriehl', 'danscavino', 'dansch2002', 'dapl', 'darren32895836', 'data', 'daveweigel', 'davidafrench', 'davidaxelrod', 'davidcorndc', 'davidfrum', 'davidsirota', 'dcclothesline', 'dcexaminer', 'ddale8', 'debate', 'debatenight', 'debramessing', 'deejay90192', 'demexit', 'demfromct', 'democrat', 'democrat_4trump', 'democrats', 'dems', 'deplorable', 'deplorabledjt', 'deplorables', 'deray', 'devops', 'diamondandsilk', 'dikileaks', 'dineshdsouza', 'dissentingj', 'diwali', 'dnc', 'docrocktex26', 'doj', 'donaldjtrumpjr', 'donaldtrump', 'donlemon', 'donnabrazile', 'donthecon', 'doubledrizz', 'doug_giles', 'douthatnyt', 'draftourdaughters', 'draintheswamp', 'drjillstein', 'drmartyfox', 'drudge', 'drudge_report', 'dumptrump', 'eagles', 'earlyvoting', 'ebay', 'eclecticbrotha', 'edhenry', 'eileendefreest', 'ejlandwehr', 'election', 'election2016', 'electionfraud', 'elizabethforma', 'email', 'emails', 'emailscandal', 'ericboehlert', 'ericbolling', 'erictrump', 'es_snipes', 'espn', 'esqpolitics', 'eu', 'evan_mcmullin', 'ewerickson', 'expectus', 'facebook', 'facethenation', 'fahrenthold', 'fail', 'fawfulfan', 'fbi', 'fbireopenscase', 'fec', 'feelthebern', 'femalesfortrump', 'ff', 'firecomey', 'fivethirtyeight', 'fl', 'flgovscott', 'flipitdem', 'florida', 'flotus', 'forbes', 'forecasterenten', 'fox', 'foxandfriends', 'foxbusiness', 'foxnews', 'foxnewsinsider', 'foxnewspolitics', 'foxnewssunday', 'franklin_graham', 'frankluntz', 'fraud', 'fredbookmann', 'fredzeppelin12', 'freebeacon', 'fridayfeeling', 'fusion', 'ga', 'gaetasusan', 'gatewaypundit', 'gdebenedetti', 'genflynn', 'georgesoros', 'georgetakei', 'georgewept', 'georgia', 'geraldorivera', 'ggreenwald', 'gh', 'girlsreallyrule', 'glennbeck', 'glennthrush', 'gma', 'gocubsgo', 'god', 'gohillary', 'goldengateblond', 'google', 'gop', 'gottalaff', 'gotv', 'govgaryjohnson', 'govhowarddean', 'govmikehuckabee', 'govpencein', 'grabyourwallet', 'gregabbott_tx', 'greggutfeld', 'greta', 'growth', 'gstephanopoulos', 'guardian', 'guilty', 'guypbenson', 'hagoodmanauthor', 'halliejackson', 'halloween', 'hannity', 'hardball', 'hardballchris', 'harlan', 'harrisfaulkner', 'health', 'healthcare', 'hectormorenco', 'heerjeet', 'hereiamwithher', 'heritage', 'heytammybruce', 'hfa', 'hillary', 'hillary2016', 'hillaryclinton', 'hillaryemail', 'hillaryemails', 'hillaryforprison', 'hillaryforprison2016', 'hillarysamerica', 'hillarysbullies', 'hillarysemail', 'hillarysemails', 'housecracka', 'housegop', 'howardkurtz', 'hrc', 'hrtablaze', 'huffingtonpost', 'huffpostpol', 'hughhewitt', 'huma', 'humaabedin', 'humanrights', 'ibm', 'ibmwow', 'illinois', 'imillhiser', 'immigrant4trump', 'imwither', 'imwithher', 'independent', 'india', 'indians', 'infowars', 'ingrahamangle', 'inners', 'insideedition', 'instapundit', 'intelligencer', 'iot', 'iowa', 'iowahawkblog', 'iran', 'irs', 'isikoff', 'isis', 'israel', 'italians4trump', 'ivankatrump', 'jack', 'jackposobiec', 'jaguars', 'jaketapper', 'jamescomey', 'jamescomeyfbi', 'jamesokeefeiii', 'jaredwyand', 'jasoninthehouse', 'jasonmillerindc', 'jassssssooon', 'jbarro', 'jbouie', 'jdelreal', 'jebbush', 'jeffersonobama', 'jeitoapp', 'jeneps', 'jerseyj0e', 'jesus', 'jimsciutto', 'jjauthor', 'jlo', 'jmpalmieri', 'joanwalsh', 'jobs', 'joebiden', 'joenbc', 'johnfromcranber', 'johnfugelsang', 'johnjharwood', 'johnkasich', 'johnkstahlusa', 'johnpodesta', 'johnriverstoo', 'jonahnro', 'jonfavs', 'jordanchariton', 'josephremib', 'joshtpm', 'joshuagreen', 'joyannreid', 'jpodhoretz', 'jrireland1', 'jrubinblogger', 'jstines3', 'juddapatow', 'juddlegum', 'judgejeanine', 'judgenap', 'judicialwatch', 'julieroginsky', 'justinraimondo', 'karoli', 'katiepack', 'katiepavlich', 'katrinapierson', 'katyturnbc', 'kayleighmcenany', 'kazmierskir', 'keitholbermann', 'kellyannepolls', 'kellyayotte', 'kellyfile', 'kerpen', 'kevindarryl', 'kfile', 'khanoisseur', 'kharyp', 'killoughcnn', 'kimdotcom', 'kimguilfoyle', 'kin2souls', 'kris_sacrebleu', 'kristilade', 'kthopkins', 'ktumulty', 'kurteichenwald', 'kurtschlichter', 'kylegriffin1', 'laraleatrump', 'larryelder', 'lastword', 'latimes', 'latinaafortrump', 'lawrence', 'leahr77', 'leahrboss', 'legend', 'liar', 'lifezette', 'lindasuhler', 'linkedin', 'lockherup', 'lolgop', 'lorettalynch', 'loser', 'loudobbs', 'louisiana', 'love', 'lrihendry', 'maddow', 'maddowblog', 'maga', 'maga3x', 'maggienyt', 'maggyw519', 'magnifier661', 'mahogany1992', 'mailonline', 'maine', 'makeamericagreatagain', 'makedclisten', 'marcorubio', 'mariabartiromo', 'mariatcardona', 'marketing', 'markhalperin', 'markkirk', 'marklevinshow', 'markruffalo', 'matthewamiller', 'matthewjdowd', 'mattmfm', 'mattmurph24', 'mattyglesias', 'mbhokie97', 'mcfaul', 'mckaycoppins', 'mcuban', 'md', 'media', 'mediaite', 'meetthepress', 'meghanmccain', 'megynkelly', 'melaniatrump', 'melissaafrancis', 'mi', 'miami4trump', 'michaelcohen212', 'michaeldweiss', 'michaelkeyes', 'michellemalkin', 'michelleobama', 'michigan', 'midnight', 'mike_pence', 'mikepencevp', 'military', 'millennials', 'minirey805', 'minnesota', 'misslizzynj', 'mitchellreports', 'mitchellvii', 'mittromney', 'mlb', 'mmfa', 'mmflint', 'mmpadellan', 'mmurraypolitics', 'money', 'monicacrowley', 'montel_williams', 'mormonmafia', 'morning_joe', 'morningjoe', 'morningmika', 'mosul', 'motherjones', 'moveon', 'mplusrewards', 'mrdane1982', 'mredtrain', 'mschlapp', 'msm', 'msnbc', 'mtnmd', 'mtracey', 'nancypelosi', 'nastywoman', 'nastywomen', 'nate_cohn', 'natesilver538', 'nationalcatday', 'nato', 'nba', 'nbc', 'nbcnews', 'nbcnightlynews', 'nbcpolitics', 'nc', 'nebraska', 'neeratanden', 'neilturner_', 'networksmanager', 'nevada', 'neverhillary', 'nevertrump', 'newday', 'newhampshire', 'newjersey', 'newmexico', 'news', 'newshour', 'newsmax', 'newsweek', 'newtgingrich', 'newyork', 'newyorker', 'nfl', 'nflnetwork', 'nh', 'nhpolitics', 'nia4_trump', 'nickconfessore', 'nicolledwallace', 'ninareihnhart', 'nj', 'noahcrothman', 'nodapl', 'noltenc', 'normornstein', 'northcarolina', 'npr', 'nra', 'nro', 'nv', 'ny', 'nyc', 'nydailynews', 'nypost', 'nyt', 'nytimes', 'nytnickc', 'nytopinion', 'oann', 'obama', 'obamacare', 'obamacarefail', 'obamacareinthreewords', 'obamamalik', 'oh', 'ohio', 'oliverdarcy', 'omfg_america', 'onlxn', 'onmessageforher', 'oregon', 'oregonstandoff', 'oreillyfactor', 'outnumberedfnc', 'owillis', 'p0tustrump', 'p2', 'pa', 'pamela_moore13', 'patrickmurphyfl', 'patriotbygod', 'patriots', 'pattonoswalt', 'paulkrugman', 'paytoplay', 'peddoc63', 'peggy7172', 'pence', 'pennsylvania', 'people', 'periscope', 'periscopeco', 'peterdaou', 'petewilliamsnbc', 'pharris830', 'philadelphia', 'piersmorgan', 'pinterest', 'pjnet', 'pmjoy', 'pnehlen', 'po_st', 'podesta', 'podestaemails', 'podestaemails18', 'podestaemails19', 'podestaemails20', 'podestaemails21', 'podestaemails22', 'podestaemails23', 'politico', 'politics', 'politicussarah', 'politicususa', 'politifact', 'potus', 'ppollingnumbers', 'prisonplanet', 'project_veritas', 'projectveritas', 'prolife', 'pryan', 'pudcast245', 'puppymnkey', 'putin', 'pveritas_action', 'quote', 'racist', 'radiofreetom', 'rallytogether', 'ralstonreports', 'rambobiggs', 'rawstory', 'rbcreamer', 'realalexjones', 'realbencarson', 'realdenaldtrump', 'realdennislynch', 'realdonaldtrump', 'realjameswoods', 'realmuckmaker', 'realstrategyfan', 'reddit', 'rednationrising', 'redstate', 'regurgitatingtrump', 'reince', 'reinindc', 'renewus', 'republican', 'republicans', 'reuters', 'richardgrenell', 'rickconnell2', 'rigged', 'riggedelection', 'riggedmedia', 'riggedsystem', 'riotwomennn', 'risetoflyy', 'rnc', 'robbymook', 'rockprincess818', 'rogerjstonejr', 'rolandsmartin', 'ron_fournier', 'ronfair43', 'rosie', 'rsbnetwork', 'rschooley', 'rt', 'rt_com', 'rudygiulianigop', 'rushlimbaugh', 'russia', 's3nt13ntb31ng', 'sahilkapur', 'sallykohn', 'salon', 'samsteinhp', 'sandratxas', 'sarahkendzior', 'scarystoriesin5words', 'scottadamssays', 'scottbaio', 'scottienhughes', 'scottpresler', 'scotus', 'scrowder', 'sdv92', 'seanhannity', 'seanspicer', 'sebgorka', 'secretservice', 'senategop', 'senatorreid', 'senjohnmccain', 'sensanders', 'senwarren', 'shannoncoulter', 'sharethis', 'sharylattkisson', 'shaunking', 'shepnewsteam', 'sheriffclarke', 'shewhovotes', 'signsatthegatesofhell', 'sixers', 'skincare', 'skynews', 'slate', 'slone', 'smerconish', 'smh', 'smshow', 'socal4trump', 'socialmedia', 'sopandeb', 'southcarolina', 'speakerryan', 'specialkmb1969', 'speechboy71', 'sportscenter', 'sputnikint', 'standingrock', 'startup', 'stefanmolyneux', 'steph93065', 'stephenswsj', 'stevekornacki', 'stevenwhirsch99', 'stopcommoncore', 'stopstophillary', 'stoptrump', 'strongertogether', 'strongerwithouther', 'stuartpstevens', 'sunbeltgirl', 'surfermom77', 'susanforney', 'sykescharlie', 'syria', 'tallahfortrump', 'tammaramaiden1', 'tammyforil', 'tcmparty', 'tcot', 'teamcavuto', 'teamtrump', 'teamtrumpaz', 'teapainusa', 'teaparty', 'tech', 'technology', 'tedcruz', 'telegraphnews', 'ten_gop', 'termlimits', 'terra_nulius', 'texas', 'tgowdysc', 'theatlantic', 'thebaxterbean', 'theblaze', 'thebriefing2016', 'thedailybeast', 'thedemocrats', 'theeconomist', 'thefive', 'thefix', 'thehill', 'thejuanwilliams', 'thejusticedept', 'thelastrefuge2', 'thelastword', 'theleadcnn', 'thenation', 'theonlyadult', 'thepatriot143', 'theplumlinegs', 'therealroseanne', 'therickwilson', 'therickyvaughn', 'thewalkingdead', 'thingsneversaidinhorrorfilms', 'thinkprogress', 'thisweekabc', 'thr', 'thursdaythoughts', 'time', 'timkaine', 'titans', 'tmz', 'todayshow', 'tomcottonar', 'tomilahren', 'toure', 'townhallcom', 'tpm', 'tpoliticmanager', 'tponews', 'tribelaw', 'trobinsonnewera', 'trump', 'trump16', 'trump2016', 'trumpahorrormovie', 'trumppence', 'trumppence16', 'trumppence2016', 'trumpstrong', 'trumpsuperpac', 'trumptrain', 'truth', 'truthfeednews', 'tuckercarlson', 'tv', 'twd', 'twitchyteam', 'twitter', 'tx', 'uk', 'unbornlivesmatter', 'unfit', 'uniteblue', 'unityactivist', 'upi', 'usa', 'usafortrump2016', 'usaneedstrump', 'usatoday', 'usnews', 'uspoli', 'utah', 'v_of_europe', 'va', 'va4hillary1', 'vabvox', 'vanjones68', 'varneyco', 'veritas', 'veteran4trump', 'veterans', 'vine', 'virginia', 'vivalaames', 'vivelafra', 'vote', 'voteblue', 'voteearly', 'voterfraud', 'votersuppression', 'votetrump', 'votetrump2016', 'votetrumppence16', 'voxdotcom', 'vp', 'wakeupamerica', 'walshfreedom', 'washington', 'washingtonpost', 'washtimes', 'watson', 'waynedupreeshow', 'wdfx2eu7', 'wednesdaywisdom', 'weiner', 'weinergate', 'weirdthingstotakeondates', 'weneedtrump', 'wesleyrickard', 'westvirginia', 'wethepeople', 'whitehouse', 'wikileaks', 'wisconsin', 'wltaskforce', 'wolfblitzer', 'women', 'women4trump', 'womenfortrump', 'woodhouseb', 'wordpressdotcom', 'worldnetdaily', 'worldseries', 'wsj', 'wsjpolitics', 'yahoo', 'yahoonews', 'yashar', 'youngdems4trump', 'youranonnews', 'youtube', 'zekejmiller', 'zerohedge']\n"
     ]
    }
   ],
   "source": [
    "print(type(matrix_HH))          # Compressed Sparse Row matrix\n",
    "print(matrix_HH.toarray())        #  convert it to numpy array\n",
    "\n",
    "print(vectorizer_HH.get_feature_names())"
   ]
  },
  {
   "cell_type": "markdown",
   "metadata": {},
   "source": [
    "** *\n",
    "### Feature extraction for user descriptions"
   ]
  },
  {
   "cell_type": "code",
   "execution_count": 60,
   "metadata": {
    "collapsed": true
   },
   "outputs": [],
   "source": [
    "data_Description = df3.Description"
   ]
  },
  {
   "cell_type": "code",
   "execution_count": 61,
   "metadata": {
    "collapsed": true
   },
   "outputs": [],
   "source": [
    "vectorizer_Description = sk_text.TfidfVectorizer(stop_words='english',\n",
    "                             max_features = 1000,\n",
    "                             min_df=5, \n",
    "                             #max_df=50\n",
    "                             )\n"
   ]
  },
  {
   "cell_type": "code",
   "execution_count": 62,
   "metadata": {
    "collapsed": true
   },
   "outputs": [],
   "source": [
    "matrix_Description = vectorizer_Description.fit_transform(data_Description)"
   ]
  },
  {
   "cell_type": "code",
   "execution_count": 63,
   "metadata": {
    "scrolled": true
   },
   "outputs": [
    {
     "name": "stdout",
     "output_type": "stream",
     "text": [
      "<class 'scipy.sparse.csr.csr_matrix'>\n",
      "[[ 0.  0.  0. ...,  0.  0.  0.]\n",
      " [ 0.  0.  0. ...,  0.  0.  0.]\n",
      " [ 0.  0.  0. ...,  0.  0.  0.]\n",
      " ..., \n",
      " [ 0.  0.  0. ...,  0.  0.  0.]\n",
      " [ 0.  0.  0. ...,  0.  0.  0.]\n",
      " [ 0.  0.  0. ...,  0.  0.  0.]]\n",
      "['10', '100', '11', '12', '14', '16', '18', '1a', '1st', '20', '2016', '21', '24', '2a', '2nd', '30', '45', '49ers', '50', 'account', 'act', 'action', 'activist', 'actor', 'actress', 'add', 'addict', 'advisor', 'advocate', 'affairs', 'age', 'agenda', 'agent', 'ago', 'agree', 'ai', 'air', 'aka', 'alt', 'altright', 'alum', 'amateur', 'amazing', 'amazon', 'amendment', 'america', 'americafirst', 'american', 'americans', 'analyst', 'animal', 'animals', 'anti', 'apple', 'armed', 'arms', 'army', 'art', 'artist', 'arts', 'ask', 'ass', 'atheist', 'athlete', 'attorney', 'author', 'auto', 'available', 'avid', 'award', 'away', 'ba', 'baby', 'bad', 'baseball', 'based', 'basketball', 'basketofdeplorables', 'beach', 'beautiful', 'beer', 'believe', 'believer', 'believes', 'benghazi', 'bernie', 'best', 'better', 'bible', 'big', 'birth', 'bit', 'biz', 'black', 'blacklivesmatter', 'bless', 'blessed', 'blm', 'block', 'blocked', 'blog', 'blogger', 'blood', 'blue', 'bluelivesmatter', 'body', 'book', 'books', 'born', 'boston', 'box', 'boy', 'boys', 'brexit', 'british', 'broker', 'brother', 'bs', 'buff', 'build', 'building', 'buildthewall', 'business', 'ca', 'california', 'canada', 'canadian', 'cancer', 'candidate', 'capitalist', 'care', 'cars', 'cat', 'catholic', 'cats', 'ccot', 'center', 'ceo', 'champion', 'chance', 'change', 'channel', 'check', 'chicago', 'chief', 'child', 'children', 'choice', 'christ', 'christian', 'church', 'citizen', 'citizens', 'city', 'civil', 'class', 'classic', 'clean', 'climate', 'clinton', 'clintonkaine2016', 'club', 'coach', 'coast', 'coffee', 'collector', 'college', 'colorado', 'com', 'come', 'comedy', 'comes', 'comic', 'common', 'communications', 'community', 'company', 'computer', 'concerned', 'conservative', 'constitution', 'constitutional', 'consultant', 'contributor', 'control', 'conversation', 'cook', 'cooking', 'cool', 'corporate', 'correct', 'correctness', 'corrupt', 'corruption', 'country', 'county', 'course', 'cpa', 'crazy', 'create', 'creative', 'creator', 'criminal', 'critic', 'cruz', 'cultural', 'culture', 'curious', 'current', 'currently', 'cyclist', 'dad', 'daddy', 'daily', 'dark', 'data', 'daughter', 'daughters', 'day', 'days', 'dc', 'deal', 'death', 'debate', 'dedicated', 'defender', 'degree', 'delegate', 'dem', 'democracy', 'democrat', 'democratic', 'deplorable', 'deplorables', 'deserve', 'design', 'designer', 'developer', 'development', 'did', 'die', 'difference', 'digital', 'dir', 'direct', 'director', 'disabled', 'discourse', 'discussion', 'disease', 'division', 'dm', 'dnc', 'doctor', 'does', 'doesn', 'dog', 'dogs', 'doing', 'domestic', 'don', 'donald', 'dont', 'dot', 'dr', 'draintheswamp', 'dream', 'dreamer', 'dreams', 'drinking', 'driver', 'drummer', 'earth', 'easy', 'economic', 'economics', 'editor', 'educated', 'education', 'educator', 'election', 'employed', 'end', 'endorsement', 'endorsements', 'enemy', 'energy', 'enforcement', 'engineer', 'english', 'enjoy', 'enterprise', 'entertainment', 'enthusiast', 'entrepreneur', 'environment', 'equal', 'equality', 'esp', 'especially', 'estate', 'events', 'everyday', 'evil', 'ex', 'exec', 'executive', 'experience', 'expert', 'express', 'facebook', 'facts', 'fair', 'faith', 'fake', 'family', 'famous', 'fan', 'fanatic', 'far', 'farm', 'father', 'fathers', 'favorite', 'fear', 'fearing', 'fed', 'feel', 'fellow', 'female', 'feminist', 'fi', 'fight', 'fighting', 'film', 'filmmaker', 'financial', 'fiscal', 'fishing', 'fitness', 'fl', 'flag', 'florida', 'follow', 'followed', 'follower', 'followers', 'following', 'food', 'foodie', 'football', 'force', 'foreign', 'forever', 'forward', 'foundation', 'founder', 'fox', 'foxnews', 'free', 'freedom', 'freelance', 'fresh', 'friend', 'friends', 'fun', 'funny', 'future', 'gab', 'gal', 'game', 'gamer', 'games', 'gardener', 'gardening', 'gay', 'geek', 'general', 'generation', 'george', 'giants', 'girl', 'girls', 'global', 'globalist', 'goal', 'god', 'going', 'golf', 'good', 'gop', 'got', 'gov', 'government', 'govt', 'grace', 'grad', 'graduate', 'grandchildren', 'grandfather', 'grandkids', 'grandma', 'grandmother', 'great', 'greatest', 'green', 'guitarist', 'gun', 'guns', 'gunsense', 'guy', 'hand', 'happily', 'happiness', 'happy', 'hard', 'hate', 'haters', 'hates', 'having', 'head', 'health', 'heart', 'hell', 'help', 'helping', 'heritage', 'hero', 'high', 'hiking', 'hillary', 'hillary2016', 'hillaryclinton', 'historian', 'history', 'hobbies', 'hockey', 'hold', 'home', 'honest', 'honor', 'hope', 'horse', 'host', 'house', 'hrc', 'http', 'https', 'huge', 'human', 'humanist', 'humanitarian', 'humanity', 'humor', 'hunter', 'husband', 'ig', 'ignorance', 'important', 'imwithher', 'independent', 'individual', 'info', 'information', 'integrity', 'interested', 'interesting', 'interests', 'international', 'internet', 'investor', 'irish', 'islam', 'isn', 'israel', 'issues', 'italian', 'james', 'jazz', 'jesus', 'jewelry', 'job', 'john', 'join', 'journalism', 'journalist', 'junkie', 'junky', 'just', 'justice', 'kid', 'kids', 'kill', 'kind', 'kindness', 'king', 'know', 'knowledge', 'la', 'lady', 'lakers', 'laugh', 'law', 'lawyer', 'leader', 'leaders', 'leadership', 'leading', 'learn', 'learning', 'leave', 'left', 'legal', 'let', 'lgbt', 'lgbtq', 'liars', 'liberal', 'liberalism', 'liberals', 'libertarian', 'liberty', 'libs', 'lie', 'lies', 'life', 'lifelong', 'lifetime', 'like', 'likes', 'limited', 'link', 'lion', 'list', 'lists', 'little', 'live', 'lived', 'lives', 'living', 'll', 'loathe', 'local', 'long', 'longer', 'look', 'looking', 'lord', 'lose', 'lost', 'lot', 'lots', 'love', 'lover', 'loves', 'loving', 'ma', 'maga', 'make', 'makeamericagreatagain', 'maker', 'makes', 'making', 'male', 'man', 'management', 'manager', 'marine', 'market', 'marketing', 'married', 'mary', 'master', 'masters', 'matter', 'matters', 'mba', 'mean', 'media', 'member', 'men', 'mental', 'metal', 'mets', 'mi', 'michigan', 'middle', 'military', 'mind', 'minded', 'minister', 'mission', 'mobile', 'moderate', 'mom', 'money', 'mother', 'movement', 'movie', 'movies', 'mr', 'ms', 'msm', 'multi', 'music', 'musician', 'nam', 'nan', 'nascar', 'nasty', 'nation', 'national', 'nationalist', 'native', 'nature', 'navy', 'nc', 'necessarily', 'need', 'needs', 'nerd', 'network', 'neverhillary', 'nevertrump', 'new', 'news', 'nfl', 'nice', 'non', 'north', 'nra', 'nurse', 'ny', 'nyc', 'obama', 'obsessed', 'occasionally', 'ocean', 'office', 'official', 'oh', 'ohio', 'old', 'open', 'opinion', 'opinionated', 'opinions', 'order', 'outdoors', 'owner', 'page', 'paid', 'parent', 'party', 'passion', 'passionate', 'passions', 'past', 'pastor', 'patriot', 'patriotic', 'patriots', 'paul', 'pay', 'pc', 'peace', 'pence', 'people', 'person', 'personal', 'personality', 'pet', 'ph', 'phd', 'photo', 'photographer', 'photography', 'photos', 'pics', 'pilot', 'pizza', 'pjnet', 'place', 'places', 'plan', 'planet', 'play', 'player', 'poet', 'police', 'policy', 'political', 'politically', 'politicians', 'politics', 'poor', 'pop', 'porn', 'possible', 'potus', 'power', 'ppl', 'pr', 'practice', 'pray', 'president', 'press', 'pride', 'prison', 'private', 'pro', 'producer', 'prof', 'professional', 'professor', 'profit', 'program', 'progressive', 'project', 'prolife', 'protect', 'protection', 'proud', 'proudly', 'public', 'published', 'publisher', 'purveyor', 'queen', 'race', 'racism', 'racist', 'racists', 'radio', 'raised', 'read', 'reader', 'reading', 'ready', 'reagan', 'real', 'realdonaldtrump', 'reality', 'really', 'realtor', 'reason', 'recovering', 'red', 'redskins', 'registered', 'relations', 'relationship', 'religion', 'remember', 'renaissance', 'reporter', 'republican', 'republicans', 'rescue', 'research', 'respect', 'responsibility', 'ret', 'retired', 'return', 'retweets', 'ride', 'right', 'rights', 'risk', 'rn', 'road', 'rock', 'roll', 'ronald', 'rt', 'rts', 'rule', 'run', 'runner', 'safe', 'safety', 'said', 'sales', 'sarcasm', 'save', 'say', 'sc', 'school', 'sci', 'science', 'scientist', 'security', 'seeker', 'seeking', 'self', 'selling', 'senate', 'senior', 'sense', 'seriously', 'served', 'service', 'services', 'serving', 'shall', 'share', 'sharing', 'sheep', 'shooter', 'short', 'sick', 'simple', 'singer', 'single', 'sister', 'small', 'smart', 'soccer', 'social', 'socialism', 'society', 'software', 'soldier', 'son', 'songwriter', 'sons', 'soul', 'southern', 'space', 'speak', 'speaker', 'special', 'specialist', 'speech', 'spirit', 'sports', 'st', 'stand', 'star', 'state', 'states', 'stay', 'stock', 'stop', 'stories', 'story', 'straight', 'strategist', 'strategy', 'street', 'strong', 'strongertogether', 'student', 'studies', 'stuff', 'stupid', 'support', 'supporter', 'supporters', 'supports', 'sure', 'survivor', 'taking', 'talk', 'tax', 'taxes', 'tcot', 'tea', 'teacher', 'team', 'teaparty', 'tech', 'technology', 'tell', 'telling', 'term', 'texan', 'texas', 'thank', 'thanks', 'theatre', 'thing', 'things', 'think', 'thinker', 'thinking', 'thought', 'thoughts', 'till', 'time', 'times', 'tired', 'today', 'tolerance', 'trader', 'traditional', 'train', 'trainer', 'travel', 'traveler', 'tree', 'trolls', 'troops', 'true', 'truly', 'trump', 'trump2016', 'trumppence', 'trumppence16', 'trumppence2016', 'trumptrain', 'trust', 'truth', 'try', 'trying', 'turn', 'tv', 'tweet', 'tweeting', 'tweets', 'twitter', 'tx', 'ucla', 'uk', 'unapologetic', 'union', 'unite', 'uniteblue', 'united', 'university', 'ur', 'usa', 'usaf', 'use', 'using', 'usmc', 'values', 've', 'vegas', 'vet', 'veteran', 'veterans', 'vets', 'video', 'vietnam', 'views', 'voice', 'volunteer', 'vote', 'voted', 'voter', 'voting', 'want', 'wants', 'war', 'warrior', 'warriors', 'washington', 'watcher', 'watching', 'water', 'way', 'weather', 'web', 'website', 'welcome', 'west', 'white', 'wife', 'wikileaks', 'win', 'wing', 'winning', 'wisdom', 'woman', 'women', 'won', 'wonderful', 'word', 'words', 'work', 'worked', 'worker', 'working', 'works', 'world', 'worth', 'write', 'writer', 'writing', 'wrong', 'year', 'years', 'york', 'yorker', 'young', 'youth', 'youtube', 'yrs']\n"
     ]
    }
   ],
   "source": [
    "print(type(matrix_Description))          # Compressed Sparse Row matrix\n",
    "print(matrix_Description.toarray())        #  convert it to numpy array\n",
    "\n",
    "print(vectorizer_Description.get_feature_names())"
   ]
  },
  {
   "cell_type": "markdown",
   "metadata": {},
   "source": [
    "** *\n",
    "### Create new numpy arrays for features and ground truth"
   ]
  },
  {
   "cell_type": "code",
   "execution_count": 64,
   "metadata": {
    "collapsed": true
   },
   "outputs": [],
   "source": [
    "import numpy as np"
   ]
  },
  {
   "cell_type": "code",
   "execution_count": 65,
   "metadata": {
    "collapsed": true
   },
   "outputs": [],
   "source": [
    "X = np.append(matrix_text_noHH.toarray(), matrix_HH.toarray(),axis=1)"
   ]
  },
  {
   "cell_type": "code",
   "execution_count": 66,
   "metadata": {
    "collapsed": true
   },
   "outputs": [],
   "source": [
    "X = np.append(X, matrix_Description.toarray(),axis=1)"
   ]
  },
  {
   "cell_type": "code",
   "execution_count": 67,
   "metadata": {},
   "outputs": [
    {
     "data": {
      "text/plain": [
       "(3619, 3000)"
      ]
     },
     "execution_count": 67,
     "metadata": {},
     "output_type": "execute_result"
    }
   ],
   "source": [
    "X.shape"
   ]
  },
  {
   "cell_type": "code",
   "execution_count": 68,
   "metadata": {},
   "outputs": [
    {
     "data": {
      "text/plain": [
       "(3619,)"
      ]
     },
     "execution_count": 68,
     "metadata": {},
     "output_type": "execute_result"
    }
   ],
   "source": [
    "y = np.array(groundtruth)\n",
    "y.shape"
   ]
  },
  {
   "cell_type": "markdown",
   "metadata": {},
   "source": [
    "** *\n",
    "### Create list of extracted features"
   ]
  },
  {
   "cell_type": "code",
   "execution_count": 70,
   "metadata": {
    "collapsed": true
   },
   "outputs": [],
   "source": [
    "# 1. matrix_text_noHH.toarray()\n",
    "# 2. matrix_HH.toarray()\n",
    "# 3. matrix_Description.toarray()\n",
    "\n",
    "features = vectorizer_text_noHH.get_feature_names()\n",
    "features.extend(vectorizer_HH.get_feature_names())\n",
    "features.extend(vectorizer_Description.get_feature_names())"
   ]
  },
  {
   "cell_type": "markdown",
   "metadata": {},
   "source": [
    "** *\n",
    "### Split data into test and train sets where 20 percent of the records go to test set."
   ]
  },
  {
   "cell_type": "code",
   "execution_count": 71,
   "metadata": {},
   "outputs": [
    {
     "name": "stdout",
     "output_type": "stream",
     "text": [
      "(2895, 3000) (2895,)\n",
      "(724, 3000) (724,)\n"
     ]
    }
   ],
   "source": [
    "# STEP 1: split X and y into training and testing sets\n",
    "from sklearn.model_selection import train_test_split\n",
    "X_train, X_test, y_train, y_test = train_test_split(X, y, test_size=0.2, random_state=4)\n",
    "\n",
    "print(X_train.shape, y_train.shape)\n",
    "print(X_test.shape, y_test.shape)"
   ]
  },
  {
   "cell_type": "code",
   "execution_count": 72,
   "metadata": {},
   "outputs": [
    {
     "name": "stdout",
     "output_type": "stream",
     "text": [
      "(2895, 3000)\n",
      "(724, 3000)\n"
     ]
    }
   ],
   "source": [
    "print(X_train.shape)\n",
    "print(X_test.shape)"
   ]
  },
  {
   "cell_type": "code",
   "execution_count": 73,
   "metadata": {},
   "outputs": [
    {
     "name": "stdout",
     "output_type": "stream",
     "text": [
      "(2895,)\n",
      "(724,)\n"
     ]
    }
   ],
   "source": [
    "# print the shapes of the new y objects\n",
    "print(y_train.shape)\n",
    "print(y_test.shape)"
   ]
  },
  {
   "cell_type": "markdown",
   "metadata": {},
   "source": [
    "** *\n",
    "## Decision Tree Classifier "
   ]
  },
  {
   "cell_type": "markdown",
   "metadata": {},
   "source": [
    "** *\n",
    "### Model training and testing  "
   ]
  },
  {
   "cell_type": "code",
   "execution_count": 97,
   "metadata": {
    "scrolled": true
   },
   "outputs": [
    {
     "name": "stdout",
     "output_type": "stream",
     "text": [
      "test [1 1 0 0 0 0 1 1 0 0]\n",
      "pred [1 0 1 1 0 0 1 1 0 0]\n",
      "\n",
      "[[358  69]\n",
      " [ 79 218]]\n",
      "[ 0.81922197  0.75958188]\n",
      "[ 0.83840749  0.73400673]\n",
      "[ 0.8287037   0.74657534]\n"
     ]
    }
   ],
   "source": [
    "from sklearn import tree\n",
    "import sklearn.metrics as metrics\n",
    "\n",
    "dtree = tree.DecisionTreeClassifier()\n",
    "\n",
    "dtree = dtree.fit(X_train, y_train)\n",
    "\n",
    "y_pred = dtree.predict(X_test)\n",
    "\n",
    "y_prob = dtree.predict_proba(X_test)\n",
    "\n",
    "print(\"test\", y_test[:10])\n",
    "print(\"pred\", y_pred[:10])\n",
    "print()\n",
    "\n",
    "print(metrics.confusion_matrix(y_test,y_pred))\n",
    "print(metrics.precision_score(y_test,y_pred, average=None))   # Parameter \"average\" is requred if not a binary model\n",
    "print(metrics.recall_score(y_test,y_pred, average=None))      # Parameter \"average\" is requred if not a binary model\n",
    "print(metrics.f1_score(y_test,y_pred, average=None))          # Parameter \"average\" is requred if not a binary model"
   ]
  },
  {
   "cell_type": "markdown",
   "metadata": {},
   "source": [
    "** *\n",
    "### Top 30 weighted features "
   ]
  },
  {
   "cell_type": "code",
   "execution_count": 128,
   "metadata": {
    "collapsed": true
   },
   "outputs": [],
   "source": [
    "dtree_cols = {'Features' : features , 'Weight' : dtree.feature_importances_.tolist()}"
   ]
  },
  {
   "cell_type": "code",
   "execution_count": 129,
   "metadata": {
    "collapsed": true
   },
   "outputs": [],
   "source": [
    "DTree_df = pd.DataFrame(data = dtree_cols)"
   ]
  },
  {
   "cell_type": "code",
   "execution_count": 130,
   "metadata": {
    "collapsed": true
   },
   "outputs": [],
   "source": [
    "DTree_df['Feature group'] = DTree_df.index.tolist()"
   ]
  },
  {
   "cell_type": "code",
   "execution_count": 131,
   "metadata": {
    "collapsed": true
   },
   "outputs": [],
   "source": [
    "DTree_df['Feature group'] = DTree_df['Feature group']//1000+1"
   ]
  },
  {
   "cell_type": "code",
   "execution_count": 132,
   "metadata": {
    "collapsed": true
   },
   "outputs": [],
   "source": [
    "DTree_df = DTree_df.sort_values(by = 'Weight', ascending = False)"
   ]
  },
  {
   "cell_type": "code",
   "execution_count": 207,
   "metadata": {},
   "outputs": [
    {
     "data": {
      "text/html": [
       "<div>\n",
       "<style>\n",
       "    .dataframe thead tr:only-child th {\n",
       "        text-align: right;\n",
       "    }\n",
       "\n",
       "    .dataframe thead th {\n",
       "        text-align: left;\n",
       "    }\n",
       "\n",
       "    .dataframe tbody tr th {\n",
       "        vertical-align: top;\n",
       "    }\n",
       "</style>\n",
       "<table border=\"1\" class=\"dataframe\">\n",
       "  <thead>\n",
       "    <tr style=\"text-align: right;\">\n",
       "      <th></th>\n",
       "      <th>Features</th>\n",
       "      <th>Weight</th>\n",
       "      <th>Feature group</th>\n",
       "    </tr>\n",
       "  </thead>\n",
       "  <tbody>\n",
       "    <tr>\n",
       "      <th>1467</th>\n",
       "      <td>joyannreid</td>\n",
       "      <td>0.165946</td>\n",
       "      <td>2</td>\n",
       "    </tr>\n",
       "    <tr>\n",
       "      <th>213</th>\n",
       "      <td>corruption</td>\n",
       "      <td>0.105304</td>\n",
       "      <td>1</td>\n",
       "    </tr>\n",
       "    <tr>\n",
       "      <th>1313</th>\n",
       "      <td>foxnews</td>\n",
       "      <td>0.064315</td>\n",
       "      <td>2</td>\n",
       "    </tr>\n",
       "    <tr>\n",
       "      <th>1111</th>\n",
       "      <td>breitbartnews</td>\n",
       "      <td>0.028334</td>\n",
       "      <td>2</td>\n",
       "    </tr>\n",
       "    <tr>\n",
       "      <th>1260</th>\n",
       "      <td>draintheswamp</td>\n",
       "      <td>0.026043</td>\n",
       "      <td>2</td>\n",
       "    </tr>\n",
       "    <tr>\n",
       "      <th>1406</th>\n",
       "      <td>imwithher</td>\n",
       "      <td>0.022387</td>\n",
       "      <td>2</td>\n",
       "    </tr>\n",
       "    <tr>\n",
       "      <th>1503</th>\n",
       "      <td>kurteichenwald</td>\n",
       "      <td>0.019336</td>\n",
       "      <td>2</td>\n",
       "    </tr>\n",
       "    <tr>\n",
       "      <th>525</th>\n",
       "      <td>letter</td>\n",
       "      <td>0.016629</td>\n",
       "      <td>1</td>\n",
       "    </tr>\n",
       "    <tr>\n",
       "      <th>454</th>\n",
       "      <td>huma</td>\n",
       "      <td>0.014782</td>\n",
       "      <td>1</td>\n",
       "    </tr>\n",
       "    <tr>\n",
       "      <th>1722</th>\n",
       "      <td>prisonplanet</td>\n",
       "      <td>0.013770</td>\n",
       "      <td>2</td>\n",
       "    </tr>\n",
       "    <tr>\n",
       "      <th>46</th>\n",
       "      <td>42</td>\n",
       "      <td>0.013755</td>\n",
       "      <td>1</td>\n",
       "    </tr>\n",
       "    <tr>\n",
       "      <th>1647</th>\n",
       "      <td>nodapl</td>\n",
       "      <td>0.013299</td>\n",
       "      <td>2</td>\n",
       "    </tr>\n",
       "    <tr>\n",
       "      <th>437</th>\n",
       "      <td>hillary</td>\n",
       "      <td>0.013145</td>\n",
       "      <td>1</td>\n",
       "    </tr>\n",
       "    <tr>\n",
       "      <th>1963</th>\n",
       "      <td>walshfreedom</td>\n",
       "      <td>0.012307</td>\n",
       "      <td>2</td>\n",
       "    </tr>\n",
       "    <tr>\n",
       "      <th>1139</th>\n",
       "      <td>cernovich</td>\n",
       "      <td>0.010349</td>\n",
       "      <td>2</td>\n",
       "    </tr>\n",
       "    <tr>\n",
       "      <th>189</th>\n",
       "      <td>clintons</td>\n",
       "      <td>0.009662</td>\n",
       "      <td>1</td>\n",
       "    </tr>\n",
       "    <tr>\n",
       "      <th>1979</th>\n",
       "      <td>wikileaks</td>\n",
       "      <td>0.008491</td>\n",
       "      <td>2</td>\n",
       "    </tr>\n",
       "    <tr>\n",
       "      <th>1039</th>\n",
       "      <td>amjoyshow</td>\n",
       "      <td>0.008354</td>\n",
       "      <td>2</td>\n",
       "    </tr>\n",
       "    <tr>\n",
       "      <th>1492</th>\n",
       "      <td>kfile</td>\n",
       "      <td>0.008144</td>\n",
       "      <td>2</td>\n",
       "    </tr>\n",
       "    <tr>\n",
       "      <th>57</th>\n",
       "      <td>abedin</td>\n",
       "      <td>0.007993</td>\n",
       "      <td>1</td>\n",
       "    </tr>\n",
       "    <tr>\n",
       "      <th>636</th>\n",
       "      <td>obama</td>\n",
       "      <td>0.007933</td>\n",
       "      <td>1</td>\n",
       "    </tr>\n",
       "    <tr>\n",
       "      <th>1432</th>\n",
       "      <td>jamesokeefeiii</td>\n",
       "      <td>0.007757</td>\n",
       "      <td>2</td>\n",
       "    </tr>\n",
       "    <tr>\n",
       "      <th>528</th>\n",
       "      <td>liberal</td>\n",
       "      <td>0.007602</td>\n",
       "      <td>1</td>\n",
       "    </tr>\n",
       "    <tr>\n",
       "      <th>392</th>\n",
       "      <td>gop</td>\n",
       "      <td>0.007306</td>\n",
       "      <td>1</td>\n",
       "    </tr>\n",
       "    <tr>\n",
       "      <th>1882</th>\n",
       "      <td>theonlyadult</td>\n",
       "      <td>0.006782</td>\n",
       "      <td>2</td>\n",
       "    </tr>\n",
       "    <tr>\n",
       "      <th>1720</th>\n",
       "      <td>potus</td>\n",
       "      <td>0.006760</td>\n",
       "      <td>2</td>\n",
       "    </tr>\n",
       "    <tr>\n",
       "      <th>901</th>\n",
       "      <td>trump</td>\n",
       "      <td>0.006722</td>\n",
       "      <td>1</td>\n",
       "    </tr>\n",
       "    <tr>\n",
       "      <th>1648</th>\n",
       "      <td>noltenc</td>\n",
       "      <td>0.006603</td>\n",
       "      <td>2</td>\n",
       "    </tr>\n",
       "    <tr>\n",
       "      <th>1517</th>\n",
       "      <td>lindasuhler</td>\n",
       "      <td>0.006498</td>\n",
       "      <td>2</td>\n",
       "    </tr>\n",
       "    <tr>\n",
       "      <th>1118</th>\n",
       "      <td>brookebcnn</td>\n",
       "      <td>0.006470</td>\n",
       "      <td>2</td>\n",
       "    </tr>\n",
       "  </tbody>\n",
       "</table>\n",
       "</div>"
      ],
      "text/plain": [
       "            Features    Weight  Feature group\n",
       "1467  joyannreid      0.165946  2            \n",
       "213   corruption      0.105304  1            \n",
       "1313  foxnews         0.064315  2            \n",
       "1111  breitbartnews   0.028334  2            \n",
       "1260  draintheswamp   0.026043  2            \n",
       "1406  imwithher       0.022387  2            \n",
       "1503  kurteichenwald  0.019336  2            \n",
       "525   letter          0.016629  1            \n",
       "454   huma            0.014782  1            \n",
       "1722  prisonplanet    0.013770  2            \n",
       "46    42              0.013755  1            \n",
       "1647  nodapl          0.013299  2            \n",
       "437   hillary         0.013145  1            \n",
       "1963  walshfreedom    0.012307  2            \n",
       "1139  cernovich       0.010349  2            \n",
       "189   clintons        0.009662  1            \n",
       "1979  wikileaks       0.008491  2            \n",
       "1039  amjoyshow       0.008354  2            \n",
       "1492  kfile           0.008144  2            \n",
       "57    abedin          0.007993  1            \n",
       "636   obama           0.007933  1            \n",
       "1432  jamesokeefeiii  0.007757  2            \n",
       "528   liberal         0.007602  1            \n",
       "392   gop             0.007306  1            \n",
       "1882  theonlyadult    0.006782  2            \n",
       "1720  potus           0.006760  2            \n",
       "901   trump           0.006722  1            \n",
       "1648  noltenc         0.006603  2            \n",
       "1517  lindasuhler     0.006498  2            \n",
       "1118  brookebcnn      0.006470  2            "
      ]
     },
     "execution_count": 207,
     "metadata": {},
     "output_type": "execute_result"
    }
   ],
   "source": [
    "DTree_df.sort_values(by = 'Weight', ascending = False).head(30)"
   ]
  },
  {
   "cell_type": "code",
   "execution_count": 210,
   "metadata": {},
   "outputs": [
    {
     "name": "stdout",
     "output_type": "stream",
     "text": [
      "Top 30\n",
      "2    19\n",
      "1    11\n",
      "Name: Feature group, dtype: int64\n",
      "\n",
      "Top 250\n",
      "2    100\n",
      "1    91 \n",
      "3    59 \n",
      "Name: Feature group, dtype: int64\n",
      "\n",
      "Top 1000\n",
      "2    470\n",
      "3    438\n",
      "1    92 \n",
      "Name: Feature group, dtype: int64\n",
      "\n",
      "Top 1500\n",
      "3    937\n",
      "2    471\n",
      "1    92 \n",
      "Name: Feature group, dtype: int64\n"
     ]
    }
   ],
   "source": [
    "print(\"Top 30\")\n",
    "print(DTree_df['Feature group'].head(30).value_counts())\n",
    "print(\"\\nTop 250\")\n",
    "print(DTree_df['Feature group'].head(250).value_counts())\n",
    "print(\"\\nTop 1000\")\n",
    "print(DTree_df['Feature group'].head(1000).value_counts())\n",
    "print(\"\\nTop 1500\")\n",
    "print(DTree_df['Feature group'].head(1500).value_counts())"
   ]
  },
  {
   "cell_type": "markdown",
   "metadata": {},
   "source": [
    "** *\n",
    "## Logistic Regression Classifier"
   ]
  },
  {
   "cell_type": "code",
   "execution_count": 173,
   "metadata": {},
   "outputs": [
    {
     "name": "stdout",
     "output_type": "stream",
     "text": [
      "[False False False ..., False False  True]\n",
      "test [1 1 0 0 0 0 1 1 0 0]\n",
      "pred [1 1 1 1 0 0 1 1 0 0]\n"
     ]
    }
   ],
   "source": [
    "from sklearn.feature_selection import RFE\n",
    "from sklearn import datasets\n",
    "import sklearn.linear_model as linear_model\n",
    "\n",
    "lr_clf = linear_model.LogisticRegression()\n",
    "\n",
    "# create the RFE model for the classifier and select number of attributes\n",
    "rfe = RFE(lr_clf, 1000)\n",
    "\n",
    "rfe = rfe.fit(X_train, y_train)\n",
    "\n",
    "# print summaries for the selection of attributes\n",
    "print(rfe.support_)   \n",
    "\n",
    "#print(rfe.ranking_)     # ref.ranking_ returns an array with positive integer values \n",
    "                         # to indicate the attribute ranking with a lower score indicating a higher ranking \n",
    "\n",
    "y_pred = rfe.predict(X_test)\n",
    "\n",
    "print(\"test\", y_test[:10])\n",
    "print(\"pred\", y_pred[:10])"
   ]
  },
  {
   "cell_type": "code",
   "execution_count": 184,
   "metadata": {},
   "outputs": [
    {
     "name": "stdout",
     "output_type": "stream",
     "text": [
      "[[394  33]\n",
      " [ 36 261]]\n",
      "[ 0.91627907  0.8877551 ]\n",
      "[ 0.92271663  0.87878788]\n",
      "[ 0.91948658  0.88324873]\n"
     ]
    }
   ],
   "source": [
    "print(metrics.confusion_matrix(y_test,y_pred))\n",
    "print(metrics.precision_score(y_test,y_pred, average=None))   # Parameter \"average\" is requred if not a binary model\n",
    "print(metrics.recall_score(y_test,y_pred, average=None))      # Parameter \"average\" is requred if not a binary model\n",
    "print(metrics.f1_score(y_test,y_pred, average=None))          # Parameter \"average\" is requred if not a binary model"
   ]
  },
  {
   "cell_type": "markdown",
   "metadata": {},
   "source": [
    "** *\n",
    "### Dataframe of features after RFE"
   ]
  },
  {
   "cell_type": "code",
   "execution_count": 198,
   "metadata": {
    "collapsed": true
   },
   "outputs": [],
   "source": [
    "LR_cols = {'Features' : features , 'RFE' : rfe.support_}\n",
    "LR_df = pd.DataFrame(data = LR_cols)"
   ]
  },
  {
   "cell_type": "code",
   "execution_count": 199,
   "metadata": {
    "collapsed": true
   },
   "outputs": [],
   "source": [
    "LR_df['Feature group'] = LR_df.index.tolist()\n",
    "LR_df['Feature group'] = LR_df['Feature group']//1000+1\n",
    "LR_df = LR_df[LR_df['RFE'] == True]"
   ]
  },
  {
   "cell_type": "code",
   "execution_count": 200,
   "metadata": {
    "collapsed": true
   },
   "outputs": [],
   "source": [
    "# function to return a list L combined by several lists\n",
    "def combineList(L):\n",
    "    res = []\n",
    "    for x in L:\n",
    "        res.append(x)\n",
    "    return res\n",
    "\n",
    "#LR_df_grouped.Grouped_Features[0]"
   ]
  },
  {
   "cell_type": "code",
   "execution_count": 201,
   "metadata": {},
   "outputs": [
    {
     "data": {
      "text/html": [
       "<div>\n",
       "<style>\n",
       "    .dataframe thead tr:only-child th {\n",
       "        text-align: right;\n",
       "    }\n",
       "\n",
       "    .dataframe thead th {\n",
       "        text-align: left;\n",
       "    }\n",
       "\n",
       "    .dataframe tbody tr th {\n",
       "        vertical-align: top;\n",
       "    }\n",
       "</style>\n",
       "<table border=\"1\" class=\"dataframe\">\n",
       "  <thead>\n",
       "    <tr style=\"text-align: right;\">\n",
       "      <th></th>\n",
       "      <th>Feature group</th>\n",
       "      <th>Grouped_Features</th>\n",
       "      <th>count</th>\n",
       "    </tr>\n",
       "  </thead>\n",
       "  <tbody>\n",
       "    <tr>\n",
       "      <th>0</th>\n",
       "      <td>1</td>\n",
       "      <td>[02, 13, 15, 16, 2016, 27, 28, 29, 30, abc, abedin, access, act, actually, agree, allowed, amazing, amen, america, american, answer, anthony, anymore, app, ask, assault, bad, ballots, bet, bias, biased, big, bitch, bless, blue, breaking, breitbart, bring, bs, bullshit, calling, canada, carolina, cause, chaffetz, chance, child, chris, classified, clean, clinton, clintons, cnn, comey, coming, congress, conspiracy, correct, corrupt, corruption, cost, couldn, count, country, court, cover, coverage, crime, criminal, crooked, crowd, dad, daughter, dc, dead, dear, deep, democracy, democrat, democrats, deplorable, destroy, destroyed, director, dnc, doesn, donald, dont, dt, eest, elected, election, email, emails, en, evil, exposed, facts, failed, fair, ...]</td>\n",
       "      <td>325</td>\n",
       "    </tr>\n",
       "    <tr>\n",
       "      <th>1</th>\n",
       "      <td>2</td>\n",
       "      <td>[0hour1__, 20committee, _hankrearden, _makada_, abcnews, ac360, aca, acosta, adamparkhomenko, ajdelgado13, aleppo, allahpundit, allanbrauer, allinwithchris, alternet, amjoy, amjoyshow, amymek, ananavarro, andieiamwhoiam, angela_rye, anncoulter, ap, apple, aravosis, arimelber, armandodkos, auspol, bakari_sellers, bakedalaska, bannerite, basketofdeplorables, bencjacobs, benshapiro, bfraser747, billkristol, bipartisan, bleacherreport, bluewave2016, braddjaffy, breitbartnews, bretbaier, brexit, brithume, business, businessinsider, buzzfeednews, byronyork, callisto1947, carlbernstein, carminezozzora, cbsnews, cernovich, charlesmblow, chrislhayes, christichat, chuckwoolery, clewandowski_, climatechange, clinton, clintonkaine, clintons, cnnpolitics, comey, comeyresign, corrupthillary, corruption, cristinalaila1, crookedhillary, crooksandliars, cubs, curtishouck, dailycaller, dailykos, dailymail, dailynewsbin, dailysignal, danabashcnn, danahoule, danaperino, danpfeiffer, danriehl, darren32895836, daveweigel, davidaxelrod, davidcorndc, dcexaminer, ddale8, debramessing, deejay90192, demexit, demfromct, democrat, democrats, deplorable, devops, diamondandsilk, dikileaks, dineshdsouza, donaldjtrumpjr, ...]</td>\n",
       "      <td>445</td>\n",
       "    </tr>\n",
       "    <tr>\n",
       "      <th>2</th>\n",
       "      <td>3</td>\n",
       "      <td>[1st, 2016, activist, addict, advocate, agent, air, alum, america, american, animal, anti, art, ass, atheist, author, available, based, basketball, beach, bernie, black, blood, born, building, california, canada, cancer, cat, channel, child, christ, christian, city, civil, classic, college, com, come, communications, community, conservative, constitution, constitutional, contributor, correct, corrupt, criminal, culture, curious, data, dedicated, democrat, design, designer, developer, development, die, dir, discussion, dog, donald, economic, education, endorsements, enemy, english, entertainment, enthusiast, entrepreneur, ex, fair, famous, fan, fathers, fighting, film, florida, follow, followed, follower, foodie, freedom, friend, friends, funny, game, games, gay, geek, girl, globalist, god, grandmother, great, guy, happiness, hate, heart, helping, ...]</td>\n",
       "      <td>230</td>\n",
       "    </tr>\n",
       "  </tbody>\n",
       "</table>\n",
       "</div>"
      ],
      "text/plain": [
       "   Feature group  \\\n",
       "0  1               \n",
       "1  2               \n",
       "2  3               \n",
       "\n",
       "                                                                                                                                                                                                                                                                                                                                                                                                                                                                                                                                                                                                                                                                                                                                                                                                                                                                                                                                                                                                                                                                                                                                                                                                                                               Grouped_Features  \\\n",
       "0  [02, 13, 15, 16, 2016, 27, 28, 29, 30, abc, abedin, access, act, actually, agree, allowed, amazing, amen, america, american, answer, anthony, anymore, app, ask, assault, bad, ballots, bet, bias, biased, big, bitch, bless, blue, breaking, breitbart, bring, bs, bullshit, calling, canada, carolina, cause, chaffetz, chance, child, chris, classified, clean, clinton, clintons, cnn, comey, coming, congress, conspiracy, correct, corrupt, corruption, cost, couldn, count, country, court, cover, coverage, crime, criminal, crooked, crowd, dad, daughter, dc, dead, dear, deep, democracy, democrat, democrats, deplorable, destroy, destroyed, director, dnc, doesn, donald, dont, dt, eest, elected, election, email, emails, en, evil, exposed, facts, failed, fair, ...]                                                                                                                                                                                                                                                                                                                                                                                                                                                                         \n",
       "1  [0hour1__, 20committee, _hankrearden, _makada_, abcnews, ac360, aca, acosta, adamparkhomenko, ajdelgado13, aleppo, allahpundit, allanbrauer, allinwithchris, alternet, amjoy, amjoyshow, amymek, ananavarro, andieiamwhoiam, angela_rye, anncoulter, ap, apple, aravosis, arimelber, armandodkos, auspol, bakari_sellers, bakedalaska, bannerite, basketofdeplorables, bencjacobs, benshapiro, bfraser747, billkristol, bipartisan, bleacherreport, bluewave2016, braddjaffy, breitbartnews, bretbaier, brexit, brithume, business, businessinsider, buzzfeednews, byronyork, callisto1947, carlbernstein, carminezozzora, cbsnews, cernovich, charlesmblow, chrislhayes, christichat, chuckwoolery, clewandowski_, climatechange, clinton, clintonkaine, clintons, cnnpolitics, comey, comeyresign, corrupthillary, corruption, cristinalaila1, crookedhillary, crooksandliars, cubs, curtishouck, dailycaller, dailykos, dailymail, dailynewsbin, dailysignal, danabashcnn, danahoule, danaperino, danpfeiffer, danriehl, darren32895836, daveweigel, davidaxelrod, davidcorndc, dcexaminer, ddale8, debramessing, deejay90192, demexit, demfromct, democrat, democrats, deplorable, devops, diamondandsilk, dikileaks, dineshdsouza, donaldjtrumpjr, ...]   \n",
       "2  [1st, 2016, activist, addict, advocate, agent, air, alum, america, american, animal, anti, art, ass, atheist, author, available, based, basketball, beach, bernie, black, blood, born, building, california, canada, cancer, cat, channel, child, christ, christian, city, civil, classic, college, com, come, communications, community, conservative, constitution, constitutional, contributor, correct, corrupt, criminal, culture, curious, data, dedicated, democrat, design, designer, developer, development, die, dir, discussion, dog, donald, economic, education, endorsements, enemy, english, entertainment, enthusiast, entrepreneur, ex, fair, famous, fan, fathers, fighting, film, florida, follow, followed, follower, foodie, freedom, friend, friends, funny, game, games, gay, geek, girl, globalist, god, grandmother, great, guy, happiness, hate, heart, helping, ...]                                                                                                                                                                                                                                                                                                                                                                \n",
       "\n",
       "   count  \n",
       "0  325    \n",
       "1  445    \n",
       "2  230    "
      ]
     },
     "execution_count": 201,
     "metadata": {},
     "output_type": "execute_result"
    }
   ],
   "source": [
    "LR_df_grouped = pd.DataFrame({'Grouped_Features' : LR_df.groupby(['Feature group'])['Features'].apply(lambda x: combineList(x))}).reset_index()  \n",
    "LR_df_grouped['count'] = LR_df_grouped.Grouped_Features.apply(len)\n",
    "LR_df_grouped"
   ]
  },
  {
   "cell_type": "markdown",
   "metadata": {},
   "source": [
    "** *\n",
    "## SVM Classification"
   ]
  },
  {
   "cell_type": "code",
   "execution_count": 53,
   "metadata": {},
   "outputs": [
    {
     "name": "stdout",
     "output_type": "stream",
     "text": [
      "test [1 1 0 0 0 0 1 1 0 0]\n",
      "pred [1 1 1 1 0 0 1 1 0 0]\n",
      "[[396  31]\n",
      " [ 39 258]]\n",
      "[ 0.91034483  0.89273356]\n",
      "[ 0.92740047  0.86868687]\n",
      "[ 0.9187935   0.88054608]\n"
     ]
    }
   ],
   "source": [
    "from sklearn import svm\n",
    "\n",
    "svm_clf = svm.SVC(kernel='linear', probability = True)\n",
    "svm_clf.fit(X_train,y_train)\n",
    "\n",
    "\n",
    "y_pred = svm_clf.predict(X_test)\n",
    "\n",
    "print(\"test\", y_test[:10])\n",
    "print(\"pred\", y_pred[:10])\n",
    "\n",
    "print(metrics.confusion_matrix(y_test,y_pred))\n",
    "print(metrics.precision_score(y_test,y_pred, average=None))   # Parameter \"average\" is requred if not a binary model\n",
    "print(metrics.recall_score(y_test,y_pred, average=None))      # Parameter \"average\" is requred if not a binary model\n",
    "print(metrics.f1_score(y_test,y_pred, average=None))          # Parameter \"average\" is requred if not a binary model"
   ]
  },
  {
   "cell_type": "code",
   "execution_count": 54,
   "metadata": {
    "collapsed": true
   },
   "outputs": [],
   "source": [
    "svm_cols = {'Features' : features , 'Coefficient' : svm_clf.coef_.tolist()[0]}"
   ]
  },
  {
   "cell_type": "code",
   "execution_count": 55,
   "metadata": {
    "collapsed": true
   },
   "outputs": [],
   "source": [
    "svm_df = pd.DataFrame(data = svm_cols)\n",
    "\n",
    "svm_df['Feature group'] = svm_df.index.tolist()\n",
    "svm_df['Feature group'] = svm_df['Feature group']//1000+1"
   ]
  },
  {
   "cell_type": "code",
   "execution_count": 56,
   "metadata": {},
   "outputs": [
    {
     "data": {
      "text/html": [
       "<div>\n",
       "<style>\n",
       "    .dataframe thead tr:only-child th {\n",
       "        text-align: right;\n",
       "    }\n",
       "\n",
       "    .dataframe thead th {\n",
       "        text-align: left;\n",
       "    }\n",
       "\n",
       "    .dataframe tbody tr th {\n",
       "        vertical-align: top;\n",
       "    }\n",
       "</style>\n",
       "<table border=\"1\" class=\"dataframe\">\n",
       "  <thead>\n",
       "    <tr style=\"text-align: right;\">\n",
       "      <th></th>\n",
       "      <th>Coefficient</th>\n",
       "      <th>Features</th>\n",
       "      <th>Feature group</th>\n",
       "    </tr>\n",
       "  </thead>\n",
       "  <tbody>\n",
       "    <tr>\n",
       "      <th>392</th>\n",
       "      <td>1.624400</td>\n",
       "      <td>gop</td>\n",
       "      <td>1</td>\n",
       "    </tr>\n",
       "    <tr>\n",
       "      <th>1406</th>\n",
       "      <td>1.603609</td>\n",
       "      <td>imwithher</td>\n",
       "      <td>2</td>\n",
       "    </tr>\n",
       "    <tr>\n",
       "      <th>1652</th>\n",
       "      <td>1.514245</td>\n",
       "      <td>nra</td>\n",
       "      <td>2</td>\n",
       "    </tr>\n",
       "    <tr>\n",
       "      <th>1963</th>\n",
       "      <td>1.312885</td>\n",
       "      <td>walshfreedom</td>\n",
       "      <td>2</td>\n",
       "    </tr>\n",
       "    <tr>\n",
       "      <th>2422</th>\n",
       "      <td>1.288031</td>\n",
       "      <td>heart</td>\n",
       "      <td>3</td>\n",
       "    </tr>\n",
       "    <tr>\n",
       "      <th>2459</th>\n",
       "      <td>1.143992</td>\n",
       "      <td>imwithher</td>\n",
       "      <td>3</td>\n",
       "    </tr>\n",
       "    <tr>\n",
       "      <th>196</th>\n",
       "      <td>1.135332</td>\n",
       "      <td>comey</td>\n",
       "      <td>1</td>\n",
       "    </tr>\n",
       "    <tr>\n",
       "      <th>297</th>\n",
       "      <td>1.124897</td>\n",
       "      <td>election</td>\n",
       "      <td>1</td>\n",
       "    </tr>\n",
       "    <tr>\n",
       "      <th>2370</th>\n",
       "      <td>1.091685</td>\n",
       "      <td>game</td>\n",
       "      <td>3</td>\n",
       "    </tr>\n",
       "    <tr>\n",
       "      <th>2677</th>\n",
       "      <td>1.089722</td>\n",
       "      <td>photos</td>\n",
       "      <td>3</td>\n",
       "    </tr>\n",
       "    <tr>\n",
       "      <th>1856</th>\n",
       "      <td>1.084723</td>\n",
       "      <td>teaparty</td>\n",
       "      <td>2</td>\n",
       "    </tr>\n",
       "    <tr>\n",
       "      <th>2517</th>\n",
       "      <td>1.072091</td>\n",
       "      <td>liberal</td>\n",
       "      <td>3</td>\n",
       "    </tr>\n",
       "    <tr>\n",
       "      <th>173</th>\n",
       "      <td>1.049430</td>\n",
       "      <td>child</td>\n",
       "      <td>1</td>\n",
       "    </tr>\n",
       "    <tr>\n",
       "      <th>1625</th>\n",
       "      <td>1.020135</td>\n",
       "      <td>nevertrump</td>\n",
       "      <td>2</td>\n",
       "    </tr>\n",
       "    <tr>\n",
       "      <th>2505</th>\n",
       "      <td>1.019061</td>\n",
       "      <td>leaders</td>\n",
       "      <td>3</td>\n",
       "    </tr>\n",
       "    <tr>\n",
       "      <th>320</th>\n",
       "      <td>1.015014</td>\n",
       "      <td>facts</td>\n",
       "      <td>1</td>\n",
       "    </tr>\n",
       "    <tr>\n",
       "      <th>713</th>\n",
       "      <td>1.011447</td>\n",
       "      <td>putin</td>\n",
       "      <td>1</td>\n",
       "    </tr>\n",
       "    <tr>\n",
       "      <th>946</th>\n",
       "      <td>1.001210</td>\n",
       "      <td>wasn</td>\n",
       "      <td>1</td>\n",
       "    </tr>\n",
       "    <tr>\n",
       "      <th>1584</th>\n",
       "      <td>0.996194</td>\n",
       "      <td>mmfa</td>\n",
       "      <td>2</td>\n",
       "    </tr>\n",
       "    <tr>\n",
       "      <th>1948</th>\n",
       "      <td>0.987162</td>\n",
       "      <td>vine</td>\n",
       "      <td>2</td>\n",
       "    </tr>\n",
       "    <tr>\n",
       "      <th>1860</th>\n",
       "      <td>0.982068</td>\n",
       "      <td>telegraphnews</td>\n",
       "      <td>2</td>\n",
       "    </tr>\n",
       "    <tr>\n",
       "      <th>2599</th>\n",
       "      <td>0.949893</td>\n",
       "      <td>movies</td>\n",
       "      <td>3</td>\n",
       "    </tr>\n",
       "    <tr>\n",
       "      <th>2477</th>\n",
       "      <td>0.942226</td>\n",
       "      <td>james</td>\n",
       "      <td>3</td>\n",
       "    </tr>\n",
       "    <tr>\n",
       "      <th>1462</th>\n",
       "      <td>0.941020</td>\n",
       "      <td>jonfavs</td>\n",
       "      <td>2</td>\n",
       "    </tr>\n",
       "    <tr>\n",
       "      <th>1065</th>\n",
       "      <td>0.939868</td>\n",
       "      <td>auspol</td>\n",
       "      <td>2</td>\n",
       "    </tr>\n",
       "  </tbody>\n",
       "</table>\n",
       "</div>"
      ],
      "text/plain": [
       "      Coefficient       Features  Feature group\n",
       "392   1.624400     gop            1            \n",
       "1406  1.603609     imwithher      2            \n",
       "1652  1.514245     nra            2            \n",
       "1963  1.312885     walshfreedom   2            \n",
       "2422  1.288031     heart          3            \n",
       "2459  1.143992     imwithher      3            \n",
       "196   1.135332     comey          1            \n",
       "297   1.124897     election       1            \n",
       "2370  1.091685     game           3            \n",
       "2677  1.089722     photos         3            \n",
       "1856  1.084723     teaparty       2            \n",
       "2517  1.072091     liberal        3            \n",
       "173   1.049430     child          1            \n",
       "1625  1.020135     nevertrump     2            \n",
       "2505  1.019061     leaders        3            \n",
       "320   1.015014     facts          1            \n",
       "713   1.011447     putin          1            \n",
       "946   1.001210     wasn           1            \n",
       "1584  0.996194     mmfa           2            \n",
       "1948  0.987162     vine           2            \n",
       "1860  0.982068     telegraphnews  2            \n",
       "2599  0.949893     movies         3            \n",
       "2477  0.942226     james          3            \n",
       "1462  0.941020     jonfavs        2            \n",
       "1065  0.939868     auspol         2            "
      ]
     },
     "execution_count": 56,
     "metadata": {},
     "output_type": "execute_result"
    }
   ],
   "source": [
    "svm_df.sort_values(by = 'Coefficient', ascending = False).head(25)"
   ]
  },
  {
   "cell_type": "code",
   "execution_count": 57,
   "metadata": {},
   "outputs": [
    {
     "data": {
      "text/html": [
       "<div>\n",
       "<style>\n",
       "    .dataframe thead tr:only-child th {\n",
       "        text-align: right;\n",
       "    }\n",
       "\n",
       "    .dataframe thead th {\n",
       "        text-align: left;\n",
       "    }\n",
       "\n",
       "    .dataframe tbody tr th {\n",
       "        vertical-align: top;\n",
       "    }\n",
       "</style>\n",
       "<table border=\"1\" class=\"dataframe\">\n",
       "  <thead>\n",
       "    <tr style=\"text-align: right;\">\n",
       "      <th></th>\n",
       "      <th>Coefficient</th>\n",
       "      <th>Features</th>\n",
       "      <th>Feature group</th>\n",
       "    </tr>\n",
       "  </thead>\n",
       "  <tbody>\n",
       "    <tr>\n",
       "      <th>437</th>\n",
       "      <td>-1.610097</td>\n",
       "      <td>hillary</td>\n",
       "      <td>1</td>\n",
       "    </tr>\n",
       "    <tr>\n",
       "      <th>2149</th>\n",
       "      <td>-1.347549</td>\n",
       "      <td>christian</td>\n",
       "      <td>3</td>\n",
       "    </tr>\n",
       "    <tr>\n",
       "      <th>1160</th>\n",
       "      <td>-1.325103</td>\n",
       "      <td>clinton</td>\n",
       "      <td>2</td>\n",
       "    </tr>\n",
       "    <tr>\n",
       "      <th>2179</th>\n",
       "      <td>-1.295165</td>\n",
       "      <td>conservative</td>\n",
       "      <td>3</td>\n",
       "    </tr>\n",
       "    <tr>\n",
       "      <th>213</th>\n",
       "      <td>-1.276431</td>\n",
       "      <td>corruption</td>\n",
       "      <td>1</td>\n",
       "    </tr>\n",
       "    <tr>\n",
       "      <th>212</th>\n",
       "      <td>-1.181477</td>\n",
       "      <td>corrupt</td>\n",
       "      <td>1</td>\n",
       "    </tr>\n",
       "    <tr>\n",
       "      <th>1561</th>\n",
       "      <td>-1.138750</td>\n",
       "      <td>megynkelly</td>\n",
       "      <td>2</td>\n",
       "    </tr>\n",
       "    <tr>\n",
       "      <th>1848</th>\n",
       "      <td>-1.136963</td>\n",
       "      <td>tammaramaiden1</td>\n",
       "      <td>2</td>\n",
       "    </tr>\n",
       "    <tr>\n",
       "      <th>1857</th>\n",
       "      <td>-1.079655</td>\n",
       "      <td>tech</td>\n",
       "      <td>2</td>\n",
       "    </tr>\n",
       "    <tr>\n",
       "      <th>1979</th>\n",
       "      <td>-1.049367</td>\n",
       "      <td>wikileaks</td>\n",
       "      <td>2</td>\n",
       "    </tr>\n",
       "    <tr>\n",
       "      <th>528</th>\n",
       "      <td>-1.042786</td>\n",
       "      <td>liberal</td>\n",
       "      <td>1</td>\n",
       "    </tr>\n",
       "    <tr>\n",
       "      <th>447</th>\n",
       "      <td>-1.024494</td>\n",
       "      <td>hot</td>\n",
       "      <td>1</td>\n",
       "    </tr>\n",
       "    <tr>\n",
       "      <th>2446</th>\n",
       "      <td>-1.009400</td>\n",
       "      <td>http</td>\n",
       "      <td>3</td>\n",
       "    </tr>\n",
       "    <tr>\n",
       "      <th>1313</th>\n",
       "      <td>-1.008874</td>\n",
       "      <td>foxnews</td>\n",
       "      <td>2</td>\n",
       "    </tr>\n",
       "    <tr>\n",
       "      <th>1024</th>\n",
       "      <td>-0.994404</td>\n",
       "      <td>allahpundit</td>\n",
       "      <td>2</td>\n",
       "    </tr>\n",
       "    <tr>\n",
       "      <th>1795</th>\n",
       "      <td>-0.988256</td>\n",
       "      <td>seanhannity</td>\n",
       "      <td>2</td>\n",
       "    </tr>\n",
       "    <tr>\n",
       "      <th>483</th>\n",
       "      <td>-0.987968</td>\n",
       "      <td>jail</td>\n",
       "      <td>1</td>\n",
       "    </tr>\n",
       "    <tr>\n",
       "      <th>255</th>\n",
       "      <td>-0.976375</td>\n",
       "      <td>democrat</td>\n",
       "      <td>1</td>\n",
       "    </tr>\n",
       "    <tr>\n",
       "      <th>1665</th>\n",
       "      <td>-0.970655</td>\n",
       "      <td>obamacare</td>\n",
       "      <td>2</td>\n",
       "    </tr>\n",
       "    <tr>\n",
       "      <th>529</th>\n",
       "      <td>-0.960780</td>\n",
       "      <td>liberals</td>\n",
       "      <td>1</td>\n",
       "    </tr>\n",
       "    <tr>\n",
       "      <th>1427</th>\n",
       "      <td>-0.934611</td>\n",
       "      <td>jackposobiec</td>\n",
       "      <td>2</td>\n",
       "    </tr>\n",
       "    <tr>\n",
       "      <th>1260</th>\n",
       "      <td>-0.933278</td>\n",
       "      <td>draintheswamp</td>\n",
       "      <td>2</td>\n",
       "    </tr>\n",
       "    <tr>\n",
       "      <th>521</th>\n",
       "      <td>-0.920486</td>\n",
       "      <td>left</td>\n",
       "      <td>1</td>\n",
       "    </tr>\n",
       "    <tr>\n",
       "      <th>1504</th>\n",
       "      <td>-0.913215</td>\n",
       "      <td>kurtschlichter</td>\n",
       "      <td>2</td>\n",
       "    </tr>\n",
       "    <tr>\n",
       "      <th>2961</th>\n",
       "      <td>-0.893095</td>\n",
       "      <td>water</td>\n",
       "      <td>3</td>\n",
       "    </tr>\n",
       "  </tbody>\n",
       "</table>\n",
       "</div>"
      ],
      "text/plain": [
       "      Coefficient        Features  Feature group\n",
       "437  -1.610097     hillary         1            \n",
       "2149 -1.347549     christian       3            \n",
       "1160 -1.325103     clinton         2            \n",
       "2179 -1.295165     conservative    3            \n",
       "213  -1.276431     corruption      1            \n",
       "212  -1.181477     corrupt         1            \n",
       "1561 -1.138750     megynkelly      2            \n",
       "1848 -1.136963     tammaramaiden1  2            \n",
       "1857 -1.079655     tech            2            \n",
       "1979 -1.049367     wikileaks       2            \n",
       "528  -1.042786     liberal         1            \n",
       "447  -1.024494     hot             1            \n",
       "2446 -1.009400     http            3            \n",
       "1313 -1.008874     foxnews         2            \n",
       "1024 -0.994404     allahpundit     2            \n",
       "1795 -0.988256     seanhannity     2            \n",
       "483  -0.987968     jail            1            \n",
       "255  -0.976375     democrat        1            \n",
       "1665 -0.970655     obamacare       2            \n",
       "529  -0.960780     liberals        1            \n",
       "1427 -0.934611     jackposobiec    2            \n",
       "1260 -0.933278     draintheswamp   2            \n",
       "521  -0.920486     left            1            \n",
       "1504 -0.913215     kurtschlichter  2            \n",
       "2961 -0.893095     water           3            "
      ]
     },
     "execution_count": 57,
     "metadata": {},
     "output_type": "execute_result"
    }
   ],
   "source": [
    "svm_df.sort_values(by = 'Coefficient', ascending = True).head(25)"
   ]
  },
  {
   "cell_type": "markdown",
   "metadata": {},
   "source": [
    "** *\n",
    "## Knn 5-fold classifier"
   ]
  },
  {
   "cell_type": "markdown",
   "metadata": {},
   "source": [
    "** *\n",
    "### Find optimal k-value"
   ]
  },
  {
   "cell_type": "code",
   "execution_count": 61,
   "metadata": {},
   "outputs": [
    {
     "name": "stdout",
     "output_type": "stream",
     "text": [
      "[0.71865088097643637, 0.63563202937900543, 0.7595828423620905, 0.70147108431422756, 0.7767944360034138, 0.7316454373527983, 0.77586389620045004, 0.74221686336377024, 0.78208086047846392, 0.75872487412934508, 0.78932879711657744, 0.7578871443630133, 0.7843986578977401, 0.75697011569219919, 0.78341879381622814, 0.76493126439294312, 0.79160640251829906, 0.77005279419033079, 0.78944181700192806, 0.7714388808692505, 0.78745474648067471, 0.77178957647263924, 0.79065179363261928, 0.77077960804158185, 0.79444352524631956, 0.77697438848619038, 0.79592965548611405, 0.7747287852891398, 0.79508461156913435, 0.77600903310656244, 0.78703391428610359, 0.77442652652292865, 0.79098050979395285, 0.77285360179488871, 0.79561863823103862, 0.77246280654049559, 0.79317413020302008, 0.7714069595433708, 0.7879470970113186, 0.76476057895487681, 0.78472130766804193, 0.76280494564535184, 0.7855167425161923, 0.76162767073796045, 0.78024179355613899, 0.75697344485124707, 0.77596054176801998, 0.74793867169618211, 0.76991286270452119, 0.74933167022923031, 0.7625014913074003, 0.74441055314937632, 0.76548913421806197, 0.73678684857429078, 0.7564208406700319, 0.72996994138386795, 0.74691000047528633, 0.72366116513240186, 0.74426148239127699, 0.72134451255029552, 0.74139822027954172, 0.71718699183586621, 0.73301293848069993, 0.71069500516342521, 0.726400268996368, 0.70147648401195339, 0.72254906638442518, 0.69930975577434773, 0.72437053282114205, 0.69732792677989652, 0.71585998526027372, 0.69234669327170839, 0.70996208908601199, 0.67956315934625589, 0.70032371530091253, 0.67661439614234209, 0.69810658662799907, 0.67194956374689552, 0.69310384398909763, 0.6700237322720286, 0.68572813155532797, 0.66448722003965877, 0.6821376768771682, 0.65898624767818581, 0.67706511565370575, 0.65092599304434007, 0.6697338474316421, 0.64877270364386297, 0.66762885330230581, 0.64493477530027798, 0.66168674826095597, 0.65131042963393715, 0.66379552235929373, 0.65082475729806877, 0.66639123745689355, 0.65162726295735285, 0.67062964641090872, 0.65350992600961866, 0.6720070841000878, 0.66162034360051214]\n"
     ]
    }
   ],
   "source": [
    "from sklearn.model_selection import cross_val_score\n",
    "from sklearn.neighbors import KNeighborsClassifier\n",
    "\n",
    "k_range = list(range(1, 101))\n",
    "k_scores = []\n",
    "for k in k_range:\n",
    "    knn = KNeighborsClassifier(n_neighbors=k)\n",
    "    scores = cross_val_score(knn, X, y, cv=5, scoring='f1')\n",
    "    k_scores.append(scores.mean())\n",
    "        print(k)\n",
    "print(k_scores)"
   ]
  },
  {
   "cell_type": "code",
   "execution_count": 67,
   "metadata": {},
   "outputs": [
    {
     "name": "stdout",
     "output_type": "stream",
     "text": [
      "26\n"
     ]
    }
   ],
   "source": [
    "k_max = k_scores.index(max(k_scores))\n",
    "print(k_max)"
   ]
  },
  {
   "cell_type": "code",
   "execution_count": 68,
   "metadata": {},
   "outputs": [
    {
     "data": {
      "text/plain": [
       "0.79592965548611405"
      ]
     },
     "execution_count": 68,
     "metadata": {},
     "output_type": "execute_result"
    }
   ],
   "source": [
    "max(k_scores)"
   ]
  },
  {
   "cell_type": "code",
   "execution_count": 69,
   "metadata": {},
   "outputs": [
    {
     "data": {
      "image/png": "[encoded data removed]",
      "text/plain": [
       "<matplotlib.figure.Figure at 0x1761f817b00>"
      ]
     },
     "metadata": {},
     "output_type": "display_data"
    }
   ],
   "source": [
    "import matplotlib.pyplot as plt\n",
    "%matplotlib inline\n",
    "\n",
    "# plot the value of K for KNN (x-axis) versus the cross-validated accuracy (y-axis)\n",
    "plt.plot(k_range, k_scores)\n",
    "plt.xlabel('Value of K for KNN')\n",
    "plt.ylabel('F1 Score based on Cross-Validation')\n",
    "plt.show()"
   ]
  },
  {
   "cell_type": "code",
   "execution_count": 70,
   "metadata": {
    "collapsed": true
   },
   "outputs": [],
   "source": [
    "knn = KNeighborsClassifier(n_neighbors=k_max)\n",
    "scores = cross_val_score(knn, X, y, cv=5, scoring='f1_weighted')"
   ]
  },
  {
   "cell_type": "code",
   "execution_count": 71,
   "metadata": {},
   "outputs": [
    {
     "name": "stdout",
     "output_type": "stream",
     "text": [
      "0.776974388486\n"
     ]
    }
   ],
   "source": [
    "print(cross_val_score(knn, X, y, cv=5, scoring='f1').mean())"
   ]
  },
  {
   "cell_type": "code",
   "execution_count": 72,
   "metadata": {},
   "outputs": [
    {
     "name": "stdout",
     "output_type": "stream",
     "text": [
      "0.80388082248\n"
     ]
    }
   ],
   "source": [
    "knn.fit(X_train, y_train)\n",
    "y_pred = knn.predict(X_test)\n",
    "\n",
    "# you need to set parameter \"average\" because this is multi-class classfier\n",
    "print(metrics.f1_score(y_test, y_pred, average= 'weighted'))"
   ]
  },
  {
   "cell_type": "code",
   "execution_count": 73,
   "metadata": {},
   "outputs": [
    {
     "name": "stdout",
     "output_type": "stream",
     "text": [
      "[[393  34]\n",
      " [104 193]]\n",
      "[ 0.79074447  0.85022026]\n",
      "[ 0.92037471  0.64983165]\n",
      "[ 0.85064935  0.73664122]\n"
     ]
    }
   ],
   "source": [
    "print(metrics.confusion_matrix(y_test,y_pred))\n",
    "print(metrics.precision_score(y_test,y_pred, average=None))   # Parameter \"average\" is requred if not a binary model\n",
    "print(metrics.recall_score(y_test,y_pred, average=None))      # Parameter \"average\" is requred if not a binary model\n",
    "print(metrics.f1_score(y_test,y_pred, average=None))          # Parameter \"average\" is requred if not a binary model"
   ]
  },
  {
   "cell_type": "code",
   "execution_count": 74,
   "metadata": {},
   "outputs": [
    {
     "data": {
      "text/plain": [
       "array([[ 0.,  0.,  0., ...,  0.,  0.,  0.],\n",
       "       [ 0.,  0.,  0., ...,  0.,  0.,  0.],\n",
       "       [ 0.,  0.,  0., ...,  0.,  0.,  0.],\n",
       "       ..., \n",
       "       [ 0.,  0.,  0., ...,  0.,  0.,  0.],\n",
       "       [ 0.,  0.,  0., ...,  0.,  0.,  0.],\n",
       "       [ 0.,  0.,  0., ...,  0.,  0.,  0.]])"
      ]
     },
     "execution_count": 74,
     "metadata": {},
     "output_type": "execute_result"
    }
   ],
   "source": [
    "from sklearn.neighbors import kneighbors_graph\n",
    "A = kneighbors_graph(X_test, 2, mode='distance', include_self=False)\n",
    "A.toarray()"
   ]
  },
  {
   "cell_type": "markdown",
   "metadata": {},
   "source": [
    "#search accuracy of each feature"
   ]
  },
  {
   "cell_type": "code",
   "execution_count": null,
   "metadata": {},
   "outputs": [
    {
     "name": "stdout",
     "output_type": "stream",
     "text": [
      "Feature  Accuracy\n"
     ]
    }
   ],
   "source": [
    "import numpy as np\n",
    "from sklearn import datasets\n",
    "from sklearn.neighbors import KNeighborsClassifier\n",
    "from sklearn.model_selection import cross_val_score\n",
    "\n",
    "n_feats = X_test.shape[1]\n",
    "\n",
    "print('Feature  Accuracy')\n",
    "res = []\n",
    "for i in range(3000):\n",
    "    k = X_test[:, i].reshape(-1, 1)\n",
    "    scores = cross_val_score(knn, k, y_test)\n",
    "    res.append(scores.mean())"
   ]
  },
  {
   "cell_type": "code",
   "execution_count": 76,
   "metadata": {},
   "outputs": [
    {
     "data": {
      "text/plain": [
       "(724, 1)"
      ]
     },
     "execution_count": 76,
     "metadata": {},
     "output_type": "execute_result"
    }
   ],
   "source": [
    "k.shape"
   ]
  },
  {
   "cell_type": "code",
   "execution_count": 77,
   "metadata": {
    "collapsed": true
   },
   "outputs": [],
   "source": [
    "knn_cols = {'Features' : features , 'Accuracy' : res}"
   ]
  },
  {
   "cell_type": "code",
   "execution_count": 78,
   "metadata": {
    "collapsed": true
   },
   "outputs": [],
   "source": [
    "knn_df = pd.DataFrame(data = knn_cols)\n",
    "\n",
    "knn_df['Feature group'] = knn_df.index.tolist()\n",
    "knn_df['Feature group'] = knn_df['Feature group']//1000+1"
   ]
  },
  {
   "cell_type": "code",
   "execution_count": 79,
   "metadata": {},
   "outputs": [
    {
     "data": {
      "text/html": [
       "<div>\n",
       "<style>\n",
       "    .dataframe thead tr:only-child th {\n",
       "        text-align: right;\n",
       "    }\n",
       "\n",
       "    .dataframe thead th {\n",
       "        text-align: left;\n",
       "    }\n",
       "\n",
       "    .dataframe tbody tr th {\n",
       "        vertical-align: top;\n",
       "    }\n",
       "</style>\n",
       "<table border=\"1\" class=\"dataframe\">\n",
       "  <thead>\n",
       "    <tr style=\"text-align: right;\">\n",
       "      <th></th>\n",
       "      <th>Accuracy</th>\n",
       "      <th>Features</th>\n",
       "      <th>Feature group</th>\n",
       "    </tr>\n",
       "  </thead>\n",
       "  <tbody>\n",
       "    <tr>\n",
       "      <th>1467</th>\n",
       "      <td>0.704457</td>\n",
       "      <td>joyannreid</td>\n",
       "      <td>2</td>\n",
       "    </tr>\n",
       "    <tr>\n",
       "      <th>392</th>\n",
       "      <td>0.671262</td>\n",
       "      <td>gop</td>\n",
       "      <td>1</td>\n",
       "    </tr>\n",
       "    <tr>\n",
       "      <th>1503</th>\n",
       "      <td>0.658859</td>\n",
       "      <td>kurteichenwald</td>\n",
       "      <td>2</td>\n",
       "    </tr>\n",
       "    <tr>\n",
       "      <th>196</th>\n",
       "      <td>0.651967</td>\n",
       "      <td>comey</td>\n",
       "      <td>1</td>\n",
       "    </tr>\n",
       "    <tr>\n",
       "      <th>1406</th>\n",
       "      <td>0.650589</td>\n",
       "      <td>imwithher</td>\n",
       "      <td>2</td>\n",
       "    </tr>\n",
       "    <tr>\n",
       "      <th>744</th>\n",
       "      <td>0.650561</td>\n",
       "      <td>republican</td>\n",
       "      <td>1</td>\n",
       "    </tr>\n",
       "    <tr>\n",
       "      <th>1527</th>\n",
       "      <td>0.647772</td>\n",
       "      <td>maddow</td>\n",
       "      <td>2</td>\n",
       "    </tr>\n",
       "    <tr>\n",
       "      <th>1149</th>\n",
       "      <td>0.645057</td>\n",
       "      <td>chrislhayes</td>\n",
       "      <td>2</td>\n",
       "    </tr>\n",
       "    <tr>\n",
       "      <th>1486</th>\n",
       "      <td>0.645034</td>\n",
       "      <td>keitholbermann</td>\n",
       "      <td>2</td>\n",
       "    </tr>\n",
       "    <tr>\n",
       "      <th>437</th>\n",
       "      <td>0.645028</td>\n",
       "      <td>hillary</td>\n",
       "      <td>1</td>\n",
       "    </tr>\n",
       "    <tr>\n",
       "      <th>188</th>\n",
       "      <td>0.645011</td>\n",
       "      <td>clinton</td>\n",
       "      <td>1</td>\n",
       "    </tr>\n",
       "    <tr>\n",
       "      <th>1292</th>\n",
       "      <td>0.642291</td>\n",
       "      <td>fahrenthold</td>\n",
       "      <td>2</td>\n",
       "    </tr>\n",
       "    <tr>\n",
       "      <th>1718</th>\n",
       "      <td>0.640879</td>\n",
       "      <td>politicususa</td>\n",
       "      <td>2</td>\n",
       "    </tr>\n",
       "    <tr>\n",
       "      <th>165</th>\n",
       "      <td>0.639490</td>\n",
       "      <td>chaffetz</td>\n",
       "      <td>1</td>\n",
       "    </tr>\n",
       "    <tr>\n",
       "      <th>745</th>\n",
       "      <td>0.638141</td>\n",
       "      <td>republicans</td>\n",
       "      <td>1</td>\n",
       "    </tr>\n",
       "    <tr>\n",
       "      <th>750</th>\n",
       "      <td>0.638113</td>\n",
       "      <td>returns</td>\n",
       "      <td>1</td>\n",
       "    </tr>\n",
       "    <tr>\n",
       "      <th>1395</th>\n",
       "      <td>0.636724</td>\n",
       "      <td>huffpostpol</td>\n",
       "      <td>2</td>\n",
       "    </tr>\n",
       "    <tr>\n",
       "      <th>1511</th>\n",
       "      <td>0.635363</td>\n",
       "      <td>lawrence</td>\n",
       "      <td>2</td>\n",
       "    </tr>\n",
       "    <tr>\n",
       "      <th>1039</th>\n",
       "      <td>0.629848</td>\n",
       "      <td>amjoyshow</td>\n",
       "      <td>2</td>\n",
       "    </tr>\n",
       "    <tr>\n",
       "      <th>722</th>\n",
       "      <td>0.629842</td>\n",
       "      <td>rape</td>\n",
       "      <td>1</td>\n",
       "    </tr>\n",
       "    <tr>\n",
       "      <th>1963</th>\n",
       "      <td>0.628465</td>\n",
       "      <td>walshfreedom</td>\n",
       "      <td>2</td>\n",
       "    </tr>\n",
       "    <tr>\n",
       "      <th>1870</th>\n",
       "      <td>0.625722</td>\n",
       "      <td>thedailybeast</td>\n",
       "      <td>2</td>\n",
       "    </tr>\n",
       "    <tr>\n",
       "      <th>1346</th>\n",
       "      <td>0.625699</td>\n",
       "      <td>gop</td>\n",
       "      <td>2</td>\n",
       "    </tr>\n",
       "    <tr>\n",
       "      <th>320</th>\n",
       "      <td>0.624344</td>\n",
       "      <td>facts</td>\n",
       "      <td>1</td>\n",
       "    </tr>\n",
       "    <tr>\n",
       "      <th>1903</th>\n",
       "      <td>0.624321</td>\n",
       "      <td>tpm</td>\n",
       "      <td>2</td>\n",
       "    </tr>\n",
       "    <tr>\n",
       "      <th>1462</th>\n",
       "      <td>0.624321</td>\n",
       "      <td>jonfavs</td>\n",
       "      <td>2</td>\n",
       "    </tr>\n",
       "    <tr>\n",
       "      <th>1465</th>\n",
       "      <td>0.624316</td>\n",
       "      <td>joshtpm</td>\n",
       "      <td>2</td>\n",
       "    </tr>\n",
       "    <tr>\n",
       "      <th>1822</th>\n",
       "      <td>0.624298</td>\n",
       "      <td>sopandeb</td>\n",
       "      <td>2</td>\n",
       "    </tr>\n",
       "    <tr>\n",
       "      <th>94</th>\n",
       "      <td>0.624298</td>\n",
       "      <td>assault</td>\n",
       "      <td>1</td>\n",
       "    </tr>\n",
       "    <tr>\n",
       "      <th>1815</th>\n",
       "      <td>0.622950</td>\n",
       "      <td>slate</td>\n",
       "      <td>2</td>\n",
       "    </tr>\n",
       "    <tr>\n",
       "      <th>...</th>\n",
       "      <td>...</td>\n",
       "      <td>...</td>\n",
       "      <td>...</td>\n",
       "    </tr>\n",
       "    <tr>\n",
       "      <th>549</th>\n",
       "      <td>0.560772</td>\n",
       "      <td>long</td>\n",
       "      <td>1</td>\n",
       "    </tr>\n",
       "    <tr>\n",
       "      <th>486</th>\n",
       "      <td>0.560772</td>\n",
       "      <td>job</td>\n",
       "      <td>1</td>\n",
       "    </tr>\n",
       "    <tr>\n",
       "      <th>191</th>\n",
       "      <td>0.560760</td>\n",
       "      <td>cnn</td>\n",
       "      <td>1</td>\n",
       "    </tr>\n",
       "    <tr>\n",
       "      <th>167</th>\n",
       "      <td>0.560715</td>\n",
       "      <td>change</td>\n",
       "      <td>1</td>\n",
       "    </tr>\n",
       "    <tr>\n",
       "      <th>390</th>\n",
       "      <td>0.559377</td>\n",
       "      <td>good</td>\n",
       "      <td>1</td>\n",
       "    </tr>\n",
       "    <tr>\n",
       "      <th>563</th>\n",
       "      <td>0.557988</td>\n",
       "      <td>love</td>\n",
       "      <td>1</td>\n",
       "    </tr>\n",
       "    <tr>\n",
       "      <th>573</th>\n",
       "      <td>0.556674</td>\n",
       "      <td>makes</td>\n",
       "      <td>1</td>\n",
       "    </tr>\n",
       "    <tr>\n",
       "      <th>452</th>\n",
       "      <td>0.555222</td>\n",
       "      <td>hrc</td>\n",
       "      <td>1</td>\n",
       "    </tr>\n",
       "    <tr>\n",
       "      <th>738</th>\n",
       "      <td>0.555199</td>\n",
       "      <td>remember</td>\n",
       "      <td>1</td>\n",
       "    </tr>\n",
       "    <tr>\n",
       "      <th>387</th>\n",
       "      <td>0.553890</td>\n",
       "      <td>going</td>\n",
       "      <td>1</td>\n",
       "    </tr>\n",
       "    <tr>\n",
       "      <th>278</th>\n",
       "      <td>0.553856</td>\n",
       "      <td>doing</td>\n",
       "      <td>1</td>\n",
       "    </tr>\n",
       "    <tr>\n",
       "      <th>624</th>\n",
       "      <td>0.551090</td>\n",
       "      <td>news</td>\n",
       "      <td>1</td>\n",
       "    </tr>\n",
       "    <tr>\n",
       "      <th>197</th>\n",
       "      <td>0.551084</td>\n",
       "      <td>coming</td>\n",
       "      <td>1</td>\n",
       "    </tr>\n",
       "    <tr>\n",
       "      <th>867</th>\n",
       "      <td>0.551050</td>\n",
       "      <td>team</td>\n",
       "      <td>1</td>\n",
       "    </tr>\n",
       "    <tr>\n",
       "      <th>652</th>\n",
       "      <td>0.549667</td>\n",
       "      <td>opening</td>\n",
       "      <td>1</td>\n",
       "    </tr>\n",
       "    <tr>\n",
       "      <th>309</th>\n",
       "      <td>0.549661</td>\n",
       "      <td>evil</td>\n",
       "      <td>1</td>\n",
       "    </tr>\n",
       "    <tr>\n",
       "      <th>267</th>\n",
       "      <td>0.548347</td>\n",
       "      <td>didn</td>\n",
       "      <td>1</td>\n",
       "    </tr>\n",
       "    <tr>\n",
       "      <th>739</th>\n",
       "      <td>0.548284</td>\n",
       "      <td>reopening</td>\n",
       "      <td>1</td>\n",
       "    </tr>\n",
       "    <tr>\n",
       "      <th>1380</th>\n",
       "      <td>0.546941</td>\n",
       "      <td>hillaryclinton</td>\n",
       "      <td>2</td>\n",
       "    </tr>\n",
       "    <tr>\n",
       "      <th>375</th>\n",
       "      <td>0.546906</td>\n",
       "      <td>gets</td>\n",
       "      <td>1</td>\n",
       "    </tr>\n",
       "    <tr>\n",
       "      <th>501</th>\n",
       "      <td>0.546901</td>\n",
       "      <td>killing</td>\n",
       "      <td>1</td>\n",
       "    </tr>\n",
       "    <tr>\n",
       "      <th>285</th>\n",
       "      <td>0.546901</td>\n",
       "      <td>drop</td>\n",
       "      <td>1</td>\n",
       "    </tr>\n",
       "    <tr>\n",
       "      <th>505</th>\n",
       "      <td>0.545597</td>\n",
       "      <td>know</td>\n",
       "      <td>1</td>\n",
       "    </tr>\n",
       "    <tr>\n",
       "      <th>194</th>\n",
       "      <td>0.545535</td>\n",
       "      <td>come</td>\n",
       "      <td>1</td>\n",
       "    </tr>\n",
       "    <tr>\n",
       "      <th>98</th>\n",
       "      <td>0.545535</td>\n",
       "      <td>away</td>\n",
       "      <td>1</td>\n",
       "    </tr>\n",
       "    <tr>\n",
       "      <th>315</th>\n",
       "      <td>0.544134</td>\n",
       "      <td>exposed</td>\n",
       "      <td>1</td>\n",
       "    </tr>\n",
       "    <tr>\n",
       "      <th>795</th>\n",
       "      <td>0.544134</td>\n",
       "      <td>server</td>\n",
       "      <td>1</td>\n",
       "    </tr>\n",
       "    <tr>\n",
       "      <th>393</th>\n",
       "      <td>0.542803</td>\n",
       "      <td>got</td>\n",
       "      <td>1</td>\n",
       "    </tr>\n",
       "    <tr>\n",
       "      <th>758</th>\n",
       "      <td>0.542797</td>\n",
       "      <td>right</td>\n",
       "      <td>1</td>\n",
       "    </tr>\n",
       "    <tr>\n",
       "      <th>962</th>\n",
       "      <td>0.542791</td>\n",
       "      <td>win</td>\n",
       "      <td>1</td>\n",
       "    </tr>\n",
       "  </tbody>\n",
       "</table>\n",
       "<p>2975 rows × 3 columns</p>\n",
       "</div>"
      ],
      "text/plain": [
       "      Accuracy        Features  Feature group\n",
       "1467  0.704457  joyannreid      2            \n",
       "392   0.671262  gop             1            \n",
       "1503  0.658859  kurteichenwald  2            \n",
       "196   0.651967  comey           1            \n",
       "1406  0.650589  imwithher       2            \n",
       "744   0.650561  republican      1            \n",
       "1527  0.647772  maddow          2            \n",
       "1149  0.645057  chrislhayes     2            \n",
       "1486  0.645034  keitholbermann  2            \n",
       "437   0.645028  hillary         1            \n",
       "188   0.645011  clinton         1            \n",
       "1292  0.642291  fahrenthold     2            \n",
       "1718  0.640879  politicususa    2            \n",
       "165   0.639490  chaffetz        1            \n",
       "745   0.638141  republicans     1            \n",
       "750   0.638113  returns         1            \n",
       "1395  0.636724  huffpostpol     2            \n",
       "1511  0.635363  lawrence        2            \n",
       "1039  0.629848  amjoyshow       2            \n",
       "722   0.629842  rape            1            \n",
       "1963  0.628465  walshfreedom    2            \n",
       "1870  0.625722  thedailybeast   2            \n",
       "1346  0.625699  gop             2            \n",
       "320   0.624344  facts           1            \n",
       "1903  0.624321  tpm             2            \n",
       "1462  0.624321  jonfavs         2            \n",
       "1465  0.624316  joshtpm         2            \n",
       "1822  0.624298  sopandeb        2            \n",
       "94    0.624298  assault         1            \n",
       "1815  0.622950  slate           2            \n",
       "...        ...    ...          ..            \n",
       "549   0.560772  long            1            \n",
       "486   0.560772  job             1            \n",
       "191   0.560760  cnn             1            \n",
       "167   0.560715  change          1            \n",
       "390   0.559377  good            1            \n",
       "563   0.557988  love            1            \n",
       "573   0.556674  makes           1            \n",
       "452   0.555222  hrc             1            \n",
       "738   0.555199  remember        1            \n",
       "387   0.553890  going           1            \n",
       "278   0.553856  doing           1            \n",
       "624   0.551090  news            1            \n",
       "197   0.551084  coming          1            \n",
       "867   0.551050  team            1            \n",
       "652   0.549667  opening         1            \n",
       "309   0.549661  evil            1            \n",
       "267   0.548347  didn            1            \n",
       "739   0.548284  reopening       1            \n",
       "1380  0.546941  hillaryclinton  2            \n",
       "375   0.546906  gets            1            \n",
       "501   0.546901  killing         1            \n",
       "285   0.546901  drop            1            \n",
       "505   0.545597  know            1            \n",
       "194   0.545535  come            1            \n",
       "98    0.545535  away            1            \n",
       "315   0.544134  exposed         1            \n",
       "795   0.544134  server          1            \n",
       "393   0.542803  got             1            \n",
       "758   0.542797  right           1            \n",
       "962   0.542791  win             1            \n",
       "\n",
       "[2975 rows x 3 columns]"
      ]
     },
     "execution_count": 79,
     "metadata": {},
     "output_type": "execute_result"
    }
   ],
   "source": [
    "knn_df.sort_values(by = 'Accuracy', ascending = False)[:-25]\n",
    "# knn_df.sort_values(by = 'Accuracy', ascending = False)[:-25]"
   ]
  },
  {
   "cell_type": "code",
   "execution_count": null,
   "metadata": {
    "collapsed": true
   },
   "outputs": [],
   "source": []
  },
  {
   "cell_type": "code",
   "execution_count": null,
   "metadata": {
    "collapsed": true
   },
   "outputs": [],
   "source": []
  }
 ],
 "metadata": {
  "kernelspec": {
   "display_name": "Python 3",
   "language": "python",
   "name": "python3"
  },
  "language_info": {
   "codemirror_mode": {
    "name": "ipython",
    "version": 3
   },
   "file_extension": ".py",
   "mimetype": "text/x-python",
   "name": "python",
   "nbconvert_exporter": "python",
   "pygments_lexer": "ipython3",
   "version": "3.6.4"
  }
 },
 "nbformat": 4,
 "nbformat_minor": 2
}
